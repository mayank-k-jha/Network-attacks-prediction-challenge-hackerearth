{
 "cells": [
  {
   "cell_type": "code",
   "execution_count": 23,
   "metadata": {
    "collapsed": true
   },
   "outputs": [],
   "source": [
    "import pandas as pd\n",
    "import numpy as np\n",
    "import matplotlib.pyplot as plt\n",
    "import seaborn as sns"
   ]
  },
  {
   "cell_type": "code",
   "execution_count": 24,
   "metadata": {
    "collapsed": true
   },
   "outputs": [],
   "source": [
    "train=pd.read_csv('train_data.csv')"
   ]
  },
  {
   "cell_type": "code",
   "execution_count": 25,
   "metadata": {
    "collapsed": true
   },
   "outputs": [],
   "source": [
    "test=pd.read_csv('test_data.csv')"
   ]
  },
  {
   "cell_type": "code",
   "execution_count": 26,
   "metadata": {},
   "outputs": [
    {
     "name": "stdout",
     "output_type": "stream",
     "text": [
      "(169307, 43) Index(['connection_id', 'cont_1', 'cont_2', 'cont_3', 'cont_4', 'cont_5',\n",
      "       'cont_6', 'cont_7', 'cont_8', 'cont_9', 'cont_10', 'cont_11', 'cont_12',\n",
      "       'cont_13', 'cont_14', 'cont_15', 'cont_16', 'cont_17', 'cont_18',\n",
      "       'cat_1', 'cat_2', 'cat_3', 'cat_4', 'cat_5', 'cat_6', 'cat_7', 'cat_8',\n",
      "       'cat_9', 'cat_10', 'cat_11', 'cat_12', 'cat_13', 'cat_14', 'cat_15',\n",
      "       'cat_16', 'cat_17', 'cat_18', 'cat_19', 'cat_20', 'cat_21', 'cat_22',\n",
      "       'cat_23', 'target'],\n",
      "      dtype='object')\n"
     ]
    }
   ],
   "source": [
    "print(train.shape,train.columns)"
   ]
  },
  {
   "cell_type": "code",
   "execution_count": 27,
   "metadata": {
    "collapsed": true
   },
   "outputs": [],
   "source": [
    "def get_features(tmp):\n",
    "    return [x for x in tmp.columns if x not in ['connection_id','target']]\n",
    "\n",
    "def free():\n",
    "    return gc.collect()\n",
    "\n",
    "def plot_(tmp,an=True):\n",
    "    plt.figure(figsize=(15,10))\n",
    "    sns.heatmap(data=tmp.corr(),annot=an)\n",
    "    plt.show()\n",
    "    \n",
    "def print_full(x):\n",
    "    pd.set_option('display.max_rows', len(x))\n",
    "    print(x)\n",
    "    pd.reset_option('display.max_rows')    "
   ]
  },
  {
   "cell_type": "code",
   "execution_count": 28,
   "metadata": {
    "collapsed": true
   },
   "outputs": [],
   "source": [
    "#print(train.isnull().sum())"
   ]
  },
  {
   "cell_type": "code",
   "execution_count": 29,
   "metadata": {
    "collapsed": true
   },
   "outputs": [],
   "source": [
    "from sklearn.decomposition import PCA"
   ]
  },
  {
   "cell_type": "code",
   "execution_count": 30,
   "metadata": {
    "collapsed": true
   },
   "outputs": [],
   "source": [
    "# pca=PCA(n_components=28,svd_solver='full',random_state=1996)\n",
    "# pca.fit(train)"
   ]
  },
  {
   "cell_type": "code",
   "execution_count": 31,
   "metadata": {
    "collapsed": true
   },
   "outputs": [],
   "source": [
    "# print(pca.explained_variance_ratio_.sum())"
   ]
  },
  {
   "cell_type": "code",
   "execution_count": 32,
   "metadata": {
    "collapsed": true
   },
   "outputs": [],
   "source": [
    "# train=pca.transform(train)\n",
    "# test=pca.transform(test)"
   ]
  },
  {
   "cell_type": "code",
   "execution_count": 33,
   "metadata": {},
   "outputs": [
    {
     "name": "stdout",
     "output_type": "stream",
     "text": [
      "cat_17  -  0\n"
     ]
    }
   ],
   "source": [
    "for i in train.columns:\n",
    "    if (len(train[train[i]==0])==len(train)):\n",
    "        print(i,' - ',len(train)-len(train[i][train[i]==0]))"
   ]
  },
  {
   "cell_type": "code",
   "execution_count": 34,
   "metadata": {},
   "outputs": [
    {
     "name": "stdout",
     "output_type": "stream",
     "text": [
      "cat_6\n",
      "cat_17\n",
      "cat_18\n"
     ]
    }
   ],
   "source": [
    "for i in test.columns:\n",
    "    if (len(test[test[i]==0])==len(test)):\n",
    "        print(i)"
   ]
  },
  {
   "cell_type": "code",
   "execution_count": 35,
   "metadata": {},
   "outputs": [
    {
     "name": "stdout",
     "output_type": "stream",
     "text": [
      "connection_id  -  169307  -  91166\n",
      "cont_1  -  4338  -  2324\n",
      "cont_2  -  129759  -  69882\n",
      "cont_3  -  29564  -  15812\n",
      "cont_4  -  29690  -  15844\n",
      "cont_5  -  29405  -  15680\n",
      "cont_6  -  10756  -  5960\n",
      "cont_7  -  10850  -  5982\n",
      "cont_8  -  167951  -  90428\n",
      "cont_9  -  38372  -  20603\n",
      "cont_10  -  11697  -  6244\n",
      "cont_11  -  165296  -  89025\n",
      "cont_12  -  50687  -  27219\n",
      "cont_13  -  120053  -  64645\n",
      "cont_14  -  17738  -  9480\n",
      "cont_15  -  31122  -  16620\n",
      "cont_16  -  30813  -  16535\n",
      "cont_17  -  12430  -  6854\n",
      "cont_18  -  12003  -  6636\n",
      "cat_1  -  169307  -  91166\n",
      "cat_2  -  169307  -  91166\n",
      "cat_3  -  169307  -  91166\n",
      "cat_4  -  2  -  1\n",
      "cat_5  -  42  -  25\n",
      "cat_6  -  1  -  0\n",
      "cat_7  -  335  -  199\n",
      "cat_8  -  18  -  28\n",
      "cat_9  -  24612  -  13185\n",
      "cat_10  -  131  -  81\n",
      "cat_11  -  17  -  5\n",
      "cat_12  -  4  -  3\n",
      "cat_13  -  173  -  99\n",
      "cat_14  -  83  -  35\n",
      "cat_15  -  12  -  8\n",
      "cat_16  -  164  -  85\n",
      "cat_17  -  0  -  0\n",
      "cat_18  -  1  -  0\n",
      "cat_19  -  147  -  96\n",
      "cat_20  -  169305  -  91166\n",
      "cat_21  -  169305  -  91166\n",
      "cat_22  -  169306  -  91164\n",
      "cat_23  -  169306  -  91164\n"
     ]
    }
   ],
   "source": [
    "for i in train.columns:\n",
    "    if i!='target': \n",
    "        print(i,' - ',len(train)-len(train[i][train[i]==0]),' - ',len(test)-len(test[i][test[i]==0]))\n",
    "        #print((len(test)-len(test[i][test[i]==0]))/(len(train)-len(train[i][train[i]==0])))"
   ]
  },
  {
   "cell_type": "code",
   "execution_count": 36,
   "metadata": {
    "collapsed": true
   },
   "outputs": [],
   "source": [
    "# Drop cat_17,cat_18,cat_12,cat_6,cat_4"
   ]
  },
  {
   "cell_type": "code",
   "execution_count": 37,
   "metadata": {},
   "outputs": [
    {
     "data": {
      "image/png": "[encoded data removed]",
      "text/plain": [
       "<matplotlib.figure.Figure at 0x237ea634c50>"
      ]
     },
     "metadata": {},
     "output_type": "display_data"
    },
    {
     "ename": "KeyboardInterrupt",
     "evalue": "",
     "output_type": "error",
     "traceback": [
      "\u001b[1;31m---------------------------------------------------------------------------\u001b[0m",
      "\u001b[1;31mKeyboardInterrupt\u001b[0m                         Traceback (most recent call last)",
      "\u001b[1;32m<ipython-input-37-4ee538e11fe5>\u001b[0m in \u001b[0;36m<module>\u001b[1;34m()\u001b[0m\n\u001b[0;32m      1\u001b[0m \u001b[1;32mfor\u001b[0m \u001b[0mi\u001b[0m \u001b[1;32min\u001b[0m \u001b[0mtrain\u001b[0m\u001b[1;33m.\u001b[0m\u001b[0mcolumns\u001b[0m\u001b[1;33m:\u001b[0m\u001b[1;33m\u001b[0m\u001b[0m\n\u001b[0;32m      2\u001b[0m     \u001b[1;32mif\u001b[0m \u001b[0mi\u001b[0m\u001b[1;33m!=\u001b[0m\u001b[1;34m'target'\u001b[0m \u001b[1;32mand\u001b[0m \u001b[1;34m'cat'\u001b[0m \u001b[1;32min\u001b[0m \u001b[0mi\u001b[0m\u001b[1;33m:\u001b[0m\u001b[1;33m\u001b[0m\u001b[0m\n\u001b[1;32m----> 3\u001b[1;33m         \u001b[0msns\u001b[0m\u001b[1;33m.\u001b[0m\u001b[0mfactorplot\u001b[0m\u001b[1;33m(\u001b[0m\u001b[0my\u001b[0m\u001b[1;33m=\u001b[0m\u001b[0mi\u001b[0m\u001b[1;33m,\u001b[0m\u001b[0mx\u001b[0m\u001b[1;33m=\u001b[0m\u001b[1;34m'target'\u001b[0m\u001b[1;33m,\u001b[0m\u001b[0mdata\u001b[0m\u001b[1;33m=\u001b[0m\u001b[0mtrain\u001b[0m\u001b[1;33m)\u001b[0m\u001b[1;33m\u001b[0m\u001b[0m\n\u001b[0m\u001b[0;32m      4\u001b[0m         \u001b[0mplt\u001b[0m\u001b[1;33m.\u001b[0m\u001b[0mshow\u001b[0m\u001b[1;33m(\u001b[0m\u001b[1;33m)\u001b[0m\u001b[1;33m\u001b[0m\u001b[0m\n",
      "\u001b[1;32mC:\\ProgramData\\Anaconda3\\lib\\site-packages\\seaborn\\categorical.py\u001b[0m in \u001b[0;36mfactorplot\u001b[1;34m(x, y, hue, data, row, col, col_wrap, estimator, ci, n_boot, units, order, hue_order, row_order, col_order, kind, size, aspect, orient, color, palette, legend, legend_out, sharex, sharey, margin_titles, facet_kws, **kwargs)\u001b[0m\n\u001b[0;32m   3509\u001b[0m \u001b[1;33m\u001b[0m\u001b[0m\n\u001b[0;32m   3510\u001b[0m     \u001b[1;31m# Draw the plot onto the facets\u001b[0m\u001b[1;33m\u001b[0m\u001b[1;33m\u001b[0m\u001b[0m\n\u001b[1;32m-> 3511\u001b[1;33m     \u001b[0mg\u001b[0m\u001b[1;33m.\u001b[0m\u001b[0mmap_dataframe\u001b[0m\u001b[1;33m(\u001b[0m\u001b[0mplot_func\u001b[0m\u001b[1;33m,\u001b[0m \u001b[0mx\u001b[0m\u001b[1;33m,\u001b[0m \u001b[0my\u001b[0m\u001b[1;33m,\u001b[0m \u001b[0mhue\u001b[0m\u001b[1;33m,\u001b[0m \u001b[1;33m**\u001b[0m\u001b[0mplot_kws\u001b[0m\u001b[1;33m)\u001b[0m\u001b[1;33m\u001b[0m\u001b[0m\n\u001b[0m\u001b[0;32m   3512\u001b[0m \u001b[1;33m\u001b[0m\u001b[0m\n\u001b[0;32m   3513\u001b[0m     \u001b[1;31m# Special case axis labels for a count type plot\u001b[0m\u001b[1;33m\u001b[0m\u001b[1;33m\u001b[0m\u001b[0m\n",
      "\u001b[1;32mC:\\ProgramData\\Anaconda3\\lib\\site-packages\\seaborn\\axisgrid.py\u001b[0m in \u001b[0;36mmap_dataframe\u001b[1;34m(self, func, *args, **kwargs)\u001b[0m\n\u001b[0;32m    795\u001b[0m \u001b[1;33m\u001b[0m\u001b[0m\n\u001b[0;32m    796\u001b[0m             \u001b[1;31m# Draw the plot\u001b[0m\u001b[1;33m\u001b[0m\u001b[1;33m\u001b[0m\u001b[0m\n\u001b[1;32m--> 797\u001b[1;33m             \u001b[0mself\u001b[0m\u001b[1;33m.\u001b[0m\u001b[0m_facet_plot\u001b[0m\u001b[1;33m(\u001b[0m\u001b[0mfunc\u001b[0m\u001b[1;33m,\u001b[0m \u001b[0max\u001b[0m\u001b[1;33m,\u001b[0m \u001b[0margs\u001b[0m\u001b[1;33m,\u001b[0m \u001b[0mkwargs\u001b[0m\u001b[1;33m)\u001b[0m\u001b[1;33m\u001b[0m\u001b[0m\n\u001b[0m\u001b[0;32m    798\u001b[0m \u001b[1;33m\u001b[0m\u001b[0m\n\u001b[0;32m    799\u001b[0m         \u001b[1;31m# Finalize the annotations and layout\u001b[0m\u001b[1;33m\u001b[0m\u001b[1;33m\u001b[0m\u001b[0m\n",
      "\u001b[1;32mC:\\ProgramData\\Anaconda3\\lib\\site-packages\\seaborn\\axisgrid.py\u001b[0m in \u001b[0;36m_facet_plot\u001b[1;34m(self, func, ax, plot_args, plot_kwargs)\u001b[0m\n\u001b[0;32m    813\u001b[0m \u001b[1;33m\u001b[0m\u001b[0m\n\u001b[0;32m    814\u001b[0m         \u001b[1;31m# Draw the plot\u001b[0m\u001b[1;33m\u001b[0m\u001b[1;33m\u001b[0m\u001b[0m\n\u001b[1;32m--> 815\u001b[1;33m         \u001b[0mfunc\u001b[0m\u001b[1;33m(\u001b[0m\u001b[1;33m*\u001b[0m\u001b[0mplot_args\u001b[0m\u001b[1;33m,\u001b[0m \u001b[1;33m**\u001b[0m\u001b[0mplot_kwargs\u001b[0m\u001b[1;33m)\u001b[0m\u001b[1;33m\u001b[0m\u001b[0m\n\u001b[0m\u001b[0;32m    816\u001b[0m \u001b[1;33m\u001b[0m\u001b[0m\n\u001b[0;32m    817\u001b[0m         \u001b[1;31m# Sort out the supporting information\u001b[0m\u001b[1;33m\u001b[0m\u001b[1;33m\u001b[0m\u001b[0m\n",
      "\u001b[1;32mC:\\ProgramData\\Anaconda3\\lib\\site-packages\\seaborn\\categorical.py\u001b[0m in \u001b[0;36mpointplot\u001b[1;34m(x, y, hue, data, order, hue_order, estimator, ci, n_boot, units, markers, linestyles, dodge, join, scale, orient, color, palette, errwidth, capsize, ax, **kwargs)\u001b[0m\n\u001b[0;32m   3122\u001b[0m                             \u001b[0mestimator\u001b[0m\u001b[1;33m,\u001b[0m \u001b[0mci\u001b[0m\u001b[1;33m,\u001b[0m \u001b[0mn_boot\u001b[0m\u001b[1;33m,\u001b[0m \u001b[0munits\u001b[0m\u001b[1;33m,\u001b[0m\u001b[1;33m\u001b[0m\u001b[0m\n\u001b[0;32m   3123\u001b[0m                             \u001b[0mmarkers\u001b[0m\u001b[1;33m,\u001b[0m \u001b[0mlinestyles\u001b[0m\u001b[1;33m,\u001b[0m \u001b[0mdodge\u001b[0m\u001b[1;33m,\u001b[0m \u001b[0mjoin\u001b[0m\u001b[1;33m,\u001b[0m \u001b[0mscale\u001b[0m\u001b[1;33m,\u001b[0m\u001b[1;33m\u001b[0m\u001b[0m\n\u001b[1;32m-> 3124\u001b[1;33m                             orient, color, palette, errwidth, capsize)\n\u001b[0m\u001b[0;32m   3125\u001b[0m \u001b[1;33m\u001b[0m\u001b[0m\n\u001b[0;32m   3126\u001b[0m     \u001b[1;32mif\u001b[0m \u001b[0max\u001b[0m \u001b[1;32mis\u001b[0m \u001b[1;32mNone\u001b[0m\u001b[1;33m:\u001b[0m\u001b[1;33m\u001b[0m\u001b[0m\n",
      "\u001b[1;32mC:\\ProgramData\\Anaconda3\\lib\\site-packages\\seaborn\\categorical.py\u001b[0m in \u001b[0;36m__init__\u001b[1;34m(self, x, y, hue, data, order, hue_order, estimator, ci, n_boot, units, markers, linestyles, dodge, join, scale, orient, color, palette, errwidth, capsize)\u001b[0m\n\u001b[0;32m   1654\u001b[0m                                  order, hue_order, units)\n\u001b[0;32m   1655\u001b[0m         \u001b[0mself\u001b[0m\u001b[1;33m.\u001b[0m\u001b[0mestablish_colors\u001b[0m\u001b[1;33m(\u001b[0m\u001b[0mcolor\u001b[0m\u001b[1;33m,\u001b[0m \u001b[0mpalette\u001b[0m\u001b[1;33m,\u001b[0m \u001b[1;36m1\u001b[0m\u001b[1;33m)\u001b[0m\u001b[1;33m\u001b[0m\u001b[0m\n\u001b[1;32m-> 1656\u001b[1;33m         \u001b[0mself\u001b[0m\u001b[1;33m.\u001b[0m\u001b[0mestimate_statistic\u001b[0m\u001b[1;33m(\u001b[0m\u001b[0mestimator\u001b[0m\u001b[1;33m,\u001b[0m \u001b[0mci\u001b[0m\u001b[1;33m,\u001b[0m \u001b[0mn_boot\u001b[0m\u001b[1;33m)\u001b[0m\u001b[1;33m\u001b[0m\u001b[0m\n\u001b[0m\u001b[0;32m   1657\u001b[0m \u001b[1;33m\u001b[0m\u001b[0m\n\u001b[0;32m   1658\u001b[0m         \u001b[1;31m# Override the default palette for single-color plots\u001b[0m\u001b[1;33m\u001b[0m\u001b[1;33m\u001b[0m\u001b[0m\n",
      "\u001b[1;32mC:\\ProgramData\\Anaconda3\\lib\\site-packages\\seaborn\\categorical.py\u001b[0m in \u001b[0;36mestimate_statistic\u001b[1;34m(self, estimator, ci, n_boot)\u001b[0m\n\u001b[0;32m   1489\u001b[0m                         boots = bootstrap(stat_data, func=estimator,\n\u001b[0;32m   1490\u001b[0m                                           \u001b[0mn_boot\u001b[0m\u001b[1;33m=\u001b[0m\u001b[0mn_boot\u001b[0m\u001b[1;33m,\u001b[0m\u001b[1;33m\u001b[0m\u001b[0m\n\u001b[1;32m-> 1491\u001b[1;33m                                           units=unit_data)\n\u001b[0m\u001b[0;32m   1492\u001b[0m                         \u001b[0mconfint\u001b[0m\u001b[1;33m.\u001b[0m\u001b[0mappend\u001b[0m\u001b[1;33m(\u001b[0m\u001b[0mutils\u001b[0m\u001b[1;33m.\u001b[0m\u001b[0mci\u001b[0m\u001b[1;33m(\u001b[0m\u001b[0mboots\u001b[0m\u001b[1;33m,\u001b[0m \u001b[0mci\u001b[0m\u001b[1;33m)\u001b[0m\u001b[1;33m)\u001b[0m\u001b[1;33m\u001b[0m\u001b[0m\n\u001b[0;32m   1493\u001b[0m \u001b[1;33m\u001b[0m\u001b[0m\n",
      "\u001b[1;32mC:\\ProgramData\\Anaconda3\\lib\\site-packages\\seaborn\\algorithms.py\u001b[0m in \u001b[0;36mbootstrap\u001b[1;34m(*args, **kwargs)\u001b[0m\n\u001b[0;32m     72\u001b[0m     \u001b[0mboot_dist\u001b[0m \u001b[1;33m=\u001b[0m \u001b[1;33m[\u001b[0m\u001b[1;33m]\u001b[0m\u001b[1;33m\u001b[0m\u001b[0m\n\u001b[0;32m     73\u001b[0m     \u001b[1;32mfor\u001b[0m \u001b[0mi\u001b[0m \u001b[1;32min\u001b[0m \u001b[0mrange\u001b[0m\u001b[1;33m(\u001b[0m\u001b[0mint\u001b[0m\u001b[1;33m(\u001b[0m\u001b[0mn_boot\u001b[0m\u001b[1;33m)\u001b[0m\u001b[1;33m)\u001b[0m\u001b[1;33m:\u001b[0m\u001b[1;33m\u001b[0m\u001b[0m\n\u001b[1;32m---> 74\u001b[1;33m         \u001b[0mresampler\u001b[0m \u001b[1;33m=\u001b[0m \u001b[0mrs\u001b[0m\u001b[1;33m.\u001b[0m\u001b[0mrandint\u001b[0m\u001b[1;33m(\u001b[0m\u001b[1;36m0\u001b[0m\u001b[1;33m,\u001b[0m \u001b[0mn\u001b[0m\u001b[1;33m,\u001b[0m \u001b[0mn\u001b[0m\u001b[1;33m)\u001b[0m\u001b[1;33m\u001b[0m\u001b[0m\n\u001b[0m\u001b[0;32m     75\u001b[0m         \u001b[0msample\u001b[0m \u001b[1;33m=\u001b[0m \u001b[1;33m[\u001b[0m\u001b[0ma\u001b[0m\u001b[1;33m.\u001b[0m\u001b[0mtake\u001b[0m\u001b[1;33m(\u001b[0m\u001b[0mresampler\u001b[0m\u001b[1;33m,\u001b[0m \u001b[0maxis\u001b[0m\u001b[1;33m=\u001b[0m\u001b[1;36m0\u001b[0m\u001b[1;33m)\u001b[0m \u001b[1;32mfor\u001b[0m \u001b[0ma\u001b[0m \u001b[1;32min\u001b[0m \u001b[0margs\u001b[0m\u001b[1;33m]\u001b[0m\u001b[1;33m\u001b[0m\u001b[0m\n\u001b[0;32m     76\u001b[0m         \u001b[0mboot_dist\u001b[0m\u001b[1;33m.\u001b[0m\u001b[0mappend\u001b[0m\u001b[1;33m(\u001b[0m\u001b[0mfunc\u001b[0m\u001b[1;33m(\u001b[0m\u001b[1;33m*\u001b[0m\u001b[0msample\u001b[0m\u001b[1;33m,\u001b[0m \u001b[1;33m**\u001b[0m\u001b[0mfunc_kwargs\u001b[0m\u001b[1;33m)\u001b[0m\u001b[1;33m)\u001b[0m\u001b[1;33m\u001b[0m\u001b[0m\n",
      "\u001b[1;31mKeyboardInterrupt\u001b[0m: "
     ]
    }
   ],
   "source": [
    "for i in train.columns:\n",
    "    if i!='target' and 'cat' in i:\n",
    "        sns.factorplot(y=i,x='target',data=train)\n",
    "        plt.show()"
   ]
  },
  {
   "cell_type": "code",
   "execution_count": 241,
   "metadata": {},
   "outputs": [
    {
     "data": {
      "text/plain": [
       "<matplotlib.axes._subplots.AxesSubplot at 0x127b9672a90>"
      ]
     },
     "execution_count": 241,
     "metadata": {},
     "output_type": "execute_result"
    }
   ],
   "source": [
    "# for i in train.columns:\n",
    "#     if i!='target':\n",
    "#         sns.countplot(x=i,data=train)\n",
    "#         plt.show()\n",
    "sns.countplot(x='target',data=train)"
   ]
  },
  {
   "cell_type": "code",
   "execution_count": 242,
   "metadata": {},
   "outputs": [
    {
     "data": {
      "image/png": "[encoded data removed]",
      "text/plain": [
       "<matplotlib.figure.Figure at 0x127b9672da0>"
      ]
     },
     "metadata": {},
     "output_type": "display_data"
    }
   ],
   "source": [
    "plt.show()"
   ]
  },
  {
   "cell_type": "code",
   "execution_count": 266,
   "metadata": {},
   "outputs": [
    {
     "name": "stdout",
     "output_type": "stream",
     "text": [
      "cat_17   -   Series([], Name: target, dtype: int64)\n",
      "cat_18   -   166444    2\n",
      "Name: target, dtype: int64\n",
      "cat_12   -   19209     1\n",
      "95920     1\n",
      "133670    1\n",
      "168265    1\n",
      "Name: target, dtype: int64\n",
      "cat_6   -   26002    1\n",
      "Name: target, dtype: int64\n",
      "cat_4   -   106273    2\n",
      "136130    0\n",
      "Name: target, dtype: int64\n"
     ]
    }
   ],
   "source": [
    "for i in ['cat_17','cat_18','cat_12','cat_6','cat_4']:\n",
    "    print(i,'  -  ',train[train[i]!=0]['target'])"
   ]
  },
  {
   "cell_type": "code",
   "execution_count": 299,
   "metadata": {},
   "outputs": [
    {
     "name": "stdout",
     "output_type": "stream",
     "text": [
      "connection_id    ['cxcon_57628' 'cxcon_118453' 'cxcon_62395' 'cxcon_166180']   ['cxcon_19718' 'cxcon_74636' 'cxcon_34877']\n",
      "cont_1    [11861     1 12882 15382]   [    0 15509 14697]\n",
      "cont_2    [ 673  899  709 1011]   [ 142  512 1419]\n",
      "cont_3    [ 88306    337 110716 221754]   [ 26316  70827 320547]\n",
      "cont_4    [ 0.  0.  0.  0.]   [ 1.  0.  0.]\n",
      "cont_5    [ 0.  0.  0.  0.]   [ 1.  0.  0.]\n",
      "cont_6    [ 0.  0.  0.  0.]   [ 0.  0.  0.]\n",
      "cont_7    [ 0.  0.  0.  0.]   [ 0.  0.  0.]\n",
      "cont_8    [ 1.  1.  1.  1.]   [ 1.  1.  1.]\n",
      "cont_9    [ 0.  0.  0.  0.]   [ 0.  0.  0.]\n",
      "cont_10    [ 0.  1.  0.  0.]   [ 0.  0.  0.]\n",
      "cont_11    [ 0.12  0.73  0.27  0.48]   [ 0.22  0.23  0.26]\n",
      "cont_12    [ 0.05  0.18  0.15  0.08]   [ 0.04  0.04  0.1 ]\n",
      "cont_13    [ 0.01  0.09  0.04  0.04]   [ 0.01  0.01  0.02]\n",
      "cont_14    [ 0.    0.02  0.    0.  ]   [ 0.09  0.    0.  ]\n",
      "cont_15    [ 0.    0.    0.04  0.  ]   [ 0.19  0.    0.02]\n",
      "cont_16    [ 0.    0.    0.14  0.  ]   [ 0.82  0.    0.09]\n",
      "cont_17    [ 0.02  0.    0.    0.  ]   [ 0.    0.02  0.  ]\n",
      "cont_18    [ 0.17  0.    0.    0.  ]   [ 0.    0.07  0.  ]\n",
      "cat_1    [1 1 1 1]   [1 1 1]\n",
      "cat_2    [6 2 6 6]   [6 6 6]\n",
      "cat_3    [1 1 1 1]   [3 1 1]\n",
      "cat_4    [0 0 0 0]   [0 0 0]\n",
      "cat_5    [0 0 0 0]   [0 0 0]\n",
      "cat_6    [0 0 0 0]   [0 0 0]\n",
      "cat_7    [0 0 0 0]   [0 0 0]\n",
      "cat_8    [0 0 0 0]   [0 0 0]\n",
      "cat_9    [1 1 1 1]   [1 1 1]\n",
      "cat_10    [378   0 435 254]   [ 31 166 884]\n",
      "cat_11    [1 0 1 1]   [1 1 1]\n",
      "cat_12    [2 1 2 2]   [2 2 2]\n",
      "cat_13    [421   2 480 289]   [ 36 184 993]\n",
      "cat_14    [0 0 0 0]   [0 0 0]\n",
      "cat_15    [0 0 0 0]   [0 0 0]\n",
      "cat_16    [3 0 4 5]   [0 1 8]\n",
      "cat_17    [0 0 0 0]   [0 0 0]\n",
      "cat_18    [0 0 0 0]   [0 0 0]\n",
      "cat_19    [0 0 0 0]   [0 0 0]\n",
      "cat_20    [1 1 1 1]   [1 1 1]\n",
      "cat_21    [1 2 1 1]   [1 1 1]\n",
      "cat_22    [101  11  26  25]   [ 94 127  42]\n",
      "cat_23    [ 12 121   7  12]   [22 29 11]\n"
     ]
    },
    {
     "ename": "KeyError",
     "evalue": "'target'",
     "output_type": "error",
     "traceback": [
      "\u001b[1;31m---------------------------------------------------------------------------\u001b[0m",
      "\u001b[1;31mKeyError\u001b[0m                                  Traceback (most recent call last)",
      "\u001b[1;32mC:\\ProgramData\\Anaconda3\\lib\\site-packages\\pandas\\core\\indexes\\base.py\u001b[0m in \u001b[0;36mget_loc\u001b[1;34m(self, key, method, tolerance)\u001b[0m\n\u001b[0;32m   2441\u001b[0m             \u001b[1;32mtry\u001b[0m\u001b[1;33m:\u001b[0m\u001b[1;33m\u001b[0m\u001b[0m\n\u001b[1;32m-> 2442\u001b[1;33m                 \u001b[1;32mreturn\u001b[0m \u001b[0mself\u001b[0m\u001b[1;33m.\u001b[0m\u001b[0m_engine\u001b[0m\u001b[1;33m.\u001b[0m\u001b[0mget_loc\u001b[0m\u001b[1;33m(\u001b[0m\u001b[0mkey\u001b[0m\u001b[1;33m)\u001b[0m\u001b[1;33m\u001b[0m\u001b[0m\n\u001b[0m\u001b[0;32m   2443\u001b[0m             \u001b[1;32mexcept\u001b[0m \u001b[0mKeyError\u001b[0m\u001b[1;33m:\u001b[0m\u001b[1;33m\u001b[0m\u001b[0m\n",
      "\u001b[1;32mpandas\\_libs\\index.pyx\u001b[0m in \u001b[0;36mpandas._libs.index.IndexEngine.get_loc\u001b[1;34m()\u001b[0m\n",
      "\u001b[1;32mpandas\\_libs\\index.pyx\u001b[0m in \u001b[0;36mpandas._libs.index.IndexEngine.get_loc\u001b[1;34m()\u001b[0m\n",
      "\u001b[1;32mpandas\\_libs\\hashtable_class_helper.pxi\u001b[0m in \u001b[0;36mpandas._libs.hashtable.PyObjectHashTable.get_item\u001b[1;34m()\u001b[0m\n",
      "\u001b[1;32mpandas\\_libs\\hashtable_class_helper.pxi\u001b[0m in \u001b[0;36mpandas._libs.hashtable.PyObjectHashTable.get_item\u001b[1;34m()\u001b[0m\n",
      "\u001b[1;31mKeyError\u001b[0m: 'target'",
      "\nDuring handling of the above exception, another exception occurred:\n",
      "\u001b[1;31mKeyError\u001b[0m                                  Traceback (most recent call last)",
      "\u001b[1;32m<ipython-input-299-f85017dac902>\u001b[0m in \u001b[0;36m<module>\u001b[1;34m()\u001b[0m\n\u001b[0;32m      1\u001b[0m \u001b[1;32mfor\u001b[0m \u001b[0mi\u001b[0m \u001b[1;32min\u001b[0m \u001b[0mtrain\u001b[0m\u001b[1;33m.\u001b[0m\u001b[0mcolumns\u001b[0m\u001b[1;33m:\u001b[0m\u001b[1;33m\u001b[0m\u001b[0m\n\u001b[1;32m----> 2\u001b[1;33m     \u001b[0mprint\u001b[0m\u001b[1;33m(\u001b[0m\u001b[0mi\u001b[0m\u001b[1;33m,\u001b[0m\u001b[1;34m'  '\u001b[0m\u001b[1;33m,\u001b[0m\u001b[0mtrain\u001b[0m\u001b[1;33m[\u001b[0m\u001b[0mtrain\u001b[0m\u001b[1;33m[\u001b[0m\u001b[1;34m'cat_12'\u001b[0m\u001b[1;33m]\u001b[0m\u001b[1;33m!=\u001b[0m\u001b[1;36m0\u001b[0m\u001b[1;33m]\u001b[0m\u001b[1;33m[\u001b[0m\u001b[0mi\u001b[0m\u001b[1;33m]\u001b[0m\u001b[1;33m.\u001b[0m\u001b[0mvalues\u001b[0m\u001b[1;33m,\u001b[0m\u001b[1;34m' '\u001b[0m\u001b[1;33m,\u001b[0m\u001b[0mtest\u001b[0m\u001b[1;33m[\u001b[0m\u001b[0mtest\u001b[0m\u001b[1;33m[\u001b[0m\u001b[1;34m'cat_12'\u001b[0m\u001b[1;33m]\u001b[0m\u001b[1;33m!=\u001b[0m\u001b[1;36m0\u001b[0m\u001b[1;33m]\u001b[0m\u001b[1;33m[\u001b[0m\u001b[0mi\u001b[0m\u001b[1;33m]\u001b[0m\u001b[1;33m.\u001b[0m\u001b[0mvalues\u001b[0m\u001b[1;33m)\u001b[0m\u001b[1;33m\u001b[0m\u001b[0m\n\u001b[0m",
      "\u001b[1;32mC:\\ProgramData\\Anaconda3\\lib\\site-packages\\pandas\\core\\frame.py\u001b[0m in \u001b[0;36m__getitem__\u001b[1;34m(self, key)\u001b[0m\n\u001b[0;32m   1962\u001b[0m             \u001b[1;32mreturn\u001b[0m \u001b[0mself\u001b[0m\u001b[1;33m.\u001b[0m\u001b[0m_getitem_multilevel\u001b[0m\u001b[1;33m(\u001b[0m\u001b[0mkey\u001b[0m\u001b[1;33m)\u001b[0m\u001b[1;33m\u001b[0m\u001b[0m\n\u001b[0;32m   1963\u001b[0m         \u001b[1;32melse\u001b[0m\u001b[1;33m:\u001b[0m\u001b[1;33m\u001b[0m\u001b[0m\n\u001b[1;32m-> 1964\u001b[1;33m             \u001b[1;32mreturn\u001b[0m \u001b[0mself\u001b[0m\u001b[1;33m.\u001b[0m\u001b[0m_getitem_column\u001b[0m\u001b[1;33m(\u001b[0m\u001b[0mkey\u001b[0m\u001b[1;33m)\u001b[0m\u001b[1;33m\u001b[0m\u001b[0m\n\u001b[0m\u001b[0;32m   1965\u001b[0m \u001b[1;33m\u001b[0m\u001b[0m\n\u001b[0;32m   1966\u001b[0m     \u001b[1;32mdef\u001b[0m \u001b[0m_getitem_column\u001b[0m\u001b[1;33m(\u001b[0m\u001b[0mself\u001b[0m\u001b[1;33m,\u001b[0m \u001b[0mkey\u001b[0m\u001b[1;33m)\u001b[0m\u001b[1;33m:\u001b[0m\u001b[1;33m\u001b[0m\u001b[0m\n",
      "\u001b[1;32mC:\\ProgramData\\Anaconda3\\lib\\site-packages\\pandas\\core\\frame.py\u001b[0m in \u001b[0;36m_getitem_column\u001b[1;34m(self, key)\u001b[0m\n\u001b[0;32m   1969\u001b[0m         \u001b[1;31m# get column\u001b[0m\u001b[1;33m\u001b[0m\u001b[1;33m\u001b[0m\u001b[0m\n\u001b[0;32m   1970\u001b[0m         \u001b[1;32mif\u001b[0m \u001b[0mself\u001b[0m\u001b[1;33m.\u001b[0m\u001b[0mcolumns\u001b[0m\u001b[1;33m.\u001b[0m\u001b[0mis_unique\u001b[0m\u001b[1;33m:\u001b[0m\u001b[1;33m\u001b[0m\u001b[0m\n\u001b[1;32m-> 1971\u001b[1;33m             \u001b[1;32mreturn\u001b[0m \u001b[0mself\u001b[0m\u001b[1;33m.\u001b[0m\u001b[0m_get_item_cache\u001b[0m\u001b[1;33m(\u001b[0m\u001b[0mkey\u001b[0m\u001b[1;33m)\u001b[0m\u001b[1;33m\u001b[0m\u001b[0m\n\u001b[0m\u001b[0;32m   1972\u001b[0m \u001b[1;33m\u001b[0m\u001b[0m\n\u001b[0;32m   1973\u001b[0m         \u001b[1;31m# duplicate columns & possible reduce dimensionality\u001b[0m\u001b[1;33m\u001b[0m\u001b[1;33m\u001b[0m\u001b[0m\n",
      "\u001b[1;32mC:\\ProgramData\\Anaconda3\\lib\\site-packages\\pandas\\core\\generic.py\u001b[0m in \u001b[0;36m_get_item_cache\u001b[1;34m(self, item)\u001b[0m\n\u001b[0;32m   1643\u001b[0m         \u001b[0mres\u001b[0m \u001b[1;33m=\u001b[0m \u001b[0mcache\u001b[0m\u001b[1;33m.\u001b[0m\u001b[0mget\u001b[0m\u001b[1;33m(\u001b[0m\u001b[0mitem\u001b[0m\u001b[1;33m)\u001b[0m\u001b[1;33m\u001b[0m\u001b[0m\n\u001b[0;32m   1644\u001b[0m         \u001b[1;32mif\u001b[0m \u001b[0mres\u001b[0m \u001b[1;32mis\u001b[0m \u001b[1;32mNone\u001b[0m\u001b[1;33m:\u001b[0m\u001b[1;33m\u001b[0m\u001b[0m\n\u001b[1;32m-> 1645\u001b[1;33m             \u001b[0mvalues\u001b[0m \u001b[1;33m=\u001b[0m \u001b[0mself\u001b[0m\u001b[1;33m.\u001b[0m\u001b[0m_data\u001b[0m\u001b[1;33m.\u001b[0m\u001b[0mget\u001b[0m\u001b[1;33m(\u001b[0m\u001b[0mitem\u001b[0m\u001b[1;33m)\u001b[0m\u001b[1;33m\u001b[0m\u001b[0m\n\u001b[0m\u001b[0;32m   1646\u001b[0m             \u001b[0mres\u001b[0m \u001b[1;33m=\u001b[0m \u001b[0mself\u001b[0m\u001b[1;33m.\u001b[0m\u001b[0m_box_item_values\u001b[0m\u001b[1;33m(\u001b[0m\u001b[0mitem\u001b[0m\u001b[1;33m,\u001b[0m \u001b[0mvalues\u001b[0m\u001b[1;33m)\u001b[0m\u001b[1;33m\u001b[0m\u001b[0m\n\u001b[0;32m   1647\u001b[0m             \u001b[0mcache\u001b[0m\u001b[1;33m[\u001b[0m\u001b[0mitem\u001b[0m\u001b[1;33m]\u001b[0m \u001b[1;33m=\u001b[0m \u001b[0mres\u001b[0m\u001b[1;33m\u001b[0m\u001b[0m\n",
      "\u001b[1;32mC:\\ProgramData\\Anaconda3\\lib\\site-packages\\pandas\\core\\internals.py\u001b[0m in \u001b[0;36mget\u001b[1;34m(self, item, fastpath)\u001b[0m\n\u001b[0;32m   3588\u001b[0m \u001b[1;33m\u001b[0m\u001b[0m\n\u001b[0;32m   3589\u001b[0m             \u001b[1;32mif\u001b[0m \u001b[1;32mnot\u001b[0m \u001b[0misnull\u001b[0m\u001b[1;33m(\u001b[0m\u001b[0mitem\u001b[0m\u001b[1;33m)\u001b[0m\u001b[1;33m:\u001b[0m\u001b[1;33m\u001b[0m\u001b[0m\n\u001b[1;32m-> 3590\u001b[1;33m                 \u001b[0mloc\u001b[0m \u001b[1;33m=\u001b[0m \u001b[0mself\u001b[0m\u001b[1;33m.\u001b[0m\u001b[0mitems\u001b[0m\u001b[1;33m.\u001b[0m\u001b[0mget_loc\u001b[0m\u001b[1;33m(\u001b[0m\u001b[0mitem\u001b[0m\u001b[1;33m)\u001b[0m\u001b[1;33m\u001b[0m\u001b[0m\n\u001b[0m\u001b[0;32m   3591\u001b[0m             \u001b[1;32melse\u001b[0m\u001b[1;33m:\u001b[0m\u001b[1;33m\u001b[0m\u001b[0m\n\u001b[0;32m   3592\u001b[0m                 \u001b[0mindexer\u001b[0m \u001b[1;33m=\u001b[0m \u001b[0mnp\u001b[0m\u001b[1;33m.\u001b[0m\u001b[0marange\u001b[0m\u001b[1;33m(\u001b[0m\u001b[0mlen\u001b[0m\u001b[1;33m(\u001b[0m\u001b[0mself\u001b[0m\u001b[1;33m.\u001b[0m\u001b[0mitems\u001b[0m\u001b[1;33m)\u001b[0m\u001b[1;33m)\u001b[0m\u001b[1;33m[\u001b[0m\u001b[0misnull\u001b[0m\u001b[1;33m(\u001b[0m\u001b[0mself\u001b[0m\u001b[1;33m.\u001b[0m\u001b[0mitems\u001b[0m\u001b[1;33m)\u001b[0m\u001b[1;33m]\u001b[0m\u001b[1;33m\u001b[0m\u001b[0m\n",
      "\u001b[1;32mC:\\ProgramData\\Anaconda3\\lib\\site-packages\\pandas\\core\\indexes\\base.py\u001b[0m in \u001b[0;36mget_loc\u001b[1;34m(self, key, method, tolerance)\u001b[0m\n\u001b[0;32m   2442\u001b[0m                 \u001b[1;32mreturn\u001b[0m \u001b[0mself\u001b[0m\u001b[1;33m.\u001b[0m\u001b[0m_engine\u001b[0m\u001b[1;33m.\u001b[0m\u001b[0mget_loc\u001b[0m\u001b[1;33m(\u001b[0m\u001b[0mkey\u001b[0m\u001b[1;33m)\u001b[0m\u001b[1;33m\u001b[0m\u001b[0m\n\u001b[0;32m   2443\u001b[0m             \u001b[1;32mexcept\u001b[0m \u001b[0mKeyError\u001b[0m\u001b[1;33m:\u001b[0m\u001b[1;33m\u001b[0m\u001b[0m\n\u001b[1;32m-> 2444\u001b[1;33m                 \u001b[1;32mreturn\u001b[0m \u001b[0mself\u001b[0m\u001b[1;33m.\u001b[0m\u001b[0m_engine\u001b[0m\u001b[1;33m.\u001b[0m\u001b[0mget_loc\u001b[0m\u001b[1;33m(\u001b[0m\u001b[0mself\u001b[0m\u001b[1;33m.\u001b[0m\u001b[0m_maybe_cast_indexer\u001b[0m\u001b[1;33m(\u001b[0m\u001b[0mkey\u001b[0m\u001b[1;33m)\u001b[0m\u001b[1;33m)\u001b[0m\u001b[1;33m\u001b[0m\u001b[0m\n\u001b[0m\u001b[0;32m   2445\u001b[0m \u001b[1;33m\u001b[0m\u001b[0m\n\u001b[0;32m   2446\u001b[0m         \u001b[0mindexer\u001b[0m \u001b[1;33m=\u001b[0m \u001b[0mself\u001b[0m\u001b[1;33m.\u001b[0m\u001b[0mget_indexer\u001b[0m\u001b[1;33m(\u001b[0m\u001b[1;33m[\u001b[0m\u001b[0mkey\u001b[0m\u001b[1;33m]\u001b[0m\u001b[1;33m,\u001b[0m \u001b[0mmethod\u001b[0m\u001b[1;33m=\u001b[0m\u001b[0mmethod\u001b[0m\u001b[1;33m,\u001b[0m \u001b[0mtolerance\u001b[0m\u001b[1;33m=\u001b[0m\u001b[0mtolerance\u001b[0m\u001b[1;33m)\u001b[0m\u001b[1;33m\u001b[0m\u001b[0m\n",
      "\u001b[1;32mpandas\\_libs\\index.pyx\u001b[0m in \u001b[0;36mpandas._libs.index.IndexEngine.get_loc\u001b[1;34m()\u001b[0m\n",
      "\u001b[1;32mpandas\\_libs\\index.pyx\u001b[0m in \u001b[0;36mpandas._libs.index.IndexEngine.get_loc\u001b[1;34m()\u001b[0m\n",
      "\u001b[1;32mpandas\\_libs\\hashtable_class_helper.pxi\u001b[0m in \u001b[0;36mpandas._libs.hashtable.PyObjectHashTable.get_item\u001b[1;34m()\u001b[0m\n",
      "\u001b[1;32mpandas\\_libs\\hashtable_class_helper.pxi\u001b[0m in \u001b[0;36mpandas._libs.hashtable.PyObjectHashTable.get_item\u001b[1;34m()\u001b[0m\n",
      "\u001b[1;31mKeyError\u001b[0m: 'target'"
     ]
    }
   ],
   "source": [
    "for i in train.columns:\n",
    "    print(i,'  ',train[train['cat_12']!=0][i].values,' ',test[test['cat_12']!=0][i].values)"
   ]
  },
  {
   "cell_type": "code",
   "execution_count": 302,
   "metadata": {},
   "outputs": [
    {
     "name": "stdout",
     "output_type": "stream",
     "text": [
      "cat_1     3 1 169307 91166\n"
     ]
    },
    {
     "data": {
      "image/png": "[encoded data removed]",
      "text/plain": [
       "<matplotlib.figure.Figure at 0x128047ff080>"
      ]
     },
     "metadata": {},
     "output_type": "display_data"
    },
    {
     "name": "stdout",
     "output_type": "stream",
     "text": [
      "cat_2     69 1 169307 91166\n"
     ]
    },
    {
     "data": {
      "image/png": "[encoded data removed]",
      "text/plain": [
       "<matplotlib.figure.Figure at 0x128050abcf8>"
      ]
     },
     "metadata": {},
     "output_type": "display_data"
    },
    {
     "name": "stdout",
     "output_type": "stream",
     "text": [
      "cat_3     11 1 169307 91166\n"
     ]
    },
    {
     "data": {
      "image/png": "[encoded data removed]",
      "text/plain": [
       "<matplotlib.figure.Figure at 0x1280544e940>"
      ]
     },
     "metadata": {},
     "output_type": "display_data"
    },
    {
     "name": "stdout",
     "output_type": "stream",
     "text": [
      "cat_4     1 0 2 1\n"
     ]
    },
    {
     "data": {
      "image/png": "[encoded data removed]",
      "text/plain": [
       "<matplotlib.figure.Figure at 0x12805aefc50>"
      ]
     },
     "metadata": {},
     "output_type": "display_data"
    },
    {
     "name": "stdout",
     "output_type": "stream",
     "text": [
      "cat_5     3 0 42 25\n"
     ]
    },
    {
     "data": {
      "image/png": "[encoded data removed]",
      "text/plain": [
       "<matplotlib.figure.Figure at 0x1280591d4e0>"
      ]
     },
     "metadata": {},
     "output_type": "display_data"
    },
    {
     "name": "stdout",
     "output_type": "stream",
     "text": [
      "cat_6     2 0 1 0\n"
     ]
    },
    {
     "data": {
      "image/png": "[encoded data removed]",
      "text/plain": [
       "<matplotlib.figure.Figure at 0x12805aefef0>"
      ]
     },
     "metadata": {},
     "output_type": "display_data"
    },
    {
     "name": "stdout",
     "output_type": "stream",
     "text": [
      "cat_7     30 0 335 199\n"
     ]
    },
    {
     "data": {
      "image/png": "[encoded data removed]",
      "text/plain": [
       "<matplotlib.figure.Figure at 0x12805c343c8>"
      ]
     },
     "metadata": {},
     "output_type": "display_data"
    },
    {
     "name": "stdout",
     "output_type": "stream",
     "text": [
      "cat_8     1 0 18 28\n"
     ]
    },
    {
     "data": {
      "image/png": "[encoded data removed]",
      "text/plain": [
       "<matplotlib.figure.Figure at 0x12805c87828>"
      ]
     },
     "metadata": {},
     "output_type": "display_data"
    },
    {
     "name": "stdout",
     "output_type": "stream",
     "text": [
      "cat_9     1 0 24612 13185\n"
     ]
    },
    {
     "data": {
      "image/png": "[encoded data removed]",
      "text/plain": [
       "<matplotlib.figure.Figure at 0x1280596ea20>"
      ]
     },
     "metadata": {},
     "output_type": "display_data"
    },
    {
     "name": "stdout",
     "output_type": "stream",
     "text": [
      "cat_10     435 0 131 81\n"
     ]
    },
    {
     "data": {
      "image/png": "[encoded data removed]",
      "text/plain": [
       "<matplotlib.figure.Figure at 0x12805ccc940>"
      ]
     },
     "metadata": {},
     "output_type": "display_data"
    },
    {
     "name": "stdout",
     "output_type": "stream",
     "text": [
      "cat_11     1 0 17 5\n"
     ]
    },
    {
     "data": {
      "image/png": "[encoded data removed]",
      "text/plain": [
       "<matplotlib.figure.Figure at 0x12805fa5e80>"
      ]
     },
     "metadata": {},
     "output_type": "display_data"
    },
    {
     "name": "stdout",
     "output_type": "stream",
     "text": [
      "cat_12     2 0 4 3\n"
     ]
    },
    {
     "data": {
      "image/png": "[encoded data removed]",
      "text/plain": [
       "<matplotlib.figure.Figure at 0x12805f74860>"
      ]
     },
     "metadata": {},
     "output_type": "display_data"
    },
    {
     "name": "stdout",
     "output_type": "stream",
     "text": [
      "cat_13     480 0 173 99\n"
     ]
    },
    {
     "data": {
      "image/png": "[encoded data removed]",
      "text/plain": [
       "<matplotlib.figure.Figure at 0x12805feed30>"
      ]
     },
     "metadata": {},
     "output_type": "display_data"
    },
    {
     "name": "stdout",
     "output_type": "stream",
     "text": [
      "cat_14     25 0 83 35\n"
     ]
    },
    {
     "data": {
      "image/png": "[encoded data removed]",
      "text/plain": [
       "<matplotlib.figure.Figure at 0x12805e65a90>"
      ]
     },
     "metadata": {},
     "output_type": "display_data"
    },
    {
     "name": "stdout",
     "output_type": "stream",
     "text": [
      "cat_15     2 0 12 8\n"
     ]
    },
    {
     "data": {
      "image/png": "[encoded data removed]",
      "text/plain": [
       "<matplotlib.figure.Figure at 0x12805b7bb00>"
      ]
     },
     "metadata": {},
     "output_type": "display_data"
    },
    {
     "name": "stdout",
     "output_type": "stream",
     "text": [
      "cat_16     5 0 164 85\n"
     ]
    },
    {
     "data": {
      "image/png": "[encoded data removed]",
      "text/plain": [
       "<matplotlib.figure.Figure at 0x12805fd0fd0>"
      ]
     },
     "metadata": {},
     "output_type": "display_data"
    },
    {
     "name": "stdout",
     "output_type": "stream",
     "text": [
      "cat_17     0 0 0 0\n"
     ]
    },
    {
     "data": {
      "image/png": "[encoded data removed]",
      "text/plain": [
       "<matplotlib.figure.Figure at 0x128061983c8>"
      ]
     },
     "metadata": {},
     "output_type": "display_data"
    },
    {
     "name": "stdout",
     "output_type": "stream",
     "text": [
      "cat_18     1 0 1 0\n"
     ]
    },
    {
     "data": {
      "image/png": "[encoded data removed]",
      "text/plain": [
       "<matplotlib.figure.Figure at 0x12806385358>"
      ]
     },
     "metadata": {},
     "output_type": "display_data"
    },
    {
     "name": "stdout",
     "output_type": "stream",
     "text": [
      "cat_19     1 0 147 96\n"
     ]
    },
    {
     "data": {
      "image/png": "[encoded data removed]",
      "text/plain": [
       "<matplotlib.figure.Figure at 0x1280637b240>"
      ]
     },
     "metadata": {},
     "output_type": "display_data"
    },
    {
     "name": "stdout",
     "output_type": "stream",
     "text": [
      "cat_20     511 0 169305 91166\n"
     ]
    },
    {
     "data": {
      "image/png": "[encoded data removed]",
      "text/plain": [
       "<matplotlib.figure.Figure at 0x128060d32e8>"
      ]
     },
     "metadata": {},
     "output_type": "display_data"
    },
    {
     "name": "stdout",
     "output_type": "stream",
     "text": [
      "cat_21     511 0 169305 91166\n"
     ]
    },
    {
     "data": {
      "image/png": "[encoded data removed]",
      "text/plain": [
       "<matplotlib.figure.Figure at 0x12807580208>"
      ]
     },
     "metadata": {},
     "output_type": "display_data"
    },
    {
     "name": "stdout",
     "output_type": "stream",
     "text": [
      "cat_22     255 0 169306 91164\n"
     ]
    },
    {
     "data": {
      "image/png": "[encoded data removed]",
      "text/plain": [
       "<matplotlib.figure.Figure at 0x12807dc6f28>"
      ]
     },
     "metadata": {},
     "output_type": "display_data"
    },
    {
     "name": "stdout",
     "output_type": "stream",
     "text": [
      "cat_23     255 0 169306 91164\n"
     ]
    },
    {
     "data": {
      "image/png": "[encoded data removed]",
      "text/plain": [
       "<matplotlib.figure.Figure at 0x1280a5ad780>"
      ]
     },
     "metadata": {},
     "output_type": "display_data"
    }
   ],
   "source": [
    "for i in train.columns:\n",
    "    if 'cat' in i:\n",
    "        print(i,'   ',max(train[i]),min(train[i]),len(train[train[i]!=0]),len(test[test[i]!=0]))\n",
    "        sns.countplot(x=i,data=train)\n",
    "        plt.show()\n",
    "#cat_4,cat_5,cat_6,cat_7,cat_8,cat_10,cat_11,cat_12,cat_13,cat_14,cat_15,cat_16,cat_17,cat_18,cat_19        "
   ]
  },
  {
   "cell_type": "code",
   "execution_count": 312,
   "metadata": {},
   "outputs": [
    {
     "name": "stdout",
     "output_type": "stream",
     "text": [
      "cat_4   2\n"
     ]
    },
    {
     "data": {
      "image/png": "[encoded data removed]",
      "text/plain": [
       "<matplotlib.figure.Figure at 0x127aa8ed4e0>"
      ]
     },
     "metadata": {},
     "output_type": "display_data"
    },
    {
     "name": "stdout",
     "output_type": "stream",
     "text": [
      "cat_5   42\n"
     ]
    },
    {
     "data": {
      "image/png": "[encoded data removed]",
      "text/plain": [
       "<matplotlib.figure.Figure at 0x127a834c438>"
      ]
     },
     "metadata": {},
     "output_type": "display_data"
    },
    {
     "name": "stdout",
     "output_type": "stream",
     "text": [
      "cat_6   1\n"
     ]
    },
    {
     "data": {
      "image/png": "[encoded data removed]",
      "text/plain": [
       "<matplotlib.figure.Figure at 0x128076219e8>"
      ]
     },
     "metadata": {},
     "output_type": "display_data"
    },
    {
     "name": "stdout",
     "output_type": "stream",
     "text": [
      "cat_7   335\n"
     ]
    },
    {
     "data": {
      "image/png": "[encoded data removed]",
      "text/plain": [
       "<matplotlib.figure.Figure at 0x127aa81be80>"
      ]
     },
     "metadata": {},
     "output_type": "display_data"
    },
    {
     "name": "stdout",
     "output_type": "stream",
     "text": [
      "cat_8   18\n"
     ]
    },
    {
     "data": {
      "image/png": "[encoded data removed]",
      "text/plain": [
       "<matplotlib.figure.Figure at 0x127a822a2b0>"
      ]
     },
     "metadata": {},
     "output_type": "display_data"
    },
    {
     "name": "stdout",
     "output_type": "stream",
     "text": [
      "cat_10   131\n"
     ]
    },
    {
     "data": {
      "image/png": "[encoded data removed]",
      "text/plain": [
       "<matplotlib.figure.Figure at 0x128082d8128>"
      ]
     },
     "metadata": {},
     "output_type": "display_data"
    },
    {
     "name": "stdout",
     "output_type": "stream",
     "text": [
      "cat_11   17\n"
     ]
    },
    {
     "data": {
      "image/png": "[encoded data removed]",
      "text/plain": [
       "<matplotlib.figure.Figure at 0x12807cf1f28>"
      ]
     },
     "metadata": {},
     "output_type": "display_data"
    },
    {
     "name": "stdout",
     "output_type": "stream",
     "text": [
      "cat_12   4\n"
     ]
    },
    {
     "data": {
      "image/png": "[encoded data removed]",
      "text/plain": [
       "<matplotlib.figure.Figure at 0x127a84e0b38>"
      ]
     },
     "metadata": {},
     "output_type": "display_data"
    },
    {
     "name": "stdout",
     "output_type": "stream",
     "text": [
      "cat_13   173\n"
     ]
    },
    {
     "data": {
      "image/png": "[encoded data removed]",
      "text/plain": [
       "<matplotlib.figure.Figure at 0x12807cf7860>"
      ]
     },
     "metadata": {},
     "output_type": "display_data"
    },
    {
     "name": "stdout",
     "output_type": "stream",
     "text": [
      "cat_14   83\n"
     ]
    },
    {
     "data": {
      "image/png": "[encoded data removed]",
      "text/plain": [
       "<matplotlib.figure.Figure at 0x127a80da048>"
      ]
     },
     "metadata": {},
     "output_type": "display_data"
    },
    {
     "name": "stdout",
     "output_type": "stream",
     "text": [
      "cat_15   12\n"
     ]
    },
    {
     "data": {
      "image/png": "[encoded data removed]",
      "text/plain": [
       "<matplotlib.figure.Figure at 0x127aa8c5898>"
      ]
     },
     "metadata": {},
     "output_type": "display_data"
    },
    {
     "name": "stdout",
     "output_type": "stream",
     "text": [
      "cat_16   164\n"
     ]
    },
    {
     "data": {
      "image/png": "[encoded data removed]",
      "text/plain": [
       "<matplotlib.figure.Figure at 0x127be1b1588>"
      ]
     },
     "metadata": {},
     "output_type": "display_data"
    },
    {
     "name": "stdout",
     "output_type": "stream",
     "text": [
      "cat_17   0\n",
      "cat_18   1\n"
     ]
    },
    {
     "data": {
      "image/png": "[encoded data removed]",
      "text/plain": [
       "<matplotlib.figure.Figure at 0x1280755cb00>"
      ]
     },
     "metadata": {},
     "output_type": "display_data"
    },
    {
     "name": "stdout",
     "output_type": "stream",
     "text": [
      "cat_19   147\n"
     ]
    },
    {
     "data": {
      "image/png": "[encoded data removed]",
      "text/plain": [
       "<matplotlib.figure.Figure at 0x1280645c518>"
      ]
     },
     "metadata": {},
     "output_type": "display_data"
    }
   ],
   "source": [
    "for i in ['cat_4','cat_5','cat_6','cat_7','cat_8','cat_10','cat_11','cat_12','cat_13','cat_14','cat_15','cat_16','cat_17','cat_18','cat_19']:\n",
    "    print(i,' ',len(train[train[i]!=0]))\n",
    "    if len(train[train[i]!=0])!=0:\n",
    "        sns.countplot(x='target',data=(train[train[i]!=0]))\n",
    "        plt.show()\n",
    "#Drop 'cat_4','cat_5','cat_6','cat_7','cat_8','cat_11','cat_12','cat_15','cat_17','cat_18' columns       "
   ]
  },
  {
   "cell_type": "code",
   "execution_count": 38,
   "metadata": {
    "collapsed": true
   },
   "outputs": [],
   "source": [
    "#Drop 'cat_4','cat_5','cat_6','cat_7','cat_8','cat_11','cat_12','cat_15','cat_17','cat_18' columns\n",
    "train=train.drop(['cat_4','cat_5','cat_6','cat_7','cat_8','cat_10','cat_11','cat_12','cat_13','cat_14','cat_15','cat_16','cat_17','cat_18','cat_19'],1)\n",
    "test=test.drop(['cat_4','cat_5','cat_6','cat_7','cat_8','cat_10','cat_11','cat_12','cat_13','cat_14','cat_15','cat_16','cat_17','cat_18','cat_19'],1)"
   ]
  },
  {
   "cell_type": "code",
   "execution_count": 39,
   "metadata": {
    "collapsed": true
   },
   "outputs": [],
   "source": [
    "from sklearn.preprocessing import MinMaxScaler"
   ]
  },
  {
   "cell_type": "code",
   "execution_count": 335,
   "metadata": {
    "collapsed": true
   },
   "outputs": [],
   "source": [
    "scale=MinMaxScaler()\n",
    "li=[]\n",
    "for i in train.columns:\n",
    "    if 'cat' not in i and i!='connection_id':\n",
    "        li.append(i)\n",
    "scaled_train_data=scale.fit_transform(train[li])"
   ]
  },
  {
   "cell_type": "code",
   "execution_count": 343,
   "metadata": {},
   "outputs": [
    {
     "name": "stdout",
     "output_type": "stream",
     "text": [
      "(169307, 19)\n"
     ]
    }
   ],
   "source": [
    "scaled_train_data=pd.DataFrame(scaled_train_data,columns=li)\n",
    "print(scaled_train_data.shape)"
   ]
  },
  {
   "cell_type": "code",
   "execution_count": 344,
   "metadata": {
    "collapsed": true
   },
   "outputs": [],
   "source": [
    "for i in li:\n",
    "    train[i]=scaled_train_data[i].values"
   ]
  },
  {
   "cell_type": "code",
   "execution_count": 342,
   "metadata": {},
   "outputs": [
    {
     "name": "stdout",
     "output_type": "stream",
     "text": [
      "1.0    42596\n",
      "0.0    0\n",
      "1.0    11396904\n",
      "0.0    0\n",
      "1.0    11730594\n",
      "0.0    0\n",
      "1.0    1.0\n",
      "0.0    0.0\n",
      "1.0    1.0\n",
      "0.0    0.0\n",
      "1.0    1.0\n",
      "0.0    0.0\n",
      "1.0    1.0\n",
      "0.0    0.0\n",
      "1.0    1.0\n",
      "0.0    0.0\n",
      "1.0    1.0\n",
      "0.0    0.0\n",
      "1.0    1.0\n",
      "0.0    0.0\n",
      "1.0    1.0\n",
      "0.0    0.0\n",
      "1.0    1.0\n",
      "0.0    0.0\n",
      "1.0    1.0\n",
      "0.0    0.0\n",
      "1.0    1.0\n",
      "0.0    0.0\n",
      "1.0    1.0\n",
      "0.0    0.0\n",
      "1.0    1.0\n",
      "0.0    0.0\n",
      "1.0    1.0\n",
      "0.0    0.0\n",
      "1.0    1.0\n",
      "0.0    0.0\n",
      "1.0    2\n",
      "0.0    0\n"
     ]
    }
   ],
   "source": [
    "for i in li:\n",
    "    print(max(scaled_train_data[i]),'  ',max(train[i]))\n",
    "    print(min(scaled_train_data[i]),'  ',min(train[i]))"
   ]
  },
  {
   "cell_type": "code",
   "execution_count": null,
   "metadata": {
    "collapsed": true
   },
   "outputs": [],
   "source": []
  },
  {
   "cell_type": "code",
   "execution_count": 340,
   "metadata": {},
   "outputs": [
    {
     "name": "stdout",
     "output_type": "stream",
     "text": [
      "cont_1\n"
     ]
    },
    {
     "data": {
      "image/png": "[encoded data removed]",
      "text/plain": [
       "<matplotlib.figure.Figure at 0x127999dd278>"
      ]
     },
     "metadata": {},
     "output_type": "display_data"
    },
    {
     "data": {
      "image/png": "[encoded data removed]",
      "text/plain": [
       "<matplotlib.figure.Figure at 0x127bdf9ae48>"
      ]
     },
     "metadata": {},
     "output_type": "display_data"
    },
    {
     "name": "stdout",
     "output_type": "stream",
     "text": [
      "cont_2\n"
     ]
    },
    {
     "data": {
      "image/png": "[encoded data removed]",
      "text/plain": [
       "<matplotlib.figure.Figure at 0x127a626a780>"
      ]
     },
     "metadata": {},
     "output_type": "display_data"
    },
    {
     "data": {
      "image/png": "[encoded data removed]",
      "text/plain": [
       "<matplotlib.figure.Figure at 0x1279a822a90>"
      ]
     },
     "metadata": {},
     "output_type": "display_data"
    },
    {
     "name": "stdout",
     "output_type": "stream",
     "text": [
      "cont_3\n"
     ]
    },
    {
     "data": {
      "image/png": "[encoded data removed]",
      "text/plain": [
       "<matplotlib.figure.Figure at 0x127a609f3c8>"
      ]
     },
     "metadata": {},
     "output_type": "display_data"
    },
    {
     "data": {
      "image/png": "[encoded data removed]",
      "text/plain": [
       "<matplotlib.figure.Figure at 0x127a6024da0>"
      ]
     },
     "metadata": {},
     "output_type": "display_data"
    },
    {
     "name": "stdout",
     "output_type": "stream",
     "text": [
      "cont_4\n"
     ]
    },
    {
     "data": {
      "image/png": "[encoded data removed]",
      "text/plain": [
       "<matplotlib.figure.Figure at 0x127a609f048>"
      ]
     },
     "metadata": {},
     "output_type": "display_data"
    },
    {
     "data": {
      "image/png": "[encoded data removed]",
      "text/plain": [
       "<matplotlib.figure.Figure at 0x127a68b1e10>"
      ]
     },
     "metadata": {},
     "output_type": "display_data"
    },
    {
     "name": "stdout",
     "output_type": "stream",
     "text": [
      "cont_5\n"
     ]
    },
    {
     "data": {
      "image/png": "[encoded data removed]",
      "text/plain": [
       "<matplotlib.figure.Figure at 0x127a69d6dd8>"
      ]
     },
     "metadata": {},
     "output_type": "display_data"
    },
    {
     "data": {
      "image/png": "[encoded data removed]",
      "text/plain": [
       "<matplotlib.figure.Figure at 0x127a6af4da0>"
      ]
     },
     "metadata": {},
     "output_type": "display_data"
    },
    {
     "name": "stdout",
     "output_type": "stream",
     "text": [
      "cont_6\n"
     ]
    },
    {
     "data": {
      "image/png": "[encoded data removed]",
      "text/plain": [
       "<matplotlib.figure.Figure at 0x127a6c20f60>"
      ]
     },
     "metadata": {},
     "output_type": "display_data"
    },
    {
     "data": {
      "image/png": "[encoded data removed]",
      "text/plain": [
       "<matplotlib.figure.Figure at 0x127a6af1dd8>"
      ]
     },
     "metadata": {},
     "output_type": "display_data"
    },
    {
     "name": "stdout",
     "output_type": "stream",
     "text": [
      "cont_7\n"
     ]
    },
    {
     "data": {
      "image/png": "[encoded data removed]",
      "text/plain": [
       "<matplotlib.figure.Figure at 0x127a765a400>"
      ]
     },
     "metadata": {},
     "output_type": "display_data"
    },
    {
     "data": {
      "image/png": "[encoded data removed]",
      "text/plain": [
       "<matplotlib.figure.Figure at 0x127a68fbd68>"
      ]
     },
     "metadata": {},
     "output_type": "display_data"
    },
    {
     "name": "stdout",
     "output_type": "stream",
     "text": [
      "cont_8\n"
     ]
    },
    {
     "data": {
      "image/png": "[encoded data removed]",
      "text/plain": [
       "<matplotlib.figure.Figure at 0x127a7918fd0>"
      ]
     },
     "metadata": {},
     "output_type": "display_data"
    },
    {
     "data": {
      "image/png": "[encoded data removed]",
      "text/plain": [
       "<matplotlib.figure.Figure at 0x127a7aa1f98>"
      ]
     },
     "metadata": {},
     "output_type": "display_data"
    },
    {
     "name": "stdout",
     "output_type": "stream",
     "text": [
      "cont_9\n"
     ]
    },
    {
     "data": {
      "image/png": "[encoded data removed]",
      "text/plain": [
       "<matplotlib.figure.Figure at 0x127a795a668>"
      ]
     },
     "metadata": {},
     "output_type": "display_data"
    },
    {
     "data": {
      "image/png": "[encoded data removed]",
      "text/plain": [
       "<matplotlib.figure.Figure at 0x127a7ae87b8>"
      ]
     },
     "metadata": {},
     "output_type": "display_data"
    },
    {
     "name": "stdout",
     "output_type": "stream",
     "text": [
      "cont_10\n"
     ]
    },
    {
     "data": {
      "image/png": "[encoded data removed]",
      "text/plain": [
       "<matplotlib.figure.Figure at 0x127a9f6de10>"
      ]
     },
     "metadata": {},
     "output_type": "display_data"
    },
    {
     "data": {
      "image/png": "[encoded data removed]",
      "text/plain": [
       "<matplotlib.figure.Figure at 0x127a9f655f8>"
      ]
     },
     "metadata": {},
     "output_type": "display_data"
    },
    {
     "name": "stdout",
     "output_type": "stream",
     "text": [
      "cont_11\n"
     ]
    },
    {
     "data": {
      "image/png": "[encoded data removed]",
      "text/plain": [
       "<matplotlib.figure.Figure at 0x127a9dd7978>"
      ]
     },
     "metadata": {},
     "output_type": "display_data"
    },
    {
     "data": {
      "image/png": "[encoded data removed]",
      "text/plain": [
       "<matplotlib.figure.Figure at 0x127a9f939b0>"
      ]
     },
     "metadata": {},
     "output_type": "display_data"
    },
    {
     "name": "stdout",
     "output_type": "stream",
     "text": [
      "cont_12\n"
     ]
    },
    {
     "data": {
      "image/png": "[encoded data removed]",
      "text/plain": [
       "<matplotlib.figure.Figure at 0x127a9f74cc0>"
      ]
     },
     "metadata": {},
     "output_type": "display_data"
    },
    {
     "data": {
      "image/png": "[encoded data removed]",
      "text/plain": [
       "<matplotlib.figure.Figure at 0x127abeb6860>"
      ]
     },
     "metadata": {},
     "output_type": "display_data"
    },
    {
     "name": "stdout",
     "output_type": "stream",
     "text": [
      "cont_13\n"
     ]
    },
    {
     "data": {
      "image/png": "[encoded data removed]",
      "text/plain": [
       "<matplotlib.figure.Figure at 0x127ac045278>"
      ]
     },
     "metadata": {},
     "output_type": "display_data"
    },
    {
     "data": {
      "image/png": "[encoded data removed]",
      "text/plain": [
       "<matplotlib.figure.Figure at 0x127ac084a20>"
      ]
     },
     "metadata": {},
     "output_type": "display_data"
    },
    {
     "name": "stdout",
     "output_type": "stream",
     "text": [
      "cont_14\n"
     ]
    },
    {
     "data": {
      "image/png": "[encoded data removed]",
      "text/plain": [
       "<matplotlib.figure.Figure at 0x127ac2a4cf8>"
      ]
     },
     "metadata": {},
     "output_type": "display_data"
    },
    {
     "data": {
      "image/png": "[encoded data removed]",
      "text/plain": [
       "<matplotlib.figure.Figure at 0x127ac42fe80>"
      ]
     },
     "metadata": {},
     "output_type": "display_data"
    },
    {
     "name": "stdout",
     "output_type": "stream",
     "text": [
      "cont_15\n"
     ]
    },
    {
     "data": {
      "image/png": "[encoded data removed]",
      "text/plain": [
       "<matplotlib.figure.Figure at 0x127ac47b630>"
      ]
     },
     "metadata": {},
     "output_type": "display_data"
    },
    {
     "data": {
      "image/png": "[encoded data removed]",
      "text/plain": [
       "<matplotlib.figure.Figure at 0x127ac3fd3c8>"
      ]
     },
     "metadata": {},
     "output_type": "display_data"
    },
    {
     "name": "stdout",
     "output_type": "stream",
     "text": [
      "cont_16\n"
     ]
    },
    {
     "data": {
      "image/png": "[encoded data removed]",
      "text/plain": [
       "<matplotlib.figure.Figure at 0x127b6520fd0>"
      ]
     },
     "metadata": {},
     "output_type": "display_data"
    },
    {
     "data": {
      "image/png": "[encoded data removed]",
      "text/plain": [
       "<matplotlib.figure.Figure at 0x127b6504780>"
      ]
     },
     "metadata": {},
     "output_type": "display_data"
    },
    {
     "name": "stdout",
     "output_type": "stream",
     "text": [
      "cont_17\n"
     ]
    },
    {
     "data": {
      "image/png": "[encoded data removed]",
      "text/plain": [
       "<matplotlib.figure.Figure at 0x127be8cf9e8>"
      ]
     },
     "metadata": {},
     "output_type": "display_data"
    },
    {
     "data": {
      "image/png": "[encoded data removed]",
      "text/plain": [
       "<matplotlib.figure.Figure at 0x127be89ec18>"
      ]
     },
     "metadata": {},
     "output_type": "display_data"
    },
    {
     "name": "stdout",
     "output_type": "stream",
     "text": [
      "cont_18\n"
     ]
    },
    {
     "data": {
      "image/png": "[encoded data removed]",
      "text/plain": [
       "<matplotlib.figure.Figure at 0x127bfce3fd0>"
      ]
     },
     "metadata": {},
     "output_type": "display_data"
    },
    {
     "data": {
      "image/png": "[encoded data removed]",
      "text/plain": [
       "<matplotlib.figure.Figure at 0x127bef43e80>"
      ]
     },
     "metadata": {},
     "output_type": "display_data"
    },
    {
     "name": "stdout",
     "output_type": "stream",
     "text": [
      "target\n"
     ]
    },
    {
     "data": {
      "image/png": "[encoded data removed]",
      "text/plain": [
       "<matplotlib.figure.Figure at 0x127b7585cf8>"
      ]
     },
     "metadata": {},
     "output_type": "display_data"
    },
    {
     "data": {
      "image/png": "[encoded data removed]",
      "text/plain": [
       "<matplotlib.figure.Figure at 0x127c1370c50>"
      ]
     },
     "metadata": {},
     "output_type": "display_data"
    }
   ],
   "source": [
    "for i in li:\n",
    "    print(i)\n",
    "    sns.distplot(train[i].values)\n",
    "    plt.show()\n",
    "    sns.distplot(scaled_train_data[i])\n",
    "    plt.show()"
   ]
  },
  {
   "cell_type": "code",
   "execution_count": 354,
   "metadata": {},
   "outputs": [
    {
     "name": "stdout",
     "output_type": "stream",
     "text": [
      "cont_4    1.000000\n",
      "cont_5    0.998541\n",
      "Name: cont_4, dtype: float64\n"
     ]
    }
   ],
   "source": [
    "print(train[['cont_4','cont_5']].corr()['cont_4'])"
   ]
  },
  {
   "cell_type": "code",
   "execution_count": 351,
   "metadata": {},
   "outputs": [
    {
     "data": {
      "image/png": "[encoded data removed]",
      "text/plain": [
       "<matplotlib.figure.Figure at 0x127cb323518>"
      ]
     },
     "metadata": {},
     "output_type": "display_data"
    }
   ],
   "source": [
    "fig, ax = plt.subplots(figsize=(10,10)) \n",
    "corr=train.corr()\n",
    "sns.heatmap(corr, mask=np.zeros_like(corr, dtype=np.bool), cmap=sns.diverging_palette(220, 10, as_cmap=True),\n",
    "            square=True,ax=ax)\n",
    "plt.show()"
   ]
  },
  {
   "cell_type": "markdown",
   "metadata": {
    "collapsed": true
   },
   "source": [
    "# Some more visualization"
   ]
  },
  {
   "cell_type": "code",
   "execution_count": null,
   "metadata": {
    "collapsed": true
   },
   "outputs": [],
   "source": [
    "from sklearn.preprocessing import OneHotEncoder"
   ]
  },
  {
   "cell_type": "code",
   "execution_count": null,
   "metadata": {
    "collapsed": true
   },
   "outputs": [],
   "source": [
    "ohe=OneHotEncoder()\n",
    "tmp=ohe.fit(np.array(pd.concat([train['cat_1'],test['cat_1']],0)).reshape(-1,1))\n",
    "tmp=ohe.transform(np.array(train['cat_1']).reshape(-1,1)).toarray().reshape(-1,3)"
   ]
  },
  {
   "cell_type": "code",
   "execution_count": 40,
   "metadata": {},
   "outputs": [
    {
     "name": "stdout",
     "output_type": "stream",
     "text": [
      "cat_1 3 3  -   1 1\n",
      "cat_2 69 67  -   1 1\n",
      "cat_3 11 11  -   1 1\n",
      "cat_9 1 1  -   0 0\n",
      "cat_20 511 511  -   0 1\n",
      "cat_21 511 511  -   0 1\n",
      "cat_22 255 255  -   0 0\n",
      "cat_23 255 255  -   0 0\n"
     ]
    }
   ],
   "source": [
    "for i in get_features(train):\n",
    "    if 'cat' in i:\n",
    "        print(i,max(train[i]),max(test[i]),' -  ',min(train[i]),min(test[i]))"
   ]
  },
  {
   "cell_type": "markdown",
   "metadata": {},
   "source": [
    "# cat_9"
   ]
  },
  {
   "cell_type": "code",
   "execution_count": 41,
   "metadata": {},
   "outputs": [
    {
     "data": {
      "text/html": [
       "<div>\n",
       "<style>\n",
       "    .dataframe thead tr:only-child th {\n",
       "        text-align: right;\n",
       "    }\n",
       "\n",
       "    .dataframe thead th {\n",
       "        text-align: left;\n",
       "    }\n",
       "\n",
       "    .dataframe tbody tr th {\n",
       "        vertical-align: top;\n",
       "    }\n",
       "</style>\n",
       "<table border=\"1\" class=\"dataframe\">\n",
       "  <thead>\n",
       "    <tr style=\"text-align: right;\">\n",
       "      <th>target</th>\n",
       "      <th>0</th>\n",
       "      <th>1</th>\n",
       "      <th>2</th>\n",
       "      <th>All</th>\n",
       "    </tr>\n",
       "    <tr>\n",
       "      <th>cat_9</th>\n",
       "      <th></th>\n",
       "      <th></th>\n",
       "      <th></th>\n",
       "      <th></th>\n",
       "    </tr>\n",
       "  </thead>\n",
       "  <tbody>\n",
       "    <tr>\n",
       "      <th>0</th>\n",
       "      <td>98503</td>\n",
       "      <td>9472</td>\n",
       "      <td>36720</td>\n",
       "      <td>144695</td>\n",
       "    </tr>\n",
       "    <tr>\n",
       "      <th>1</th>\n",
       "      <td>365</td>\n",
       "      <td>24113</td>\n",
       "      <td>134</td>\n",
       "      <td>24612</td>\n",
       "    </tr>\n",
       "    <tr>\n",
       "      <th>All</th>\n",
       "      <td>98868</td>\n",
       "      <td>33585</td>\n",
       "      <td>36854</td>\n",
       "      <td>169307</td>\n",
       "    </tr>\n",
       "  </tbody>\n",
       "</table>\n",
       "</div>"
      ],
      "text/plain": [
       "target      0      1      2     All\n",
       "cat_9                              \n",
       "0       98503   9472  36720  144695\n",
       "1         365  24113    134   24612\n",
       "All     98868  33585  36854  169307"
      ]
     },
     "execution_count": 41,
     "metadata": {},
     "output_type": "execute_result"
    }
   ],
   "source": [
    "pd.crosstab(train['cat_9'],train['target'],margins=True)"
   ]
  },
  {
   "cell_type": "markdown",
   "metadata": {},
   "source": [
    "# cat_1"
   ]
  },
  {
   "cell_type": "code",
   "execution_count": 42,
   "metadata": {},
   "outputs": [
    {
     "data": {
      "text/html": [
       "<div>\n",
       "<style>\n",
       "    .dataframe thead tr:only-child th {\n",
       "        text-align: right;\n",
       "    }\n",
       "\n",
       "    .dataframe thead th {\n",
       "        text-align: left;\n",
       "    }\n",
       "\n",
       "    .dataframe tbody tr th {\n",
       "        vertical-align: top;\n",
       "    }\n",
       "</style>\n",
       "<table border=\"1\" class=\"dataframe\">\n",
       "  <thead>\n",
       "    <tr style=\"text-align: right;\">\n",
       "      <th>target</th>\n",
       "      <th>0</th>\n",
       "      <th>1</th>\n",
       "      <th>2</th>\n",
       "      <th>All</th>\n",
       "    </tr>\n",
       "    <tr>\n",
       "      <th>cat_1</th>\n",
       "      <th></th>\n",
       "      <th></th>\n",
       "      <th></th>\n",
       "      <th></th>\n",
       "    </tr>\n",
       "  </thead>\n",
       "  <tbody>\n",
       "    <tr>\n",
       "      <th>1</th>\n",
       "      <td>27879</td>\n",
       "      <td>26446</td>\n",
       "      <td>10412</td>\n",
       "      <td>64737</td>\n",
       "    </tr>\n",
       "    <tr>\n",
       "      <th>2</th>\n",
       "      <td>315</td>\n",
       "      <td>6738</td>\n",
       "      <td>123</td>\n",
       "      <td>7176</td>\n",
       "    </tr>\n",
       "    <tr>\n",
       "      <th>3</th>\n",
       "      <td>70674</td>\n",
       "      <td>401</td>\n",
       "      <td>26319</td>\n",
       "      <td>97394</td>\n",
       "    </tr>\n",
       "    <tr>\n",
       "      <th>All</th>\n",
       "      <td>98868</td>\n",
       "      <td>33585</td>\n",
       "      <td>36854</td>\n",
       "      <td>169307</td>\n",
       "    </tr>\n",
       "  </tbody>\n",
       "</table>\n",
       "</div>"
      ],
      "text/plain": [
       "target      0      1      2     All\n",
       "cat_1                              \n",
       "1       27879  26446  10412   64737\n",
       "2         315   6738    123    7176\n",
       "3       70674    401  26319   97394\n",
       "All     98868  33585  36854  169307"
      ]
     },
     "execution_count": 42,
     "metadata": {},
     "output_type": "execute_result"
    }
   ],
   "source": [
    "pd.crosstab(train['cat_1'],train['target'],margins=True)"
   ]
  },
  {
   "cell_type": "markdown",
   "metadata": {},
   "source": [
    "# cat_3 "
   ]
  },
  {
   "cell_type": "code",
   "execution_count": 43,
   "metadata": {},
   "outputs": [
    {
     "data": {
      "text/html": [
       "<div>\n",
       "<style>\n",
       "    .dataframe thead tr:only-child th {\n",
       "        text-align: right;\n",
       "    }\n",
       "\n",
       "    .dataframe thead th {\n",
       "        text-align: left;\n",
       "    }\n",
       "\n",
       "    .dataframe tbody tr th {\n",
       "        vertical-align: top;\n",
       "    }\n",
       "</style>\n",
       "<table border=\"1\" class=\"dataframe\">\n",
       "  <thead>\n",
       "    <tr style=\"text-align: right;\">\n",
       "      <th>target</th>\n",
       "      <th>0</th>\n",
       "      <th>1</th>\n",
       "      <th>2</th>\n",
       "      <th>All</th>\n",
       "    </tr>\n",
       "    <tr>\n",
       "      <th>cat_3</th>\n",
       "      <th></th>\n",
       "      <th></th>\n",
       "      <th></th>\n",
       "      <th></th>\n",
       "    </tr>\n",
       "  </thead>\n",
       "  <tbody>\n",
       "    <tr>\n",
       "      <th>1</th>\n",
       "      <td>71387</td>\n",
       "      <td>31759</td>\n",
       "      <td>26588</td>\n",
       "      <td>129734</td>\n",
       "    </tr>\n",
       "    <tr>\n",
       "      <th>2</th>\n",
       "      <td>1</td>\n",
       "      <td>4</td>\n",
       "      <td>1</td>\n",
       "      <td>6</td>\n",
       "    </tr>\n",
       "    <tr>\n",
       "      <th>3</th>\n",
       "      <td>1</td>\n",
       "      <td>10</td>\n",
       "      <td>0</td>\n",
       "      <td>11</td>\n",
       "    </tr>\n",
       "    <tr>\n",
       "      <th>4</th>\n",
       "      <td>5</td>\n",
       "      <td>1</td>\n",
       "      <td>3</td>\n",
       "      <td>9</td>\n",
       "    </tr>\n",
       "    <tr>\n",
       "      <th>5</th>\n",
       "      <td>1</td>\n",
       "      <td>0</td>\n",
       "      <td>0</td>\n",
       "      <td>1</td>\n",
       "    </tr>\n",
       "    <tr>\n",
       "      <th>6</th>\n",
       "      <td>6004</td>\n",
       "      <td>1767</td>\n",
       "      <td>2288</td>\n",
       "      <td>10059</td>\n",
       "    </tr>\n",
       "    <tr>\n",
       "      <th>7</th>\n",
       "      <td>136</td>\n",
       "      <td>17</td>\n",
       "      <td>56</td>\n",
       "      <td>209</td>\n",
       "    </tr>\n",
       "    <tr>\n",
       "      <th>8</th>\n",
       "      <td>21103</td>\n",
       "      <td>14</td>\n",
       "      <td>7838</td>\n",
       "      <td>28955</td>\n",
       "    </tr>\n",
       "    <tr>\n",
       "      <th>9</th>\n",
       "      <td>202</td>\n",
       "      <td>13</td>\n",
       "      <td>68</td>\n",
       "      <td>283</td>\n",
       "    </tr>\n",
       "    <tr>\n",
       "      <th>10</th>\n",
       "      <td>4</td>\n",
       "      <td>0</td>\n",
       "      <td>3</td>\n",
       "      <td>7</td>\n",
       "    </tr>\n",
       "    <tr>\n",
       "      <th>11</th>\n",
       "      <td>24</td>\n",
       "      <td>0</td>\n",
       "      <td>9</td>\n",
       "      <td>33</td>\n",
       "    </tr>\n",
       "    <tr>\n",
       "      <th>All</th>\n",
       "      <td>98868</td>\n",
       "      <td>33585</td>\n",
       "      <td>36854</td>\n",
       "      <td>169307</td>\n",
       "    </tr>\n",
       "  </tbody>\n",
       "</table>\n",
       "</div>"
      ],
      "text/plain": [
       "target      0      1      2     All\n",
       "cat_3                              \n",
       "1       71387  31759  26588  129734\n",
       "2           1      4      1       6\n",
       "3           1     10      0      11\n",
       "4           5      1      3       9\n",
       "5           1      0      0       1\n",
       "6        6004   1767   2288   10059\n",
       "7         136     17     56     209\n",
       "8       21103     14   7838   28955\n",
       "9         202     13     68     283\n",
       "10          4      0      3       7\n",
       "11         24      0      9      33\n",
       "All     98868  33585  36854  169307"
      ]
     },
     "execution_count": 43,
     "metadata": {},
     "output_type": "execute_result"
    }
   ],
   "source": [
    "pd.crosstab(train['cat_3'],train['target'],margins=True)"
   ]
  },
  {
   "cell_type": "markdown",
   "metadata": {},
   "source": [
    "Binning"
   ]
  },
  {
   "cell_type": "code",
   "execution_count": 44,
   "metadata": {
    "collapsed": true
   },
   "outputs": [],
   "source": [
    "train['cat_3']=['cat1' if i<=1 else('cat2' if i<=7 else 'cat3') for i in train['cat_3'].values]\n",
    "test['cat_3']=['cat1' if i<=1 else('cat2' if i<=7 else 'cat3') for i in test['cat_3'].values]"
   ]
  },
  {
   "cell_type": "code",
   "execution_count": 45,
   "metadata": {},
   "outputs": [
    {
     "data": {
      "text/html": [
       "<div>\n",
       "<style>\n",
       "    .dataframe thead tr:only-child th {\n",
       "        text-align: right;\n",
       "    }\n",
       "\n",
       "    .dataframe thead th {\n",
       "        text-align: left;\n",
       "    }\n",
       "\n",
       "    .dataframe tbody tr th {\n",
       "        vertical-align: top;\n",
       "    }\n",
       "</style>\n",
       "<table border=\"1\" class=\"dataframe\">\n",
       "  <thead>\n",
       "    <tr style=\"text-align: right;\">\n",
       "      <th>target</th>\n",
       "      <th>0</th>\n",
       "      <th>1</th>\n",
       "      <th>2</th>\n",
       "      <th>All</th>\n",
       "    </tr>\n",
       "    <tr>\n",
       "      <th>cat_3</th>\n",
       "      <th></th>\n",
       "      <th></th>\n",
       "      <th></th>\n",
       "      <th></th>\n",
       "    </tr>\n",
       "  </thead>\n",
       "  <tbody>\n",
       "    <tr>\n",
       "      <th>cat1</th>\n",
       "      <td>71387</td>\n",
       "      <td>31759</td>\n",
       "      <td>26588</td>\n",
       "      <td>129734</td>\n",
       "    </tr>\n",
       "    <tr>\n",
       "      <th>cat2</th>\n",
       "      <td>6148</td>\n",
       "      <td>1799</td>\n",
       "      <td>2348</td>\n",
       "      <td>10295</td>\n",
       "    </tr>\n",
       "    <tr>\n",
       "      <th>cat3</th>\n",
       "      <td>21333</td>\n",
       "      <td>27</td>\n",
       "      <td>7918</td>\n",
       "      <td>29278</td>\n",
       "    </tr>\n",
       "    <tr>\n",
       "      <th>All</th>\n",
       "      <td>98868</td>\n",
       "      <td>33585</td>\n",
       "      <td>36854</td>\n",
       "      <td>169307</td>\n",
       "    </tr>\n",
       "  </tbody>\n",
       "</table>\n",
       "</div>"
      ],
      "text/plain": [
       "target      0      1      2     All\n",
       "cat_3                              \n",
       "cat1    71387  31759  26588  129734\n",
       "cat2     6148   1799   2348   10295\n",
       "cat3    21333     27   7918   29278\n",
       "All     98868  33585  36854  169307"
      ]
     },
     "execution_count": 45,
     "metadata": {},
     "output_type": "execute_result"
    }
   ],
   "source": [
    "pd.crosstab(train['cat_3'],train['target'],margins=True)"
   ]
  },
  {
   "cell_type": "markdown",
   "metadata": {},
   "source": [
    "# cat_2"
   ]
  },
  {
   "cell_type": "code",
   "execution_count": 46,
   "metadata": {},
   "outputs": [],
   "source": [
    "# print_full(pd.crosstab(train['cat_2'],train['target'],margins=True))"
   ]
  },
  {
   "cell_type": "markdown",
   "metadata": {},
   "source": [
    "After seing above data and their distributions, concluding that attack1 and attack0 are major for some specific category"
   ]
  },
  {
   "cell_type": "markdown",
   "metadata": {},
   "source": [
    "Extracting some features for attack1 and attack0"
   ]
  },
  {
   "cell_type": "code",
   "execution_count": 47,
   "metadata": {},
   "outputs": [
    {
     "data": {
      "text/plain": [
       "1643"
      ]
     },
     "execution_count": 47,
     "metadata": {},
     "output_type": "execute_result"
    }
   ],
   "source": [
    "len(train[train['cat_2']>15])"
   ]
  },
  {
   "cell_type": "code",
   "execution_count": 48,
   "metadata": {},
   "outputs": [],
   "source": [
    "# print_full(train['cat_2'].value_counts())"
   ]
  },
  {
   "cell_type": "code",
   "execution_count": 49,
   "metadata": {},
   "outputs": [],
   "source": [
    "# print_full(test['cat_2'].value_counts())"
   ]
  },
  {
   "cell_type": "code",
   "execution_count": 50,
   "metadata": {
    "collapsed": true
   },
   "outputs": [],
   "source": [
    "attack_1=[1,2,3,11,15,40]\n",
    "attack_0=[10,13]\n",
    "not_attack_1=[]"
   ]
  },
  {
   "cell_type": "code",
   "execution_count": 51,
   "metadata": {
    "collapsed": true
   },
   "outputs": [],
   "source": [
    "major_attack_1,major_attack_0=[],[]\n",
    "for i in train['cat_2'].values:\n",
    "    if i in attack_1:\n",
    "        major_attack_1.append(1)\n",
    "    else :\n",
    "        major_attack_1.append(0)\n",
    "    if i in attack_0:\n",
    "        major_attack_0.append(1)\n",
    "    else:\n",
    "        major_attack_0.append(0)\n",
    "train['is_attack_1']=major_attack_1\n",
    "train['is_attack_0']=major_attack_0\n",
    "\n",
    "major_attack_1,major_attack_0=[],[]\n",
    "for i in test['cat_2'].values:\n",
    "    if i in attack_1:\n",
    "        major_attack_1.append(1)\n",
    "    else :\n",
    "        major_attack_1.append(0)\n",
    "    if i in attack_0:\n",
    "        major_attack_0.append(1)\n",
    "    else:\n",
    "        major_attack_0.append(0)\n",
    "test['is_attack_1']=major_attack_1\n",
    "test['is_attack_0']=major_attack_0"
   ]
  },
  {
   "cell_type": "code",
   "execution_count": 52,
   "metadata": {},
   "outputs": [
    {
     "data": {
      "text/plain": [
       "30820"
      ]
     },
     "execution_count": 52,
     "metadata": {},
     "output_type": "execute_result"
    }
   ],
   "source": [
    "len(train[train['is_attack_1']!=0])"
   ]
  },
  {
   "cell_type": "markdown",
   "metadata": {},
   "source": [
    "binning"
   ]
  },
  {
   "cell_type": "code",
   "execution_count": 85,
   "metadata": {
    "collapsed": true
   },
   "outputs": [],
   "source": [
    "train['cat_2']=['cat1' if i<=9 else ('cat2' if i==10 else 'cat3') for i in train['cat_2'].values]\n",
    "test['cat_2']=['cat1' if i<=9 else ('cat2' if i==10 else 'cat3') for i in test['cat_2'].values]"
   ]
  },
  {
   "cell_type": "code",
   "execution_count": 86,
   "metadata": {},
   "outputs": [
    {
     "name": "stdout",
     "output_type": "stream",
     "text": [
      "target      0      1      2     All\n",
      "cat_2                              \n",
      "cat1      845  27246    305   28396\n",
      "cat2    70355    114  26211   96680\n",
      "cat3    27668   6225  10338   44231\n",
      "All     98868  33585  36854  169307\n"
     ]
    }
   ],
   "source": [
    "print_full(pd.crosstab(train['cat_2'],train['target'],margins=True))"
   ]
  },
  {
   "cell_type": "markdown",
   "metadata": {},
   "source": [
    "# cat_20"
   ]
  },
  {
   "cell_type": "code",
   "execution_count": 87,
   "metadata": {},
   "outputs": [
    {
     "name": "stdout",
     "output_type": "stream",
     "text": [
      "target      0      1      2     All\n",
      "cat_20                             \n",
      "0           0      2      0       2\n",
      "1         829  12363    314   13506\n",
      "2         277   3420     97    3794\n",
      "3         120   1885     42    2047\n",
      "4          85   1623     22    1730\n",
      "5          29   1390     14    1433\n",
      "6          24   1225      6    1255\n",
      "7          13   1123     11    1147\n",
      "8          17    920      6     943\n",
      "9          10    856      7     873\n",
      "10          7    855      4     866\n",
      "11         14    765      8     787\n",
      "12         18    699      3     720\n",
      "13         12    629      3     644\n",
      "14          9    546      1     556\n",
      "15          7    484      1     492\n",
      "16         22    443      4     469\n",
      "17          8    410      5     423\n",
      "18          9    347      2     358\n",
      "19         14    300      2     316\n",
      "20         11    276      4     291\n",
      "21         10    241      3     254\n",
      "22          8    226      3     237\n",
      "23         11    199      6     216\n",
      "24         11    186      3     200\n",
      "25          9    193      4     206\n",
      "26         14    161      4     179\n",
      "27         16    146      3     165\n",
      "28          8    148      3     159\n",
      "29         11    122      4     137\n",
      "30          7     86      3      96\n",
      "31         18    104      8     130\n",
      "32          9     94      4     107\n",
      "33         18     76      5      99\n",
      "34         15     65      4      84\n",
      "35         12     65      3      80\n",
      "36         10     66      1      77\n",
      "37          8     48      3      59\n",
      "38         11     51      1      63\n",
      "39          6     40      3      49\n",
      "40         10     37      2      49\n",
      "41         13     27      5      45\n",
      "42          6     30      3      39\n",
      "43          9     25      5      39\n",
      "44          7     13      3      23\n",
      "45          6     15      2      23\n",
      "46          8     18      4      30\n",
      "47          7     17      2      26\n",
      "48          7     10      3      20\n",
      "49          5      8      5      18\n",
      "50          4     11      1      16\n",
      "51          7     18      2      27\n",
      "52          9     14      2      25\n",
      "53          6      9      2      17\n",
      "54         10     13      3      26\n",
      "55         10      9      2      21\n",
      "56         10      3      2      15\n",
      "57         11      4      4      19\n",
      "58          6      7      3      16\n",
      "59         11      7      5      23\n",
      "60          8     11      5      24\n",
      "61         11     14      2      27\n",
      "62          6      7      4      17\n",
      "63          5     12      4      21\n",
      "64          7      7      2      16\n",
      "65         15      9      3      27\n",
      "66          9      5      5      19\n",
      "67         13      5      1      19\n",
      "68         13      0      6      19\n",
      "69          4     11      3      18\n",
      "70         10      6      1      17\n",
      "71         10      9      4      23\n",
      "72         11      4      3      18\n",
      "73         10      1      6      17\n",
      "74          9      8      3      20\n",
      "75         12      6      2      20\n",
      "76         13      6      3      22\n",
      "77         12     13      2      27\n",
      "78         13      6      4      23\n",
      "79          7      7      5      19\n",
      "80          8      3      9      20\n",
      "81         18      1      3      22\n",
      "82         13      0      9      22\n",
      "83         14      2      3      19\n",
      "84          6      2      4      12\n",
      "85         12      2      9      23\n",
      "86          9      4      9      22\n",
      "87         14      2      6      22\n",
      "88          9      1      2      12\n",
      "89         18      1      5      24\n",
      "90         16      3      9      28\n",
      "91         14      0      2      16\n",
      "92         20      2      4      26\n",
      "93         26      1      8      35\n",
      "94         28      2     10      40\n",
      "95         25      3     15      43\n",
      "96         44      0     17      61\n",
      "97         39      0     15      54\n",
      "98         51      5     16      72\n",
      "99         47      1     12      60\n",
      "100        83      4     26     113\n",
      "101       226      2     83     311\n",
      "102       207      4     92     303\n",
      "103       203      0    100     303\n",
      "104       220      1     76     297\n",
      "105       238      3     77     318\n",
      "106       219      2     69     290\n",
      "107       233      2     76     311\n",
      "108       218      2    103     323\n",
      "109       230      4     93     327\n",
      "110       254      4     81     339\n",
      "111       228      4     85     317\n",
      "112       257      1     69     327\n",
      "113       225      2     93     320\n",
      "114       219      4     87     310\n",
      "115       220      0     84     304\n",
      "116       230      1    105     336\n",
      "117       249      1     89     339\n",
      "118       251      2     76     329\n",
      "119       229      1     90     320\n",
      "120       241      1    100     342\n",
      "121       230      0     73     303\n",
      "122       214      2     80     296\n",
      "123       222      3     89     314\n",
      "124       216      0     80     296\n",
      "125       247      2     74     323\n",
      "126       247      2     79     328\n",
      "127       231      2     87     320\n",
      "128       233      1     89     323\n",
      "129       236      0     91     327\n",
      "130       279      0    105     384\n",
      "131       228      1     85     314\n",
      "132       220      2     91     313\n",
      "133       238      0     94     332\n",
      "134       239      1     71     311\n",
      "135       247      1     78     326\n",
      "136       198      1     87     286\n",
      "137       201      1     82     284\n",
      "138       236      2     77     315\n",
      "139       248      1     96     345\n",
      "140       243      2     92     337\n",
      "141       220      0     95     315\n",
      "142       246      2     79     327\n",
      "143       209      4     84     297\n",
      "144       180      1     89     270\n",
      "145       208      1     64     273\n",
      "146       187      2     76     265\n",
      "147       190      2     71     263\n",
      "148       187      3     66     256\n",
      "149       195      2     72     269\n",
      "150       153      0     46     199\n",
      "151        39      1     15      55\n",
      "152        30      2     15      47\n",
      "153        34      0     10      44\n",
      "154        37      1      8      46\n",
      "155        22      3     12      37\n",
      "156        29      2     12      43\n",
      "157        20      1     10      31\n",
      "158        30      0     15      45\n",
      "159        19      3      5      27\n",
      "160        33      1      7      41\n",
      "161        20      0      8      28\n",
      "162        22      2      7      31\n",
      "163        22      0     12      34\n",
      "164        24      0     11      35\n",
      "165        15      1      4      20\n",
      "166        29      2     10      41\n",
      "167        18      1      7      26\n",
      "168        15      0      6      21\n",
      "169        14      1      7      22\n",
      "170        13      1     10      24\n",
      "171        26      2     10      38\n",
      "172        24      1      8      33\n",
      "173        16      1     11      28\n",
      "174        24      1      6      31\n",
      "175        15      0     14      29\n",
      "176        15      1      8      24\n",
      "177        21      1      6      28\n",
      "178        25      0     10      35\n",
      "179        29      2      2      33\n",
      "180        14      1     11      26\n",
      "181        18      0      5      23\n",
      "182        16      0     10      26\n",
      "183        20      1     12      33\n",
      "184        13      0      6      19\n",
      "185        15      1      6      22\n",
      "186        23      2     15      40\n",
      "187        24      2      9      35\n",
      "188        24      0      6      30\n",
      "189        26      1     10      37\n",
      "190        33      0     14      47\n",
      "191        37      1     10      48\n",
      "192        25      1      8      34\n",
      "193        28      2      8      38\n",
      "194        33      0     13      46\n",
      "195        37      0     14      51\n",
      "196        31      0     11      42\n",
      "197        40      1     12      53\n",
      "198        37      3     18      58\n",
      "199        45      0     12      57\n",
      "200        59      3     24      86\n",
      "201       172      1     68     241\n",
      "202       154      1     55     210\n",
      "203       146      0     47     193\n",
      "204       157      1     58     216\n",
      "205       148      0     51     199\n",
      "206       155      0     52     207\n",
      "207       150      2     61     213\n",
      "208       142      4     56     202\n",
      "209       148      0     46     194\n",
      "210       164      0     63     227\n",
      "211       149      1     49     199\n",
      "212       177      1     58     236\n",
      "213       134      0     59     193\n",
      "214       151      1     61     213\n",
      "215       143      0     56     199\n",
      "216       146      1     56     203\n",
      "217       143      1     53     197\n",
      "218       139      2     51     192\n",
      "219       165      1     45     211\n",
      "220       158      0     63     221\n",
      "221       150      0     48     198\n",
      "222       152      1     69     222\n",
      "223       133      0     61     194\n",
      "224       156      0     61     217\n",
      "225       127      0     41     168\n",
      "226       133      1     60     194\n",
      "227       145      0     61     206\n",
      "228       156      2     42     200\n",
      "229       139      1     48     188\n",
      "230       157      0     54     211\n",
      "231       138      1     62     201\n",
      "232       167      0     54     221\n",
      "233       137      3     55     195\n",
      "234       157      1     47     205\n",
      "235       140      0     46     186\n",
      "236       143      3     40     186\n",
      "237       126      0     53     179\n",
      "238       127      1     54     182\n",
      "239       153      0     53     206\n",
      "240       150      3     59     212\n",
      "241       151      0     67     218\n",
      "242       146      1     66     213\n",
      "243       141      1     62     204\n",
      "244       148      2     49     199\n",
      "245       151      2     50     203\n",
      "246       173      1     48     222\n",
      "247       144      0     64     208\n",
      "248       142      0     53     195\n",
      "249       144      0     50     194\n",
      "250       154      0     61     215\n",
      "251       140      1     44     185\n",
      "252       130      0     54     184\n",
      "253       157      0     50     207\n",
      "254       146      1     46     193\n",
      "255       144      1     55     200\n",
      "256       136      1     55     192\n",
      "257       142      0     46     188\n",
      "258       146      0     51     197\n",
      "259       159      0     56     215\n",
      "260       134      0     71     205\n",
      "261       134      0     51     185\n",
      "262       150      0     59     209\n",
      "263       152      0     48     200\n",
      "264       143      0     52     195\n",
      "265       129      0     36     165\n",
      "266       129      0     64     193\n",
      "267       132      0     61     193\n",
      "268       135      1     46     182\n",
      "269       134      0     54     188\n",
      "270       129      1     51     181\n",
      "271       128      0     61     189\n",
      "272       130      0     50     180\n",
      "273       148      0     59     207\n",
      "274       123      0     61     184\n",
      "275       157      0     45     202\n",
      "276       147      0     53     200\n",
      "277       138      3     47     188\n",
      "278       138      0     56     194\n",
      "279       127      0     43     170\n",
      "280       127      1     51     179\n",
      "281       135      0     56     191\n",
      "282       136      0     62     198\n",
      "283       135      0     48     183\n",
      "284       139      0     49     188\n",
      "285       125      0     56     181\n",
      "286       114      0     49     163\n",
      "287       124      1     51     176\n",
      "288       126      0     48     174\n",
      "289       108      0     42     150\n",
      "290        92      0     42     134\n",
      "291       117      0     42     159\n",
      "292       126      0     50     176\n",
      "293       126      1     44     171\n",
      "294       114      2     39     155\n",
      "295       112      0     40     152\n",
      "296        97      1     42     140\n",
      "297       120      1     36     157\n",
      "298        96      1     35     132\n",
      "299        75      0     31     106\n",
      "300        88      0     29     117\n",
      "301         3      1      0       4\n",
      "302         0      0      1       1\n",
      "303         1      0      1       2\n",
      "305         1      1      0       2\n",
      "306         1      2      0       3\n",
      "308         1      0      0       1\n",
      "310         1      0      0       1\n",
      "311         2      2      0       4\n",
      "313         1      1      0       2\n",
      "314         1      2      0       3\n",
      "316         0      1      0       1\n",
      "317         1      0      0       1\n",
      "318         2      0      0       2\n",
      "319         0      1      0       1\n",
      "320         1      0      1       2\n",
      "323         0      0      1       1\n",
      "331         2      0      0       2\n",
      "333         1      0      0       1\n",
      "335         0      0      1       1\n",
      "337         1      0      0       1\n",
      "342         1      0      1       2\n",
      "346         0      1      0       1\n",
      "348         1      0      0       1\n",
      "349         1      0      0       1\n",
      "353         0      0      1       1\n",
      "354         1      0      0       1\n",
      "359         2      0      0       2\n",
      "362         1      0      0       1\n",
      "364         1      0      0       1\n",
      "365         0      0      1       1\n",
      "368         0      0      1       1\n",
      "370         1      0      0       1\n",
      "375         1      0      0       1\n",
      "377         1      0      0       1\n",
      "381         2      0      0       2\n",
      "382         2      0      0       2\n",
      "383         2      0      1       3\n",
      "386         1      0      0       1\n",
      "387         0      0      1       1\n",
      "389         1      0      0       1\n",
      "390         0      0      1       1\n",
      "393         0      0      1       1\n",
      "396         0      0      2       2\n",
      "398         3      0      1       4\n",
      "400         2      0      0       2\n",
      "406         1      0      0       1\n",
      "409         0      0      1       1\n",
      "412         1      0      0       1\n",
      "413         1      0      0       1\n",
      "416         0      0      1       1\n",
      "419         1      0      0       1\n",
      "420         1      0      0       1\n",
      "421         1      0      1       2\n",
      "424         1      0      0       1\n",
      "425         2      0      0       2\n",
      "428         1      0      0       1\n",
      "429         0      0      1       1\n",
      "430         1      0      0       1\n",
      "431         1      1      1       3\n",
      "432        19      0      5      24\n",
      "434        34      0     16      50\n",
      "435        20      0     13      33\n",
      "436        71      0     23      94\n",
      "437        22      0      7      29\n",
      "438        48      0     10      58\n",
      "439        58      0     19      77\n",
      "440        11      0      4      15\n",
      "441        45      0     26      71\n",
      "442        50      0     18      68\n",
      "443        63      0     20      83\n",
      "444        72      0     27      99\n",
      "445       112      1     45     158\n",
      "446       142      0     57     199\n",
      "447       135      0     65     200\n",
      "448        89      0     39     128\n",
      "449       233      0     94     327\n",
      "450       129      0     42     171\n",
      "451       215      0     76     291\n",
      "452       120      0     43     163\n",
      "453       173      0     54     227\n",
      "454        99      0     33     132\n",
      "455        50      0     15      65\n",
      "456       140      0     55     195\n",
      "457       126      0     56     182\n",
      "458       132      0     44     176\n",
      "459        57      0     21      78\n",
      "460        67      0     15      82\n",
      "461        98      0     36     134\n",
      "462        49      0     16      65\n",
      "463        95      0     37     132\n",
      "464        55      0     15      70\n",
      "465         6      0      4      10\n",
      "466        45      0     15      60\n",
      "467        24      0     16      40\n",
      "468        15      0      5      20\n",
      "469        13      0      3      16\n",
      "470         8      0      2      10\n",
      "471        16      0      7      23\n",
      "472        36      0     11      47\n",
      "473        33      0     12      45\n",
      "474        30      0      8      38\n",
      "475        44      0     25      69\n",
      "476       117      0     45     162\n",
      "477       132      0     39     171\n",
      "478       210      0     65     275\n",
      "479       117      0     35     152\n",
      "480       174      0     62     236\n",
      "481       146      1     59     206\n",
      "482       170      0     44     214\n",
      "483        56      0     28      84\n",
      "484        81      0     34     115\n",
      "485        30      0     14      44\n",
      "486        61      0     24      85\n",
      "487        27      0      6      33\n",
      "488        12      0      3      15\n",
      "489        12      0      1      13\n",
      "490        22      0      7      29\n",
      "491        36      0      7      43\n",
      "492        11      0      4      15\n",
      "493        11      0      3      14\n",
      "494        12      0      4      16\n",
      "495        13      0      5      18\n",
      "496        11      0      2      13\n",
      "497        14      0      3      17\n",
      "498        10      0      1      11\n",
      "499         7      0      2       9\n",
      "500        10      0      7      17\n",
      "501         8      0      2      10\n",
      "502        11      0      1      12\n",
      "503        11      1      5      17\n",
      "504        42      0      9      51\n",
      "505        28      0     10      38\n",
      "506        42      0     19      61\n",
      "507       152      1     50     203\n",
      "508       373      0    143     516\n",
      "509      1531      4    559    2094\n",
      "510      6720      5   2527    9252\n",
      "511     56279     10  21022   77311\n",
      "All     98868  33585  36854  169307\n"
     ]
    }
   ],
   "source": [
    "print_full(pd.crosstab(train['cat_20'],train['target'],margins=True))\n",
    "#<=50 and <=500 and else"
   ]
  },
  {
   "cell_type": "code",
   "execution_count": 88,
   "metadata": {},
   "outputs": [
    {
     "name": "stdout",
     "output_type": "stream",
     "text": [
      "511    77311\n",
      "1      13506\n",
      "510     9252\n",
      "2       3794\n",
      "509     2094\n",
      "3       2047\n",
      "4       1730\n",
      "5       1433\n",
      "6       1255\n",
      "7       1147\n",
      "8        943\n",
      "9        873\n",
      "10       866\n",
      "11       787\n",
      "12       720\n",
      "13       644\n",
      "14       556\n",
      "508      516\n",
      "15       492\n",
      "16       469\n",
      "17       423\n",
      "130      384\n",
      "18       358\n",
      "139      345\n",
      "120      342\n",
      "117      339\n",
      "110      339\n",
      "140      337\n",
      "116      336\n",
      "133      332\n",
      "118      329\n",
      "126      328\n",
      "112      327\n",
      "142      327\n",
      "449      327\n",
      "109      327\n",
      "129      327\n",
      "135      326\n",
      "125      323\n",
      "128      323\n",
      "108      323\n",
      "119      320\n",
      "127      320\n",
      "113      320\n",
      "105      318\n",
      "111      317\n",
      "19       316\n",
      "141      315\n",
      "138      315\n",
      "123      314\n",
      "131      314\n",
      "132      313\n",
      "134      311\n",
      "107      311\n",
      "101      311\n",
      "114      310\n",
      "115      304\n",
      "121      303\n",
      "103      303\n",
      "102      303\n",
      "104      297\n",
      "143      297\n",
      "122      296\n",
      "124      296\n",
      "451      291\n",
      "20       291\n",
      "106      290\n",
      "136      286\n",
      "137      284\n",
      "478      275\n",
      "145      273\n",
      "144      270\n",
      "149      269\n",
      "146      265\n",
      "147      263\n",
      "148      256\n",
      "21       254\n",
      "201      241\n",
      "22       237\n",
      "212      236\n",
      "480      236\n",
      "453      227\n",
      "210      227\n",
      "222      222\n",
      "246      222\n",
      "232      221\n",
      "220      221\n",
      "241      218\n",
      "224      217\n",
      "204      216\n",
      "23       216\n",
      "259      215\n",
      "250      215\n",
      "482      214\n",
      "214      213\n",
      "207      213\n",
      "242      213\n",
      "240      212\n",
      "230      211\n",
      "219      211\n",
      "202      210\n",
      "262      209\n",
      "247      208\n",
      "273      207\n",
      "206      207\n",
      "253      207\n",
      "481      206\n",
      "227      206\n",
      "25       206\n",
      "239      206\n",
      "260      205\n",
      "234      205\n",
      "243      204\n",
      "245      203\n",
      "507      203\n",
      "216      203\n",
      "275      202\n",
      "208      202\n",
      "231      201\n",
      "255      200\n",
      "447      200\n",
      "24       200\n",
      "276      200\n",
      "228      200\n",
      "263      200\n",
      "150      199\n",
      "205      199\n",
      "211      199\n",
      "215      199\n",
      "446      199\n",
      "244      199\n",
      "282      198\n",
      "221      198\n",
      "258      197\n",
      "217      197\n",
      "264      195\n",
      "248      195\n",
      "233      195\n",
      "456      195\n",
      "278      194\n",
      "226      194\n",
      "249      194\n",
      "223      194\n",
      "209      194\n",
      "254      193\n",
      "266      193\n",
      "203      193\n",
      "267      193\n",
      "213      193\n",
      "218      192\n",
      "256      192\n",
      "281      191\n",
      "271      189\n",
      "277      188\n",
      "269      188\n",
      "284      188\n",
      "257      188\n",
      "229      188\n",
      "236      186\n",
      "235      186\n",
      "261      185\n",
      "251      185\n",
      "274      184\n",
      "252      184\n",
      "283      183\n",
      "238      182\n",
      "268      182\n",
      "457      182\n",
      "285      181\n",
      "270      181\n",
      "272      180\n",
      "26       179\n",
      "237      179\n",
      "280      179\n",
      "458      176\n",
      "287      176\n",
      "292      176\n",
      "288      174\n",
      "293      171\n",
      "477      171\n",
      "450      171\n",
      "279      170\n",
      "225      168\n",
      "265      165\n",
      "27       165\n",
      "286      163\n",
      "452      163\n",
      "476      162\n",
      "28       159\n",
      "291      159\n",
      "445      158\n",
      "297      157\n",
      "294      155\n",
      "295      152\n",
      "479      152\n",
      "289      150\n",
      "296      140\n",
      "29       137\n",
      "290      134\n",
      "461      134\n",
      "463      132\n",
      "454      132\n",
      "298      132\n",
      "31       130\n",
      "448      128\n",
      "300      117\n",
      "484      115\n",
      "100      113\n",
      "32       107\n",
      "299      106\n",
      "33        99\n",
      "444       99\n",
      "30        96\n",
      "436       94\n",
      "200       86\n",
      "486       85\n",
      "34        84\n",
      "483       84\n",
      "443       83\n",
      "460       82\n",
      "35        80\n",
      "459       78\n",
      "439       77\n",
      "36        77\n",
      "98        72\n",
      "441       71\n",
      "464       70\n",
      "475       69\n",
      "442       68\n",
      "462       65\n",
      "455       65\n",
      "38        63\n",
      "506       61\n",
      "96        61\n",
      "99        60\n",
      "466       60\n",
      "37        59\n",
      "438       58\n",
      "198       58\n",
      "199       57\n",
      "151       55\n",
      "97        54\n",
      "197       53\n",
      "504       51\n",
      "195       51\n",
      "434       50\n",
      "40        49\n",
      "39        49\n",
      "191       48\n",
      "190       47\n",
      "152       47\n",
      "472       47\n",
      "154       46\n",
      "194       46\n",
      "41        45\n",
      "158       45\n",
      "473       45\n",
      "485       44\n",
      "153       44\n",
      "491       43\n",
      "95        43\n",
      "156       43\n",
      "196       42\n",
      "166       41\n",
      "160       41\n",
      "467       40\n",
      "94        40\n",
      "186       40\n",
      "42        39\n",
      "43        39\n",
      "505       38\n",
      "474       38\n",
      "193       38\n",
      "171       38\n",
      "189       37\n",
      "155       37\n",
      "164       35\n",
      "93        35\n",
      "178       35\n",
      "187       35\n",
      "163       34\n",
      "192       34\n",
      "435       33\n",
      "179       33\n",
      "183       33\n",
      "172       33\n",
      "487       33\n",
      "174       31\n",
      "157       31\n",
      "162       31\n",
      "46        30\n",
      "188       30\n",
      "437       29\n",
      "490       29\n",
      "175       29\n",
      "177       28\n",
      "90        28\n",
      "173       28\n",
      "161       28\n",
      "61        27\n",
      "159       27\n",
      "65        27\n",
      "77        27\n",
      "51        27\n",
      "92        26\n",
      "47        26\n",
      "182       26\n",
      "167       26\n",
      "54        26\n",
      "180       26\n",
      "52        25\n",
      "176       24\n",
      "432       24\n",
      "60        24\n",
      "170       24\n",
      "89        24\n",
      "45        23\n",
      "71        23\n",
      "181       23\n",
      "471       23\n",
      "44        23\n",
      "78        23\n",
      "85        23\n",
      "59        23\n",
      "86        22\n",
      "76        22\n",
      "82        22\n",
      "185       22\n",
      "169       22\n",
      "87        22\n",
      "81        22\n",
      "63        21\n",
      "168       21\n",
      "55        21\n",
      "48        20\n",
      "74        20\n",
      "80        20\n",
      "468       20\n",
      "75        20\n",
      "165       20\n",
      "83        19\n",
      "67        19\n",
      "66        19\n",
      "68        19\n",
      "57        19\n",
      "184       19\n",
      "79        19\n",
      "49        18\n",
      "495       18\n",
      "69        18\n",
      "72        18\n",
      "497       17\n",
      "73        17\n",
      "62        17\n",
      "500       17\n",
      "70        17\n",
      "53        17\n",
      "503       17\n",
      "91        16\n",
      "58        16\n",
      "469       16\n",
      "50        16\n",
      "494       16\n",
      "64        16\n",
      "492       15\n",
      "488       15\n",
      "440       15\n",
      "56        15\n",
      "493       14\n",
      "489       13\n",
      "496       13\n",
      "502       12\n",
      "84        12\n",
      "88        12\n",
      "498       11\n",
      "501       10\n",
      "465       10\n",
      "470       10\n",
      "499        9\n",
      "398        4\n",
      "311        4\n",
      "301        4\n",
      "383        3\n",
      "306        3\n",
      "314        3\n",
      "431        3\n",
      "342        2\n",
      "396        2\n",
      "381        2\n",
      "382        2\n",
      "0          2\n",
      "400        2\n",
      "318        2\n",
      "320        2\n",
      "305        2\n",
      "359        2\n",
      "303        2\n",
      "425        2\n",
      "313        2\n",
      "421        2\n",
      "331        2\n",
      "375        1\n",
      "412        1\n",
      "377        1\n",
      "308        1\n",
      "413        1\n",
      "387        1\n",
      "333        1\n",
      "386        1\n",
      "430        1\n",
      "389        1\n",
      "346        1\n",
      "302        1\n",
      "429        1\n",
      "416        1\n",
      "428        1\n",
      "424        1\n",
      "310        1\n",
      "316        1\n",
      "409        1\n",
      "364        1\n",
      "349        1\n",
      "348        1\n",
      "335        1\n",
      "365        1\n",
      "362        1\n",
      "420        1\n",
      "337        1\n",
      "323        1\n",
      "393        1\n",
      "368        1\n",
      "354        1\n",
      "319        1\n",
      "353        1\n",
      "370        1\n",
      "406        1\n",
      "317        1\n",
      "390        1\n",
      "419        1\n",
      "Name: cat_20, dtype: int64\n"
     ]
    }
   ],
   "source": [
    "print_full(pd.value_counts(train['cat_20']))"
   ]
  },
  {
   "cell_type": "code",
   "execution_count": 89,
   "metadata": {},
   "outputs": [
    {
     "name": "stdout",
     "output_type": "stream",
     "text": [
      "511    41687\n",
      "1       7343\n",
      "510     5030\n",
      "2       2015\n",
      "509     1153\n",
      "3       1120\n",
      "4        922\n",
      "5        780\n",
      "6        620\n",
      "7        592\n",
      "8        513\n",
      "9        498\n",
      "10       423\n",
      "11       412\n",
      "12       386\n",
      "14       332\n",
      "13       303\n",
      "15       285\n",
      "508      282\n",
      "16       244\n",
      "17       240\n",
      "128      207\n",
      "18       205\n",
      "123      196\n",
      "111      194\n",
      "19       191\n",
      "104      189\n",
      "112      187\n",
      "102      186\n",
      "137      186\n",
      "124      183\n",
      "120      183\n",
      "113      183\n",
      "116      180\n",
      "140      180\n",
      "110      177\n",
      "129      175\n",
      "115      175\n",
      "131      174\n",
      "117      174\n",
      "122      172\n",
      "132      172\n",
      "130      171\n",
      "133      171\n",
      "121      169\n",
      "142      169\n",
      "108      168\n",
      "118      168\n",
      "127      166\n",
      "101      166\n",
      "103      166\n",
      "105      164\n",
      "145      164\n",
      "143      161\n",
      "480      161\n",
      "109      160\n",
      "136      160\n",
      "125      160\n",
      "138      159\n",
      "114      159\n",
      "148      158\n",
      "107      158\n",
      "126      158\n",
      "141      157\n",
      "106      156\n",
      "144      155\n",
      "135      155\n",
      "119      152\n",
      "139      151\n",
      "149      147\n",
      "147      146\n",
      "21       146\n",
      "20       142\n",
      "134      142\n",
      "451      140\n",
      "449      139\n",
      "150      135\n",
      "453      130\n",
      "204      128\n",
      "219      127\n",
      "256      127\n",
      "146      126\n",
      "272      126\n",
      "241      126\n",
      "218      125\n",
      "220      124\n",
      "225      123\n",
      "478      123\n",
      "24       122\n",
      "233      121\n",
      "210      120\n",
      "203      120\n",
      "282      120\n",
      "228      119\n",
      "244      119\n",
      "232      119\n",
      "261      119\n",
      "211      118\n",
      "23       118\n",
      "217      117\n",
      "215      117\n",
      "227      117\n",
      "251      117\n",
      "236      117\n",
      "208      117\n",
      "231      116\n",
      "481      116\n",
      "278      115\n",
      "234      115\n",
      "249      114\n",
      "252      114\n",
      "221      113\n",
      "243      113\n",
      "248      113\n",
      "209      113\n",
      "260      113\n",
      "207      112\n",
      "235      112\n",
      "213      111\n",
      "263      111\n",
      "230      110\n",
      "482      110\n",
      "202      110\n",
      "277      110\n",
      "239      109\n",
      "22       109\n",
      "266      109\n",
      "205      109\n",
      "238      108\n",
      "206      108\n",
      "276      107\n",
      "223      107\n",
      "242      107\n",
      "240      106\n",
      "201      106\n",
      "284      106\n",
      "450      106\n",
      "262      106\n",
      "222      105\n",
      "447      104\n",
      "214      104\n",
      "290      103\n",
      "446      103\n",
      "216      102\n",
      "212      102\n",
      "279      102\n",
      "265      101\n",
      "287      101\n",
      "269      101\n",
      "507      101\n",
      "267      101\n",
      "255      100\n",
      "271      100\n",
      "245      100\n",
      "237       99\n",
      "25        99\n",
      "258       98\n",
      "268       98\n",
      "286       97\n",
      "254       97\n",
      "457       97\n",
      "224       96\n",
      "274       96\n",
      "456       96\n",
      "281       95\n",
      "246       95\n",
      "226       95\n",
      "26        93\n",
      "259       92\n",
      "289       92\n",
      "270       91\n",
      "229       91\n",
      "294       91\n",
      "275       91\n",
      "27        91\n",
      "253       90\n",
      "458       89\n",
      "264       89\n",
      "273       88\n",
      "28        88\n",
      "476       87\n",
      "288       87\n",
      "280       87\n",
      "250       87\n",
      "257       87\n",
      "298       85\n",
      "247       83\n",
      "452       82\n",
      "477       82\n",
      "296       80\n",
      "292       79\n",
      "293       79\n",
      "295       78\n",
      "479       77\n",
      "291       76\n",
      "29        75\n",
      "461       74\n",
      "445       73\n",
      "283       73\n",
      "454       72\n",
      "285       72\n",
      "32        70\n",
      "448       69\n",
      "30        66\n",
      "100       65\n",
      "297       61\n",
      "299       59\n",
      "444       57\n",
      "484       56\n",
      "463       54\n",
      "200       54\n",
      "31        54\n",
      "441       51\n",
      "34        50\n",
      "483       49\n",
      "442       49\n",
      "199       49\n",
      "300       47\n",
      "464       47\n",
      "460       46\n",
      "459       44\n",
      "443       44\n",
      "436       43\n",
      "486       42\n",
      "462       41\n",
      "33        40\n",
      "36        40\n",
      "438       39\n",
      "473       37\n",
      "439       37\n",
      "38        33\n",
      "475       33\n",
      "35        32\n",
      "37        32\n",
      "467       32\n",
      "98        31\n",
      "99        31\n",
      "506       31\n",
      "487       29\n",
      "472       29\n",
      "198       29\n",
      "192       29\n",
      "504       28\n",
      "97        28\n",
      "455       27\n",
      "161       26\n",
      "491       26\n",
      "188       26\n",
      "193       25\n",
      "485       25\n",
      "96        25\n",
      "189       25\n",
      "191       25\n",
      "195       24\n",
      "196       24\n",
      "197       24\n",
      "95        23\n",
      "466       23\n",
      "194       23\n",
      "505       22\n",
      "180       22\n",
      "39        22\n",
      "474       22\n",
      "187       21\n",
      "41        21\n",
      "52        20\n",
      "94        20\n",
      "165       20\n",
      "158       20\n",
      "160       19\n",
      "190       19\n",
      "432       19\n",
      "177       19\n",
      "155       19\n",
      "162       18\n",
      "43        18\n",
      "48        18\n",
      "42        18\n",
      "434       18\n",
      "175       18\n",
      "156       17\n",
      "184       17\n",
      "157       17\n",
      "171       17\n",
      "79        16\n",
      "186       16\n",
      "169       16\n",
      "154       16\n",
      "494       16\n",
      "172       16\n",
      "40        15\n",
      "164       15\n",
      "53        15\n",
      "81        15\n",
      "468       15\n",
      "153       15\n",
      "182       15\n",
      "89        15\n",
      "167       15\n",
      "152       15\n",
      "88        15\n",
      "166       15\n",
      "471       15\n",
      "86        14\n",
      "46        14\n",
      "151       14\n",
      "50        14\n",
      "93        14\n",
      "185       14\n",
      "92        14\n",
      "59        14\n",
      "163       13\n",
      "65        13\n",
      "56        13\n",
      "168       13\n",
      "82        13\n",
      "159       13\n",
      "61        13\n",
      "435       13\n",
      "173       13\n",
      "437       13\n",
      "60        13\n",
      "68        12\n",
      "45        12\n",
      "502       12\n",
      "181       12\n",
      "75        12\n",
      "51        12\n",
      "170       12\n",
      "44        12\n",
      "58        12\n",
      "73        12\n",
      "469       11\n",
      "83        11\n",
      "49        11\n",
      "90        11\n",
      "67        11\n",
      "87        11\n",
      "174       10\n",
      "78        10\n",
      "62        10\n",
      "183       10\n",
      "500       10\n",
      "76        10\n",
      "91        10\n",
      "497       10\n",
      "72         9\n",
      "64         9\n",
      "85         9\n",
      "179        9\n",
      "490        9\n",
      "47         9\n",
      "55         9\n",
      "80         8\n",
      "71         8\n",
      "440        8\n",
      "178        8\n",
      "489        8\n",
      "84         8\n",
      "176        8\n",
      "493        8\n",
      "496        8\n",
      "501        7\n",
      "498        7\n",
      "54         7\n",
      "63         7\n",
      "77         6\n",
      "57         6\n",
      "66         6\n",
      "70         6\n",
      "488        6\n",
      "465        5\n",
      "492        5\n",
      "74         5\n",
      "69         5\n",
      "470        4\n",
      "503        4\n",
      "301        3\n",
      "495        3\n",
      "499        3\n",
      "365        2\n",
      "358        2\n",
      "331        2\n",
      "402        2\n",
      "401        2\n",
      "328        2\n",
      "318        1\n",
      "360        1\n",
      "383        1\n",
      "320        1\n",
      "418        1\n",
      "428        1\n",
      "430        1\n",
      "420        1\n",
      "356        1\n",
      "422        1\n",
      "359        1\n",
      "385        1\n",
      "317        1\n",
      "416        1\n",
      "343        1\n",
      "351        1\n",
      "378        1\n",
      "312        1\n",
      "313        1\n",
      "330        1\n",
      "333        1\n",
      "397        1\n",
      "398        1\n",
      "393        1\n",
      "374        1\n",
      "400        1\n",
      "314        1\n",
      "391        1\n",
      "413        1\n",
      "307        1\n",
      "340        1\n",
      "342        1\n",
      "395        1\n",
      "407        1\n",
      "389        1\n",
      "345        1\n",
      "409        1\n",
      "368        1\n",
      "412        1\n",
      "341        1\n",
      "Name: cat_20, dtype: int64\n"
     ]
    }
   ],
   "source": [
    "print_full(pd.value_counts(test['cat_20']))"
   ]
  },
  {
   "cell_type": "code",
   "execution_count": 90,
   "metadata": {
    "collapsed": true
   },
   "outputs": [],
   "source": [
    "train['cat_20']=['cat1' if i<=50 else('cat2' if i<=500 else 'cat3') for i in train['cat_20'].values]\n",
    "test['cat_20']=['cat1' if i<=50 else('cat2' if i<=500 else 'cat3') for i in test['cat_20'].values]"
   ]
  },
  {
   "cell_type": "code",
   "execution_count": 93,
   "metadata": {},
   "outputs": [
    {
     "data": {
      "text/html": [
       "<div>\n",
       "<style>\n",
       "    .dataframe thead tr:only-child th {\n",
       "        text-align: right;\n",
       "    }\n",
       "\n",
       "    .dataframe thead th {\n",
       "        text-align: left;\n",
       "    }\n",
       "\n",
       "    .dataframe tbody tr th {\n",
       "        vertical-align: top;\n",
       "    }\n",
       "</style>\n",
       "<table border=\"1\" class=\"dataframe\">\n",
       "  <thead>\n",
       "    <tr style=\"text-align: right;\">\n",
       "      <th>target</th>\n",
       "      <th>0</th>\n",
       "      <th>1</th>\n",
       "      <th>2</th>\n",
       "      <th>All</th>\n",
       "    </tr>\n",
       "    <tr>\n",
       "      <th>cat_20</th>\n",
       "      <th></th>\n",
       "      <th></th>\n",
       "      <th></th>\n",
       "      <th></th>\n",
       "    </tr>\n",
       "  </thead>\n",
       "  <tbody>\n",
       "    <tr>\n",
       "      <th>cat1</th>\n",
       "      <td>1829</td>\n",
       "      <td>33089</td>\n",
       "      <td>659</td>\n",
       "      <td>35577</td>\n",
       "    </tr>\n",
       "    <tr>\n",
       "      <th>cat2</th>\n",
       "      <td>31842</td>\n",
       "      <td>475</td>\n",
       "      <td>11848</td>\n",
       "      <td>44165</td>\n",
       "    </tr>\n",
       "    <tr>\n",
       "      <th>cat3</th>\n",
       "      <td>65197</td>\n",
       "      <td>21</td>\n",
       "      <td>24347</td>\n",
       "      <td>89565</td>\n",
       "    </tr>\n",
       "    <tr>\n",
       "      <th>All</th>\n",
       "      <td>98868</td>\n",
       "      <td>33585</td>\n",
       "      <td>36854</td>\n",
       "      <td>169307</td>\n",
       "    </tr>\n",
       "  </tbody>\n",
       "</table>\n",
       "</div>"
      ],
      "text/plain": [
       "target      0      1      2     All\n",
       "cat_20                             \n",
       "cat1     1829  33089    659   35577\n",
       "cat2    31842    475  11848   44165\n",
       "cat3    65197     21  24347   89565\n",
       "All     98868  33585  36854  169307"
      ]
     },
     "execution_count": 93,
     "metadata": {},
     "output_type": "execute_result"
    }
   ],
   "source": [
    "(pd.crosstab(train['cat_20'],train['target'],margins=True))"
   ]
  },
  {
   "cell_type": "markdown",
   "metadata": {},
   "source": [
    "# cat_21"
   ]
  },
  {
   "cell_type": "code",
   "execution_count": 94,
   "metadata": {},
   "outputs": [
    {
     "name": "stdout",
     "output_type": "stream",
     "text": [
      "target      0      1      2     All\n",
      "cat_21                             \n",
      "0           0      2      0       2\n",
      "1        2365   9734    920   13019\n",
      "2        1535   4123    553    6211\n",
      "3        1414   1909    529    3852\n",
      "4        1405   1464    480    3349\n",
      "5        1300   1289    446    3035\n",
      "6        1319   1110    482    2911\n",
      "7        1289   1067    481    2837\n",
      "8        1241    907    492    2640\n",
      "9        1305    811    495    2611\n",
      "10       1294    854    487    2635\n",
      "11       1268    780    497    2545\n",
      "12       1333    684    500    2517\n",
      "13       1300    685    453    2438\n",
      "14       1274    632    485    2391\n",
      "15       1237    523    467    2227\n",
      "16       1223    526    497    2246\n",
      "17       1273    467    495    2235\n",
      "18       1314    434    454    2202\n",
      "19       1284    395    487    2166\n",
      "20       1259    377    479    2115\n",
      "21        240    323     84     647\n",
      "22        225    304     91     620\n",
      "23        247    279     83     609\n",
      "24        212    297     75     584\n",
      "25        222    253     86     561\n",
      "26          3    226      1     230\n",
      "27          5    244      1     250\n",
      "28          5    203      3     211\n",
      "29          5    195      2     202\n",
      "30          5    132      0     137\n",
      "31          5    137      4     146\n",
      "32          4    167      1     172\n",
      "33          4    129      2     135\n",
      "34          5    118      1     124\n",
      "35          9    107      3     119\n",
      "36          2    115      0     117\n",
      "37          3     87      2      92\n",
      "38          5     90      0      95\n",
      "39          4     76      4      84\n",
      "40         10     69      0      79\n",
      "41          7     70      3      80\n",
      "42          3     52      3      58\n",
      "43         10     63      2      75\n",
      "44          2     46      2      50\n",
      "45          7     32      1      40\n",
      "46          5     46      3      54\n",
      "47          3     37      0      40\n",
      "48          8     35      3      46\n",
      "49          4     32      0      36\n",
      "50          6     21      1      28\n",
      "51          2     24      1      27\n",
      "52         10     26      2      38\n",
      "53          1     22      0      23\n",
      "54          1     24      0      25\n",
      "55          1     15      0      16\n",
      "56          2     14      0      16\n",
      "57          0     13      1      14\n",
      "58          0     16      0      16\n",
      "59          2     14      0      16\n",
      "60          3     16      1      20\n",
      "61          2      8      0      10\n",
      "62          0     14      1      15\n",
      "63          0      7      0       7\n",
      "64          0      9      0       9\n",
      "65          0     16      0      16\n",
      "66          0      6      0       6\n",
      "67          0     10      0      10\n",
      "68          1      2      1       4\n",
      "69          0      9      0       9\n",
      "70          0      7      0       7\n",
      "71          3      7      2      12\n",
      "72          2      6      0       8\n",
      "73          1      3      0       4\n",
      "74          2      4      0       6\n",
      "75          2      7      0       9\n",
      "76          0      6      0       6\n",
      "77          1      8      0       9\n",
      "78          0      4      0       4\n",
      "79          0      5      0       5\n",
      "80          0      6      0       6\n",
      "81          0      3      0       3\n",
      "82          2      5      1       8\n",
      "83          0      3      0       3\n",
      "84          0      2      2       4\n",
      "85          1      4      0       5\n",
      "86          0      4      0       4\n",
      "87          0      6      1       7\n",
      "88          0      2      0       2\n",
      "89          3      2      0       5\n",
      "90          1      5      1       7\n",
      "91          0      5      0       5\n",
      "92          1      4      0       5\n",
      "93          2      3      0       5\n",
      "94          3      6      0       9\n",
      "95          0      2      1       3\n",
      "96          3      0      0       3\n",
      "97          1      3      2       6\n",
      "98          3      7      0      10\n",
      "99          1      4      1       6\n",
      "100         3      7      1      11\n",
      "101         3      4      0       7\n",
      "102         3      3      2       8\n",
      "103         5      4      2      11\n",
      "104         7      2      2      11\n",
      "105         7      4      0      11\n",
      "106         5      3      1       9\n",
      "107         4      8      2      14\n",
      "108         7      5      3      15\n",
      "109         7      7      5      19\n",
      "110        13      1      0      14\n",
      "111         9      8      3      20\n",
      "112        14      3      2      19\n",
      "113         7      3      1      11\n",
      "114        12      4      4      20\n",
      "115        10      4      2      16\n",
      "116        10      8      2      20\n",
      "117         7      5      6      18\n",
      "118         5      3      3      11\n",
      "119        13      3      2      18\n",
      "120         8      4      4      16\n",
      "121        11      5      6      22\n",
      "122        15      5      3      23\n",
      "123        14      6      3      23\n",
      "124        11      3      5      19\n",
      "125        14      7      7      28\n",
      "126        14      7      2      23\n",
      "127        14      4      5      23\n",
      "128        22      3      7      32\n",
      "129        22      1      5      28\n",
      "130        16      2      9      27\n",
      "131         9      4      8      21\n",
      "132        14      4      5      23\n",
      "133         9      1      3      13\n",
      "134        16      6      5      27\n",
      "135         7      1      6      14\n",
      "136        11      3      8      22\n",
      "137        10      3      6      19\n",
      "138        16      3      5      24\n",
      "139        16      7      8      31\n",
      "140        16      3      4      23\n",
      "141         8      6      4      18\n",
      "142        12      6      4      22\n",
      "143        12      7      3      22\n",
      "144        12      2      4      18\n",
      "145        17      7      2      26\n",
      "146        12      5      7      24\n",
      "147         9      3      5      17\n",
      "148        10      2      2      14\n",
      "149        11      3      5      19\n",
      "150        13      2      5      20\n",
      "151        13      7      8      28\n",
      "152        12      6      8      26\n",
      "153        20      1      6      27\n",
      "154        22      6      3      31\n",
      "155        16      3      8      27\n",
      "156        15      5      4      24\n",
      "157         5      6      4      15\n",
      "158        12      5      6      23\n",
      "159         5      8      3      16\n",
      "160        14      2      5      21\n",
      "161         8      1      3      12\n",
      "162         5      2      1       8\n",
      "163         6      1      2       9\n",
      "164        10      1      4      15\n",
      "165         4      1      3       8\n",
      "166        17      1      4      22\n",
      "167         8      1      1      10\n",
      "168         3      0      2       5\n",
      "169         1      1      1       3\n",
      "170         3      3      1       7\n",
      "171         4      3      2       9\n",
      "172         1      4      0       5\n",
      "173         1      0      1       2\n",
      "174         7      2      1      10\n",
      "175         1      1      1       3\n",
      "176         2      1      2       5\n",
      "177         4      1      1       6\n",
      "178         2      0      0       2\n",
      "179         2      1      0       3\n",
      "180         0      5      0       5\n",
      "181         0      1      0       1\n",
      "182         1      0      0       1\n",
      "183         1      1      1       3\n",
      "184         0      1      0       1\n",
      "185         1      1      0       2\n",
      "186         0      3      0       3\n",
      "187         1      1      0       2\n",
      "188         0      1      0       1\n",
      "189         0      1      1       2\n",
      "190         2      1      0       3\n",
      "191         0      2      0       2\n",
      "192         0      2      0       2\n",
      "193         0      2      0       2\n",
      "194         0      0      1       1\n",
      "195         0      1      0       1\n",
      "196         0      1      1       2\n",
      "197         0      1      0       1\n",
      "198         0      2      0       2\n",
      "200         0      2      2       4\n",
      "202         0      1      0       1\n",
      "203         0      0      1       1\n",
      "204         0      2      2       4\n",
      "205         0      1      0       1\n",
      "207         2      3      0       5\n",
      "208         0      2      0       2\n",
      "209         1      1      1       3\n",
      "210         2      1      0       3\n",
      "212         0      2      0       2\n",
      "213         1      0      0       1\n",
      "214         0      1      1       2\n",
      "217         0      1      0       1\n",
      "218         0      4      0       4\n",
      "219         0      1      0       1\n",
      "220         1      3      0       4\n",
      "221         1      0      0       1\n",
      "222         0      1      0       1\n",
      "223         0      1      0       1\n",
      "224         2      0      1       3\n",
      "225         0      1      0       1\n",
      "226         0      1      0       1\n",
      "228         0      3      0       3\n",
      "229         1      2      0       3\n",
      "230         0      1      0       1\n",
      "234         2      0      1       3\n",
      "236         0      2      0       2\n",
      "237         0      3      0       3\n",
      "238         0      1      0       1\n",
      "240         0      1      0       1\n",
      "241         1      0      0       1\n",
      "242         0      0      1       1\n",
      "243         0      1      0       1\n",
      "244         0      2      0       2\n",
      "245         1      2      0       3\n",
      "248         1      0      0       1\n",
      "249         0      1      0       1\n",
      "250         1      1      0       2\n",
      "251         0      1      0       1\n",
      "254         1      0      0       1\n",
      "255         0      2      1       3\n",
      "256         0      2      0       2\n",
      "257         0      0      1       1\n",
      "260         1      0      0       1\n",
      "266         1      0      0       1\n",
      "267         1      0      0       1\n",
      "269         0      1      0       1\n",
      "270         0      1      0       1\n",
      "275         0      1      0       1\n",
      "276         0      1      0       1\n",
      "277         1      1      0       2\n",
      "278         0      1      0       1\n",
      "279         0      1      0       1\n",
      "280         0      1      0       1\n",
      "282         1      0      0       1\n",
      "283         2      0      1       3\n",
      "285         0      1      0       1\n",
      "286         0      1      0       1\n",
      "287         0      1      0       1\n",
      "291         1      0      0       1\n",
      "293         1      1      0       2\n",
      "294         0      3      0       3\n",
      "295         1      0      1       2\n",
      "296         0      3      0       3\n",
      "298         0      1      0       1\n",
      "301         0      1      0       1\n",
      "302         0      0      1       1\n",
      "303         1      0      0       1\n",
      "304         0      1      0       1\n",
      "305         1      0      0       1\n",
      "306         1      2      0       3\n",
      "310         0      1      0       1\n",
      "311         2      3      0       5\n",
      "313         1      4      0       5\n",
      "315         0      1      0       1\n",
      "316         0      1      0       1\n",
      "317         1      1      0       2\n",
      "318         1      2      0       3\n",
      "320         1      0      1       2\n",
      "323         0      0      1       1\n",
      "331         2      0      0       2\n",
      "333         1      0      0       1\n",
      "335         0      0      1       1\n",
      "337         1      0      0       1\n",
      "342         1      0      1       2\n",
      "346         0      1      0       1\n",
      "349         1      0      0       1\n",
      "353         0      0      1       1\n",
      "354         1      0      0       1\n",
      "359         2      0      0       2\n",
      "364         1      0      0       1\n",
      "365         0      0      1       1\n",
      "368         0      0      1       1\n",
      "370         1      0      0       1\n",
      "377         1      0      0       1\n",
      "381         2      0      0       2\n",
      "382         2      0      0       2\n",
      "383         1      0      0       1\n",
      "386         1      0      0       1\n",
      "389         1      0      0       1\n",
      "390         0      0      1       1\n",
      "393         0      0      1       1\n",
      "396         0      0      2       2\n",
      "398         1      0      0       1\n",
      "400         2      0      0       2\n",
      "409         0      0      1       1\n",
      "413         1      0      0       1\n",
      "419         1      0      0       1\n",
      "420         1      0      0       1\n",
      "421         1      0      1       2\n",
      "424         1      0      0       1\n",
      "425         2      0      0       2\n",
      "429         0      0      1       1\n",
      "430         1      0      0       1\n",
      "431         0      1      1       2\n",
      "432        19      0      5      24\n",
      "434        33      0     16      49\n",
      "435        19      0     13      32\n",
      "436        71      0     22      93\n",
      "437        22      0      7      29\n",
      "438        48      0     10      58\n",
      "439        58      0     19      77\n",
      "440        10      0      4      14\n",
      "441        44      0     26      70\n",
      "442        50      0     17      67\n",
      "443        62      0     20      82\n",
      "444        72      0     24      96\n",
      "445       112      1     45     158\n",
      "446       142      0     57     199\n",
      "447       135      0     65     200\n",
      "448        89      0     39     128\n",
      "449       233      0     94     327\n",
      "450       129      0     42     171\n",
      "451       215      0     76     291\n",
      "452       120      0     43     163\n",
      "453       173      0     54     227\n",
      "454        99      0     33     132\n",
      "455        50      0     15      65\n",
      "456       140      0     55     195\n",
      "457       126      0     56     182\n",
      "458       131      0     44     175\n",
      "459        56      0     20      76\n",
      "460        67      0     15      82\n",
      "461        95      0     35     130\n",
      "462        48      0     16      64\n",
      "463        95      0     37     132\n",
      "464        55      0     15      70\n",
      "465         6      0      4      10\n",
      "466        45      0     15      60\n",
      "467        24      0     16      40\n",
      "468        15      0      5      20\n",
      "469        13      0      3      16\n",
      "470         7      0      2       9\n",
      "471        16      0      7      23\n",
      "472        33      0     11      44\n",
      "473        33      0     12      45\n",
      "474        30      0      8      38\n",
      "475        44      0     25      69\n",
      "476       117      0     45     162\n",
      "477       131      0     39     170\n",
      "478       210      0     65     275\n",
      "479       117      0     35     152\n",
      "480       174      0     62     236\n",
      "481       146      1     59     206\n",
      "482       169      0     43     212\n",
      "483        56      0     28      84\n",
      "484        80      0     34     114\n",
      "485        30      0     14      44\n",
      "486        60      0     24      84\n",
      "487        26      0      6      32\n",
      "488        12      0      3      15\n",
      "489        12      0      1      13\n",
      "490        22      0      7      29\n",
      "491        35      0      6      41\n",
      "492        11      0      4      15\n",
      "493         8      0      3      11\n",
      "494        12      0      3      15\n",
      "495        13      0      5      18\n",
      "496        11      0      2      13\n",
      "497        14      0      3      17\n",
      "498        10      0      1      11\n",
      "499         7      0      2       9\n",
      "500        10      0      7      17\n",
      "501         8      0      2      10\n",
      "502        11      0      1      12\n",
      "503        10      1      5      16\n",
      "504        42      0      9      51\n",
      "505        28      0     10      38\n",
      "506        42      0     19      61\n",
      "507       147      1     50     198\n",
      "508       366      0    131     497\n",
      "509      1474      4    545    2023\n",
      "510      6788      5   2560    9353\n",
      "511     55963      9  20899   76871\n",
      "All     98868  33585  36854  169307\n"
     ]
    }
   ],
   "source": [
    "print_full(pd.crosstab(train['cat_21'],train['target'],margins=True))\n",
    "#<=20 and <=500 and else"
   ]
  },
  {
   "cell_type": "code",
   "execution_count": 95,
   "metadata": {},
   "outputs": [
    {
     "name": "stdout",
     "output_type": "stream",
     "text": [
      "511    76871\n",
      "1      13019\n",
      "510     9353\n",
      "2       6211\n",
      "3       3852\n",
      "4       3349\n",
      "5       3035\n",
      "6       2911\n",
      "7       2837\n",
      "8       2640\n",
      "10      2635\n",
      "9       2611\n",
      "11      2545\n",
      "12      2517\n",
      "13      2438\n",
      "14      2391\n",
      "16      2246\n",
      "17      2235\n",
      "15      2227\n",
      "18      2202\n",
      "19      2166\n",
      "20      2115\n",
      "509     2023\n",
      "21       647\n",
      "22       620\n",
      "23       609\n",
      "24       584\n",
      "25       561\n",
      "508      497\n",
      "449      327\n",
      "451      291\n",
      "478      275\n",
      "27       250\n",
      "480      236\n",
      "26       230\n",
      "453      227\n",
      "482      212\n",
      "28       211\n",
      "481      206\n",
      "29       202\n",
      "447      200\n",
      "446      199\n",
      "507      198\n",
      "456      195\n",
      "457      182\n",
      "458      175\n",
      "32       172\n",
      "450      171\n",
      "477      170\n",
      "452      163\n",
      "476      162\n",
      "445      158\n",
      "479      152\n",
      "31       146\n",
      "30       137\n",
      "33       135\n",
      "463      132\n",
      "454      132\n",
      "461      130\n",
      "448      128\n",
      "34       124\n",
      "35       119\n",
      "36       117\n",
      "484      114\n",
      "444       96\n",
      "38        95\n",
      "436       93\n",
      "37        92\n",
      "39        84\n",
      "486       84\n",
      "483       84\n",
      "460       82\n",
      "443       82\n",
      "41        80\n",
      "40        79\n",
      "439       77\n",
      "459       76\n",
      "43        75\n",
      "441       70\n",
      "464       70\n",
      "475       69\n",
      "442       67\n",
      "455       65\n",
      "462       64\n",
      "506       61\n",
      "466       60\n",
      "438       58\n",
      "42        58\n",
      "46        54\n",
      "504       51\n",
      "44        50\n",
      "434       49\n",
      "48        46\n",
      "473       45\n",
      "485       44\n",
      "472       44\n",
      "491       41\n",
      "467       40\n",
      "47        40\n",
      "45        40\n",
      "474       38\n",
      "52        38\n",
      "505       38\n",
      "49        36\n",
      "128       32\n",
      "435       32\n",
      "487       32\n",
      "154       31\n",
      "139       31\n",
      "490       29\n",
      "437       29\n",
      "50        28\n",
      "151       28\n",
      "125       28\n",
      "129       28\n",
      "130       27\n",
      "155       27\n",
      "134       27\n",
      "51        27\n",
      "153       27\n",
      "152       26\n",
      "145       26\n",
      "54        25\n",
      "146       24\n",
      "432       24\n",
      "138       24\n",
      "156       24\n",
      "132       23\n",
      "53        23\n",
      "126       23\n",
      "471       23\n",
      "127       23\n",
      "122       23\n",
      "123       23\n",
      "158       23\n",
      "140       23\n",
      "166       22\n",
      "142       22\n",
      "143       22\n",
      "121       22\n",
      "136       22\n",
      "160       21\n",
      "131       21\n",
      "468       20\n",
      "116       20\n",
      "60        20\n",
      "150       20\n",
      "114       20\n",
      "111       20\n",
      "149       19\n",
      "109       19\n",
      "124       19\n",
      "112       19\n",
      "137       19\n",
      "144       18\n",
      "141       18\n",
      "117       18\n",
      "495       18\n",
      "119       18\n",
      "500       17\n",
      "497       17\n",
      "147       17\n",
      "56        16\n",
      "55        16\n",
      "59        16\n",
      "65        16\n",
      "115       16\n",
      "503       16\n",
      "120       16\n",
      "58        16\n",
      "469       16\n",
      "159       16\n",
      "62        15\n",
      "164       15\n",
      "494       15\n",
      "492       15\n",
      "108       15\n",
      "157       15\n",
      "488       15\n",
      "110       14\n",
      "107       14\n",
      "440       14\n",
      "135       14\n",
      "148       14\n",
      "57        14\n",
      "489       13\n",
      "496       13\n",
      "133       13\n",
      "502       12\n",
      "71        12\n",
      "161       12\n",
      "493       11\n",
      "100       11\n",
      "103       11\n",
      "113       11\n",
      "498       11\n",
      "105       11\n",
      "118       11\n",
      "104       11\n",
      "167       10\n",
      "174       10\n",
      "501       10\n",
      "61        10\n",
      "98        10\n",
      "465       10\n",
      "67        10\n",
      "163        9\n",
      "77         9\n",
      "499        9\n",
      "94         9\n",
      "470        9\n",
      "64         9\n",
      "69         9\n",
      "106        9\n",
      "171        9\n",
      "75         9\n",
      "102        8\n",
      "165        8\n",
      "162        8\n",
      "72         8\n",
      "82         8\n",
      "170        7\n",
      "63         7\n",
      "101        7\n",
      "87         7\n",
      "70         7\n",
      "90         7\n",
      "97         6\n",
      "66         6\n",
      "80         6\n",
      "74         6\n",
      "177        6\n",
      "76         6\n",
      "99         6\n",
      "176        5\n",
      "207        5\n",
      "79         5\n",
      "85         5\n",
      "89         5\n",
      "172        5\n",
      "180        5\n",
      "93         5\n",
      "91         5\n",
      "168        5\n",
      "311        5\n",
      "92         5\n",
      "313        5\n",
      "68         4\n",
      "220        4\n",
      "204        4\n",
      "86         4\n",
      "78         4\n",
      "73         4\n",
      "84         4\n",
      "200        4\n",
      "218        4\n",
      "83         3\n",
      "255        3\n",
      "296        3\n",
      "294        3\n",
      "210        3\n",
      "81         3\n",
      "169        3\n",
      "190        3\n",
      "237        3\n",
      "229        3\n",
      "95         3\n",
      "96         3\n",
      "224        3\n",
      "209        3\n",
      "186        3\n",
      "283        3\n",
      "183        3\n",
      "228        3\n",
      "179        3\n",
      "306        3\n",
      "318        3\n",
      "234        3\n",
      "175        3\n",
      "245        3\n",
      "250        2\n",
      "381        2\n",
      "256        2\n",
      "277        2\n",
      "396        2\n",
      "382        2\n",
      "400        2\n",
      "0          2\n",
      "293        2\n",
      "359        2\n",
      "189        2\n",
      "192        2\n",
      "320        2\n",
      "187        2\n",
      "185        2\n",
      "193        2\n",
      "244        2\n",
      "178        2\n",
      "88         2\n",
      "317        2\n",
      "196        2\n",
      "431        2\n",
      "342        2\n",
      "236        2\n",
      "214        2\n",
      "421        2\n",
      "295        2\n",
      "208        2\n",
      "331        2\n",
      "425        2\n",
      "191        2\n",
      "173        2\n",
      "212        2\n",
      "198        2\n",
      "346        1\n",
      "266        1\n",
      "217        1\n",
      "267        1\n",
      "337        1\n",
      "219        1\n",
      "213        1\n",
      "251        1\n",
      "393        1\n",
      "269        1\n",
      "223        1\n",
      "221        1\n",
      "349        1\n",
      "241        1\n",
      "368        1\n",
      "240        1\n",
      "238        1\n",
      "257        1\n",
      "365        1\n",
      "364        1\n",
      "386        1\n",
      "254        1\n",
      "230        1\n",
      "260        1\n",
      "370        1\n",
      "354        1\n",
      "389        1\n",
      "226        1\n",
      "353        1\n",
      "390        1\n",
      "225        1\n",
      "398        1\n",
      "243        1\n",
      "222        1\n",
      "270        1\n",
      "197        1\n",
      "335        1\n",
      "303        1\n",
      "310        1\n",
      "182        1\n",
      "181        1\n",
      "285        1\n",
      "413        1\n",
      "305        1\n",
      "304        1\n",
      "286        1\n",
      "287        1\n",
      "282        1\n",
      "430        1\n",
      "302        1\n",
      "429        1\n",
      "301        1\n",
      "298        1\n",
      "424        1\n",
      "291        1\n",
      "419        1\n",
      "184        1\n",
      "315        1\n",
      "333        1\n",
      "323        1\n",
      "377        1\n",
      "205        1\n",
      "249        1\n",
      "203        1\n",
      "202        1\n",
      "420        1\n",
      "275        1\n",
      "248        1\n",
      "276        1\n",
      "188        1\n",
      "195        1\n",
      "194        1\n",
      "278        1\n",
      "383        1\n",
      "279        1\n",
      "280        1\n",
      "316        1\n",
      "409        1\n",
      "242        1\n",
      "Name: cat_21, dtype: int64\n"
     ]
    }
   ],
   "source": [
    "print_full(pd.value_counts(train['cat_21']))"
   ]
  },
  {
   "cell_type": "code",
   "execution_count": 96,
   "metadata": {},
   "outputs": [
    {
     "name": "stdout",
     "output_type": "stream",
     "text": [
      "511    41453\n",
      "1       7013\n",
      "510     5082\n",
      "2       3385\n",
      "3       2207\n",
      "4       1717\n",
      "5       1642\n",
      "6       1509\n",
      "7       1508\n",
      "9       1446\n",
      "8       1437\n",
      "10      1397\n",
      "11      1369\n",
      "12      1308\n",
      "15      1268\n",
      "14      1262\n",
      "13      1261\n",
      "17      1250\n",
      "16      1201\n",
      "18      1161\n",
      "19      1160\n",
      "509     1115\n",
      "20      1109\n",
      "21       371\n",
      "22       340\n",
      "24       327\n",
      "23       325\n",
      "25       278\n",
      "508      267\n",
      "480      160\n",
      "451      140\n",
      "449      139\n",
      "453      130\n",
      "478      123\n",
      "26       120\n",
      "27       114\n",
      "481      111\n",
      "482      110\n",
      "450      106\n",
      "447      104\n",
      "446      102\n",
      "28       100\n",
      "507       99\n",
      "32        98\n",
      "457       97\n",
      "456       96\n",
      "31        95\n",
      "458       88\n",
      "476       87\n",
      "29        87\n",
      "30        85\n",
      "477       82\n",
      "452       81\n",
      "34        79\n",
      "479       77\n",
      "461       74\n",
      "445       72\n",
      "454       72\n",
      "448       69\n",
      "33        61\n",
      "444       56\n",
      "484       56\n",
      "36        56\n",
      "35        55\n",
      "37        54\n",
      "463       54\n",
      "38        52\n",
      "441       51\n",
      "483       49\n",
      "442       49\n",
      "464       47\n",
      "460       46\n",
      "39        45\n",
      "443       44\n",
      "459       44\n",
      "486       42\n",
      "436       42\n",
      "462       41\n",
      "438       39\n",
      "439       37\n",
      "473       37\n",
      "40        36\n",
      "475       33\n",
      "42        33\n",
      "41        32\n",
      "467       32\n",
      "506       31\n",
      "487       29\n",
      "504       28\n",
      "472       27\n",
      "455       27\n",
      "485       25\n",
      "44        25\n",
      "47        25\n",
      "51        24\n",
      "491       24\n",
      "466       23\n",
      "49        23\n",
      "43        22\n",
      "474       22\n",
      "505       22\n",
      "50        19\n",
      "48        19\n",
      "45        19\n",
      "53        19\n",
      "432       19\n",
      "46        18\n",
      "434       18\n",
      "129       17\n",
      "133       17\n",
      "144       16\n",
      "139       16\n",
      "148       16\n",
      "137       16\n",
      "120       15\n",
      "468       15\n",
      "494       15\n",
      "138       15\n",
      "471       15\n",
      "145       14\n",
      "156       14\n",
      "437       13\n",
      "146       13\n",
      "132       13\n",
      "56        13\n",
      "131       13\n",
      "124       13\n",
      "126       13\n",
      "435       13\n",
      "140       13\n",
      "141       13\n",
      "114       13\n",
      "147       12\n",
      "135       12\n",
      "502       12\n",
      "119       12\n",
      "58        12\n",
      "123       12\n",
      "105       12\n",
      "60        12\n",
      "127       12\n",
      "54        12\n",
      "158       11\n",
      "157       11\n",
      "160       11\n",
      "121       11\n",
      "469       11\n",
      "110       11\n",
      "55        11\n",
      "149       11\n",
      "116       11\n",
      "500       10\n",
      "150       10\n",
      "169       10\n",
      "162       10\n",
      "52        10\n",
      "118       10\n",
      "161       10\n",
      "113       10\n",
      "122       10\n",
      "125       10\n",
      "153       10\n",
      "497        9\n",
      "115        9\n",
      "155        9\n",
      "154        9\n",
      "151        9\n",
      "490        9\n",
      "152        9\n",
      "143        8\n",
      "440        8\n",
      "493        8\n",
      "117        8\n",
      "128        8\n",
      "164        8\n",
      "489        8\n",
      "496        8\n",
      "142        8\n",
      "92         8\n",
      "57         7\n",
      "112        7\n",
      "106        7\n",
      "501        7\n",
      "136        7\n",
      "104        7\n",
      "82         7\n",
      "168        6\n",
      "498        6\n",
      "103        6\n",
      "159        6\n",
      "130        6\n",
      "163        6\n",
      "134        6\n",
      "61         5\n",
      "89         5\n",
      "71         5\n",
      "492        5\n",
      "59         5\n",
      "165        5\n",
      "108        5\n",
      "465        5\n",
      "107        5\n",
      "70         5\n",
      "102        5\n",
      "488        5\n",
      "470        4\n",
      "66         4\n",
      "69         4\n",
      "85         4\n",
      "76         4\n",
      "65         4\n",
      "84         4\n",
      "64         4\n",
      "188        4\n",
      "177        4\n",
      "100        4\n",
      "175        4\n",
      "98         4\n",
      "503        4\n",
      "111        4\n",
      "96         4\n",
      "172        4\n",
      "99         4\n",
      "109        4\n",
      "185        4\n",
      "62         4\n",
      "63         4\n",
      "499        3\n",
      "167        3\n",
      "191        3\n",
      "226        3\n",
      "77         3\n",
      "208        3\n",
      "97         3\n",
      "184        3\n",
      "166        3\n",
      "495        3\n",
      "94         3\n",
      "101        3\n",
      "171        3\n",
      "81         3\n",
      "78         3\n",
      "68         3\n",
      "181        3\n",
      "197        3\n",
      "198        3\n",
      "295        2\n",
      "261        2\n",
      "176        2\n",
      "272        2\n",
      "80         2\n",
      "238        2\n",
      "331        2\n",
      "79         2\n",
      "170        2\n",
      "262        2\n",
      "246        2\n",
      "180        2\n",
      "365        2\n",
      "282        2\n",
      "200        2\n",
      "83         2\n",
      "230        2\n",
      "210        2\n",
      "192        2\n",
      "254        2\n",
      "93         2\n",
      "193        2\n",
      "317        2\n",
      "88         2\n",
      "95         2\n",
      "266        2\n",
      "215        2\n",
      "241        2\n",
      "87         2\n",
      "178        2\n",
      "251        2\n",
      "67         2\n",
      "86         2\n",
      "328        2\n",
      "195        2\n",
      "213        2\n",
      "75         2\n",
      "313        2\n",
      "72         2\n",
      "203        2\n",
      "402        2\n",
      "274        2\n",
      "179        2\n",
      "242        1\n",
      "201        1\n",
      "218        1\n",
      "307        1\n",
      "187        1\n",
      "320        1\n",
      "190        1\n",
      "253        1\n",
      "189        1\n",
      "194        1\n",
      "315        1\n",
      "378        1\n",
      "374        1\n",
      "250        1\n",
      "260        1\n",
      "249        1\n",
      "393        1\n",
      "248        1\n",
      "183        1\n",
      "312        1\n",
      "300        1\n",
      "368        1\n",
      "279        1\n",
      "228        1\n",
      "227        1\n",
      "418        1\n",
      "290        1\n",
      "341        1\n",
      "416        1\n",
      "288        1\n",
      "342        1\n",
      "351        1\n",
      "287        1\n",
      "407        1\n",
      "420        1\n",
      "223        1\n",
      "222        1\n",
      "413        1\n",
      "412        1\n",
      "217        1\n",
      "345        1\n",
      "409        1\n",
      "220        1\n",
      "283        1\n",
      "90         1\n",
      "292        1\n",
      "293        1\n",
      "74         1\n",
      "333        1\n",
      "202        1\n",
      "330        1\n",
      "394        1\n",
      "239        1\n",
      "430        1\n",
      "174        1\n",
      "204        1\n",
      "301        1\n",
      "205        1\n",
      "269        1\n",
      "397        1\n",
      "358        1\n",
      "236        1\n",
      "235        1\n",
      "233        1\n",
      "360        1\n",
      "232        1\n",
      "359        1\n",
      "400        1\n",
      "422        1\n",
      "273        1\n",
      "401        1\n",
      "224        1\n",
      "Name: cat_21, dtype: int64\n"
     ]
    }
   ],
   "source": [
    "print_full(pd.value_counts(test['cat_21']))"
   ]
  },
  {
   "cell_type": "code",
   "execution_count": 97,
   "metadata": {
    "collapsed": true
   },
   "outputs": [],
   "source": [
    "train['cat_21']=['cat1' if i<=20 else('cat2' if i<=500 else 'cat3') for i in train['cat_21'].values]\n",
    "test['cat_21']=['cat1' if i<=20 else('cat2' if i<=500 else 'cat3') for i in test['cat_21'].values]"
   ]
  },
  {
   "cell_type": "code",
   "execution_count": 98,
   "metadata": {},
   "outputs": [
    {
     "data": {
      "text/html": [
       "<div>\n",
       "<style>\n",
       "    .dataframe thead tr:only-child th {\n",
       "        text-align: right;\n",
       "    }\n",
       "\n",
       "    .dataframe thead th {\n",
       "        text-align: left;\n",
       "    }\n",
       "\n",
       "    .dataframe tbody tr th {\n",
       "        vertical-align: top;\n",
       "    }\n",
       "</style>\n",
       "<table border=\"1\" class=\"dataframe\">\n",
       "  <thead>\n",
       "    <tr style=\"text-align: right;\">\n",
       "      <th>target</th>\n",
       "      <th>0</th>\n",
       "      <th>1</th>\n",
       "      <th>2</th>\n",
       "    </tr>\n",
       "    <tr>\n",
       "      <th>cat_21</th>\n",
       "      <th></th>\n",
       "      <th></th>\n",
       "      <th></th>\n",
       "    </tr>\n",
       "  </thead>\n",
       "  <tbody>\n",
       "    <tr>\n",
       "      <th>cat1</th>\n",
       "      <td>27232</td>\n",
       "      <td>28773</td>\n",
       "      <td>10179</td>\n",
       "    </tr>\n",
       "    <tr>\n",
       "      <th>cat2</th>\n",
       "      <td>6757</td>\n",
       "      <td>4792</td>\n",
       "      <td>2444</td>\n",
       "    </tr>\n",
       "    <tr>\n",
       "      <th>cat3</th>\n",
       "      <td>64879</td>\n",
       "      <td>20</td>\n",
       "      <td>24231</td>\n",
       "    </tr>\n",
       "  </tbody>\n",
       "</table>\n",
       "</div>"
      ],
      "text/plain": [
       "target      0      1      2\n",
       "cat_21                     \n",
       "cat1    27232  28773  10179\n",
       "cat2     6757   4792   2444\n",
       "cat3    64879     20  24231"
      ]
     },
     "execution_count": 98,
     "metadata": {},
     "output_type": "execute_result"
    }
   ],
   "source": [
    "pd.crosstab(train['cat_21'],train['target'])"
   ]
  },
  {
   "cell_type": "markdown",
   "metadata": {},
   "source": [
    "# cat_22"
   ]
  },
  {
   "cell_type": "code",
   "execution_count": 100,
   "metadata": {},
   "outputs": [
    {
     "name": "stdout",
     "output_type": "stream",
     "text": [
      "target      0      1      2     All\n",
      "cat_22                             \n",
      "0           0      1      0       1\n",
      "1         185    623     62     870\n",
      "2         131    502     44     677\n",
      "3          18    432      8     458\n",
      "4          17    354      8     379\n",
      "5          10    322      3     335\n",
      "6           4    314      1     319\n",
      "7           5    282      5     292\n",
      "8           3    278      2     283\n",
      "9           4    267      3     274\n",
      "10          2    261      2     265\n",
      "11          2    252      1     255\n",
      "12          0    241      1     242\n",
      "13          2    213      0     215\n",
      "14          2    217      0     219\n",
      "15          0    221      0     221\n",
      "16          1    206      0     207\n",
      "17          3    203      0     206\n",
      "18          0    184      2     186\n",
      "19          1    168      1     170\n",
      "20          2    173      0     175\n",
      "21          2    174      1     177\n",
      "22          0    186      0     186\n",
      "23          3    183      0     186\n",
      "24          1    176      1     178\n",
      "25          1    167      0     168\n",
      "26          4    168      0     172\n",
      "27          1    140      0     141\n",
      "28          0    151      1     152\n",
      "29          1    172      0     173\n",
      "30          3    124      0     127\n",
      "31          1    152      0     153\n",
      "32          2    134      0     136\n",
      "33          0    112      0     112\n",
      "34          2    131      0     133\n",
      "35          1    132      0     133\n",
      "36          1    121      2     124\n",
      "37          2    104      0     106\n",
      "38          1    124      0     125\n",
      "39          2    120      1     123\n",
      "40          2    115      0     117\n",
      "41          0    118      0     118\n",
      "42          0    118      0     118\n",
      "43          1    122      0     123\n",
      "44          0     91      0      91\n",
      "45          1    129      0     130\n",
      "46          1    108      0     109\n",
      "47          1     94      0      95\n",
      "48          0     90      0      90\n",
      "49          1    111      1     113\n",
      "50          2     93      0      95\n",
      "51          1     99      0     100\n",
      "52          0    110      0     110\n",
      "53          0     90      0      90\n",
      "54          2    108      0     110\n",
      "55          1     88      0      89\n",
      "56          0     93      0      93\n",
      "57          3    100      0     103\n",
      "58          1     87      1      89\n",
      "59          1     99      1     101\n",
      "60          1     91      0      92\n",
      "61          1    101      0     102\n",
      "62          2     97      0      99\n",
      "63          0     88      0      88\n",
      "64          0     76      0      76\n",
      "65          0     83      1      84\n",
      "66          1     73      0      74\n",
      "67          1     89      0      90\n",
      "68          1     75      0      76\n",
      "69          1     85      1      87\n",
      "70          1     84      0      85\n",
      "71          1     96      0      97\n",
      "72          0     82      0      82\n",
      "73          0     67      0      67\n",
      "74          1     67      0      68\n",
      "75          1     67      0      68\n",
      "76          0    102      0     102\n",
      "77          0     87      0      87\n",
      "78          0     75      0      75\n",
      "79          1     91      0      92\n",
      "80          0     73      0      73\n",
      "81          2     71      1      74\n",
      "82          1     80      0      81\n",
      "83          0     80      0      80\n",
      "84          0     70      0      70\n",
      "85          0     67      0      67\n",
      "86          0     80      0      80\n",
      "87          1     70      0      71\n",
      "88          1     81      0      82\n",
      "89          0     65      0      65\n",
      "90          1     57      1      59\n",
      "91          0     64      0      64\n",
      "92          1     70      0      71\n",
      "93          0     64      1      65\n",
      "94          0     89      0      89\n",
      "95          0     54      0      54\n",
      "96          1     71      1      73\n",
      "97          1     66      1      68\n",
      "98          2     68      0      70\n",
      "99          0     56      0      56\n",
      "100         1     64      0      65\n",
      "101         0     68      1      69\n",
      "102         0     54      1      55\n",
      "103         0     61      0      61\n",
      "104         0     57      0      57\n",
      "105         0     59      0      59\n",
      "106         1     57      0      58\n",
      "107         1     55      0      56\n",
      "108         0     60      0      60\n",
      "109         2     68      1      71\n",
      "110         2     77      0      79\n",
      "111         2     61      0      63\n",
      "112         1     53      0      54\n",
      "113         0     61      0      61\n",
      "114         0     64      1      65\n",
      "115         1     64      0      65\n",
      "116         0     63      0      63\n",
      "117         2     60      1      63\n",
      "118         0     78      0      78\n",
      "119         1     52      0      53\n",
      "120         0     47      0      47\n",
      "121         0     58      1      59\n",
      "122         1     55      1      57\n",
      "123         0     54      0      54\n",
      "124         2     55      1      58\n",
      "125         0     56      0      56\n",
      "126         1     52      0      53\n",
      "127         0     59      0      59\n",
      "128         2     53      0      55\n",
      "129         0     51      1      52\n",
      "130         0     41      0      41\n",
      "131         1     48      0      49\n",
      "132         1     55      0      56\n",
      "133         2     54      0      56\n",
      "134         0     49      0      49\n",
      "135         0     51      0      51\n",
      "136         0     34      0      34\n",
      "137         0     40      0      40\n",
      "138         1     49      0      50\n",
      "139         1     51      0      52\n",
      "140         1     49      0      50\n",
      "141         2     59      0      61\n",
      "142         0     43      1      44\n",
      "143         1     45      1      47\n",
      "144         0     32      0      32\n",
      "145         2     44      0      46\n",
      "146         0     47      0      47\n",
      "147         0     37      0      37\n",
      "148         1     49      0      50\n",
      "149         0     44      1      45\n",
      "150         0     51      0      51\n",
      "151         0     55      0      55\n",
      "152         0     49      0      49\n",
      "153         0     41      0      41\n",
      "154         0     41      0      41\n",
      "155         0     55      0      55\n",
      "156         1     43      0      44\n",
      "157         1     49      0      50\n",
      "158         2     40      0      42\n",
      "159         0     35      0      35\n",
      "160         1     47      1      49\n",
      "161         1     52      0      53\n",
      "162         0     42      0      42\n",
      "163         2     41      1      44\n",
      "164         1     38      0      39\n",
      "165         1     33      0      34\n",
      "166         0     43      0      43\n",
      "167         1     41      0      42\n",
      "168         0     43      0      43\n",
      "169         0     38      0      38\n",
      "170         0     42      1      43\n",
      "171         0     35      0      35\n",
      "172         1     39      1      41\n",
      "173         0     41      0      41\n",
      "174         1     42      1      44\n",
      "175         1     28      0      29\n",
      "176         1     35      0      36\n",
      "177         0     44      0      44\n",
      "178         1     33      1      35\n",
      "179         1     39      0      40\n",
      "180         1     29      0      30\n",
      "181         2     35      1      38\n",
      "182         0     31      1      32\n",
      "183         2     40      3      45\n",
      "184         0     40      1      41\n",
      "185         0     33      0      33\n",
      "186         1     36      0      37\n",
      "187         1     37      0      38\n",
      "188         0     33      1      34\n",
      "189         1     38      0      39\n",
      "190         0     33      1      34\n",
      "191         0     39      0      39\n",
      "192         0     41      0      41\n",
      "193         0     31      0      31\n",
      "194         1     34      0      35\n",
      "195         0     29      0      29\n",
      "196         0     40      0      40\n",
      "197         0     45      0      45\n",
      "198         0     28      0      28\n",
      "199         0     22      2      24\n",
      "200         0     37      0      37\n",
      "201         0     42      0      42\n",
      "202         1     26      0      27\n",
      "203         1     29      0      30\n",
      "204         1     30      1      32\n",
      "205         0     31      0      31\n",
      "206         2     28      0      30\n",
      "207         0     35      0      35\n",
      "208         0     35      0      35\n",
      "209         1     29      0      30\n",
      "210         0     33      0      33\n",
      "211         0     33      1      34\n",
      "212         0     33      1      34\n",
      "213         2     34      0      36\n",
      "214         0     25      0      25\n",
      "215         0     21      1      22\n",
      "216         0     30      0      30\n",
      "217         0     27      4      31\n",
      "218         1     32      0      33\n",
      "219         3     25      1      29\n",
      "220         0     25      0      25\n",
      "221         1     28      0      29\n",
      "222         0     33      0      33\n",
      "223         0     34      0      34\n",
      "224         1     29      0      30\n",
      "225         1     31      0      32\n",
      "226         3     21      0      24\n",
      "227         0     24      0      24\n",
      "228         1     24      1      26\n",
      "229         1     19      0      20\n",
      "230         1     32      1      34\n",
      "231         2     28      0      30\n",
      "232         1     32      0      33\n",
      "233         1     22      0      23\n",
      "234         2     26      0      28\n",
      "235         2     21      0      23\n",
      "236         2     29      1      32\n",
      "237         0     17      1      18\n",
      "238         2     30      1      33\n",
      "239         0     26      1      27\n",
      "240         3     20      0      23\n",
      "241         0     30      0      30\n",
      "242         0     25      0      25\n",
      "243         0     20      1      21\n",
      "244         1     21      0      22\n",
      "245         1     23      1      25\n",
      "246         2     28      1      31\n",
      "247         1     16      1      18\n",
      "248         1     20      0      21\n",
      "249         0     21      0      21\n",
      "250         1     26      0      27\n",
      "251         1     19      0      20\n",
      "252         1     25      0      26\n",
      "253         0     18      0      18\n",
      "254         0     21      1      22\n",
      "255     98302  13840  36647  148789\n",
      "All     98868  33585  36854  169307\n"
     ]
    }
   ],
   "source": [
    "print_full(pd.crosstab(train['cat_22'],train['target'],margins=True))"
   ]
  },
  {
   "cell_type": "code",
   "execution_count": 103,
   "metadata": {
    "collapsed": true
   },
   "outputs": [],
   "source": [
    "train['cat_22']=['cat1' if i<=254 else 'cat2' for i in train['cat_22'].values]\n",
    "test['cat_22']=['cat1' if i<=254 else 'cat2' for i in test['cat_22'].values]"
   ]
  },
  {
   "cell_type": "code",
   "execution_count": 104,
   "metadata": {},
   "outputs": [
    {
     "data": {
      "text/html": [
       "<div>\n",
       "<style>\n",
       "    .dataframe thead tr:only-child th {\n",
       "        text-align: right;\n",
       "    }\n",
       "\n",
       "    .dataframe thead th {\n",
       "        text-align: left;\n",
       "    }\n",
       "\n",
       "    .dataframe tbody tr th {\n",
       "        vertical-align: top;\n",
       "    }\n",
       "</style>\n",
       "<table border=\"1\" class=\"dataframe\">\n",
       "  <thead>\n",
       "    <tr style=\"text-align: right;\">\n",
       "      <th>target</th>\n",
       "      <th>0</th>\n",
       "      <th>1</th>\n",
       "      <th>2</th>\n",
       "      <th>All</th>\n",
       "    </tr>\n",
       "    <tr>\n",
       "      <th>cat_22</th>\n",
       "      <th></th>\n",
       "      <th></th>\n",
       "      <th></th>\n",
       "      <th></th>\n",
       "    </tr>\n",
       "  </thead>\n",
       "  <tbody>\n",
       "    <tr>\n",
       "      <th>cat1</th>\n",
       "      <td>566</td>\n",
       "      <td>19745</td>\n",
       "      <td>207</td>\n",
       "      <td>20518</td>\n",
       "    </tr>\n",
       "    <tr>\n",
       "      <th>cat2</th>\n",
       "      <td>98302</td>\n",
       "      <td>13840</td>\n",
       "      <td>36647</td>\n",
       "      <td>148789</td>\n",
       "    </tr>\n",
       "    <tr>\n",
       "      <th>All</th>\n",
       "      <td>98868</td>\n",
       "      <td>33585</td>\n",
       "      <td>36854</td>\n",
       "      <td>169307</td>\n",
       "    </tr>\n",
       "  </tbody>\n",
       "</table>\n",
       "</div>"
      ],
      "text/plain": [
       "target      0      1      2     All\n",
       "cat_22                             \n",
       "cat1      566  19745    207   20518\n",
       "cat2    98302  13840  36647  148789\n",
       "All     98868  33585  36854  169307"
      ]
     },
     "execution_count": 104,
     "metadata": {},
     "output_type": "execute_result"
    }
   ],
   "source": [
    "pd.crosstab(train['cat_22'],train['target'],margins=True)"
   ]
  },
  {
   "cell_type": "markdown",
   "metadata": {},
   "source": [
    "# cat_23"
   ]
  },
  {
   "cell_type": "code",
   "execution_count": 105,
   "metadata": {},
   "outputs": [
    {
     "name": "stdout",
     "output_type": "stream",
     "text": [
      "target      0      1      2     All\n",
      "cat_23                             \n",
      "0           0      1      0       1\n",
      "1        2028   1357    754    4139\n",
      "2        1341    490    490    2321\n",
      "3        1296    192    501    1989\n",
      "4        1361    100    456    1917\n",
      "5        1290     73    457    1820\n",
      "6        1327     72    500    1899\n",
      "7        1308     62    476    1846\n",
      "8        1195     70    500    1765\n",
      "9        1308     54    500    1862\n",
      "10       1301     70    478    1849\n",
      "11       1260     52    492    1804\n",
      "12       1308     57    507    1872\n",
      "13       1301     51    460    1812\n",
      "14       1236     60    499    1795\n",
      "15       1245     50    454    1749\n",
      "16       1235     43    491    1769\n",
      "17       1265     51    465    1781\n",
      "18       1297     37    425    1759\n",
      "19       1229     34    480    1743\n",
      "20       1216     40    459    1715\n",
      "21        235     46     83     364\n",
      "22        224     26     95     345\n",
      "23        251     37     84     372\n",
      "24        206     40     71     317\n",
      "25        222     44     87     353\n",
      "26          6     41      2      49\n",
      "27          5     42      0      47\n",
      "28          7     42      1      50\n",
      "29          5     37      3      45\n",
      "30          4     43      0      47\n",
      "31          3     36      3      42\n",
      "32          3     36      0      39\n",
      "33          2     41      3      46\n",
      "34          4     33      4      41\n",
      "35          4     32      2      38\n",
      "36          4     41      2      47\n",
      "37          2     37      0      39\n",
      "38          9     40      2      51\n",
      "39          3     30      1      34\n",
      "40          4     43      1      48\n",
      "41          4     28      2      34\n",
      "42          3     50      2      55\n",
      "43          8     36      1      45\n",
      "44          4     36      0      40\n",
      "45          0     31      2      33\n",
      "46          6     41      2      49\n",
      "47          7     28      2      37\n",
      "48          3     24      1      28\n",
      "49          5     39      1      45\n",
      "50          4     33      0      37\n",
      "51          5     32      2      39\n",
      "52          3     41      0      44\n",
      "53          1     39      1      41\n",
      "54          3     38      1      42\n",
      "55          2     26      1      29\n",
      "56          9     28      1      38\n",
      "57          1     30      2      33\n",
      "58         10     35      2      47\n",
      "59          8     25      3      36\n",
      "60          8     32      3      43\n",
      "61          9     34      0      43\n",
      "62          7     34      3      44\n",
      "63          4     31      4      39\n",
      "64          4     31      3      38\n",
      "65          6     39      0      45\n",
      "66         10     27      2      39\n",
      "67          3     34      1      38\n",
      "68          4     42      0      46\n",
      "69          5     33      1      39\n",
      "70          1     44      1      46\n",
      "71          0     31      2      33\n",
      "72          1     42      0      43\n",
      "73          1     38      1      40\n",
      "74          2     24      2      28\n",
      "75          3     40      0      43\n",
      "76          1     31      1      33\n",
      "77          3     37      0      40\n",
      "78          2     32      0      34\n",
      "79          3     28      0      31\n",
      "80          1     35      0      36\n",
      "81          3     31      2      36\n",
      "82          3     36      0      39\n",
      "83          3     32      0      35\n",
      "84          2     33      3      38\n",
      "85          2     37      0      39\n",
      "86          5     26      3      34\n",
      "87          0     28      0      28\n",
      "88          4     34      1      39\n",
      "89          2     31      1      34\n",
      "90          0     29      3      32\n",
      "91          2     25      0      27\n",
      "92          2     34      1      37\n",
      "93          0     37      1      38\n",
      "94          2     27      1      30\n",
      "95          0     37      0      37\n",
      "96          1     27      1      29\n",
      "97          0     38      0      38\n",
      "98          0     26      1      27\n",
      "99          1     40      0      41\n",
      "100         2     36      0      38\n",
      "101         3     29      1      33\n",
      "102         3     27      0      30\n",
      "103         1     31      0      32\n",
      "104         4     26      0      30\n",
      "105         0     36      0      36\n",
      "106         4     32      1      37\n",
      "107         2     27      0      29\n",
      "108         0     31      0      31\n",
      "109         1     36      0      37\n",
      "110         0     25      2      27\n",
      "111         1     30      2      33\n",
      "112         0     35      0      35\n",
      "113         2     32      2      36\n",
      "114         2     23      2      27\n",
      "115         1     28      0      29\n",
      "116         2     37      0      39\n",
      "117         3     32      0      35\n",
      "118         2     34      0      36\n",
      "119         0     41      2      43\n",
      "120         0     32      0      32\n",
      "121         0     48      0      48\n",
      "122         1     40      0      41\n",
      "123         0     16      1      17\n",
      "124         3     24      0      27\n",
      "125         1     39      0      40\n",
      "126         0     36      0      36\n",
      "127         0     26      0      26\n",
      "128         2     43      0      45\n",
      "129         5     41      0      46\n",
      "130         2     30      0      32\n",
      "131         1     43      0      44\n",
      "132         1     35      2      38\n",
      "133         2     29      0      31\n",
      "134         0     31      1      32\n",
      "135         2     28      3      33\n",
      "136         0     46      0      46\n",
      "137         1     32      0      33\n",
      "138         2     43      0      45\n",
      "139         3     44      0      47\n",
      "140         2     40      1      43\n",
      "141         1     31      1      33\n",
      "142         2     29      0      31\n",
      "143         3     38      1      42\n",
      "144         0     41      0      41\n",
      "145         1     38      0      39\n",
      "146         2     43      2      47\n",
      "147         1     30      1      32\n",
      "148         0     34      1      35\n",
      "149         1     41      0      42\n",
      "150         1     31      0      32\n",
      "151         6     40      1      47\n",
      "152         1     44      0      45\n",
      "153         1     41      0      42\n",
      "154         1     27      0      28\n",
      "155         1     33      1      35\n",
      "156         2     34      0      36\n",
      "157         1     31      0      32\n",
      "158         1     33      0      34\n",
      "159         1     28      1      30\n",
      "160         2     24      2      28\n",
      "161         1     36      1      38\n",
      "162         4     41      1      46\n",
      "163         1     30      0      31\n",
      "164         0     33      1      34\n",
      "165         1     34      0      35\n",
      "166         0     50      0      50\n",
      "167         1     41      0      42\n",
      "168         1     40      0      41\n",
      "169         0     40      0      40\n",
      "170         0     43      0      43\n",
      "171         0     45      0      45\n",
      "172         2     25      1      28\n",
      "173         1     39      1      41\n",
      "174         1     30      0      31\n",
      "175         0     36      0      36\n",
      "176         0     33      1      34\n",
      "177         0     33      0      33\n",
      "178         0     24      0      24\n",
      "179         3     39      0      42\n",
      "180         1     33      0      34\n",
      "181         2     26      0      28\n",
      "182         1     35      0      36\n",
      "183         0     27      0      27\n",
      "184         1     30      0      31\n",
      "185         1     27      0      28\n",
      "186         1     31      0      32\n",
      "187         1     30      0      31\n",
      "188         1     38      0      39\n",
      "189         1     11      0      12\n",
      "190         1     28      0      29\n",
      "191         0     24      1      25\n",
      "192         0     35      0      35\n",
      "193         1     18      0      19\n",
      "194         0     32      0      32\n",
      "195         1     25      1      27\n",
      "196         1     32      2      35\n",
      "197         0     25      0      25\n",
      "198         0     22      0      22\n",
      "199         1     20      3      24\n",
      "200         0     29      1      30\n",
      "201         0     30      0      30\n",
      "202         0     28      0      28\n",
      "203         0     31      0      31\n",
      "204         1     31      1      33\n",
      "205         0     24      0      24\n",
      "206         2     27      0      29\n",
      "207         0     23      0      23\n",
      "208         0     38      0      38\n",
      "209         0     21      1      22\n",
      "210         2     33      0      35\n",
      "211         2     22      3      27\n",
      "212         0     23      0      23\n",
      "213         0     34      0      34\n",
      "214         0     21      1      22\n",
      "215         2     34      3      39\n",
      "216         0     30      0      30\n",
      "217         2     37      1      40\n",
      "218         0     18      1      19\n",
      "219         1     56      2      59\n",
      "220         1     38      0      39\n",
      "221         1     50      0      51\n",
      "222         2     50      1      53\n",
      "223         0     47      0      47\n",
      "224         3     44      0      47\n",
      "225         2     78      0      80\n",
      "226         2     44      0      46\n",
      "227         0     71      1      72\n",
      "228         0     90      0      90\n",
      "229         3     93      0      96\n",
      "230         2     96      0      98\n",
      "231         4    121      1     126\n",
      "232         1     87      0      88\n",
      "233         1    114      3     118\n",
      "234         2    120      0     122\n",
      "235         0    148      1     149\n",
      "236         0    107      0     107\n",
      "237         3    117      1     121\n",
      "238         2    117      0     119\n",
      "239         1    149      0     150\n",
      "240         2    158      0     160\n",
      "241         0    190      0     190\n",
      "242         1    152      0     153\n",
      "243         1    124      1     126\n",
      "244         6    158      0     164\n",
      "245        22    205      3     230\n",
      "246        85    128     22     235\n",
      "247        26    133     17     176\n",
      "248         8    116      5     129\n",
      "249         6    185      1     192\n",
      "250         7    222      1     230\n",
      "251         4    240      2     246\n",
      "252        13    190     12     215\n",
      "253        61    366     22     449\n",
      "254       171    544     76     791\n",
      "255     70546  19047  26270  115863\n",
      "All     98868  33585  36854  169307\n"
     ]
    }
   ],
   "source": [
    "print_full(pd.crosstab(train['cat_23'],train['target'],margins=True))\n",
    "#<=25 and <=254 and else"
   ]
  },
  {
   "cell_type": "code",
   "execution_count": 106,
   "metadata": {
    "collapsed": true
   },
   "outputs": [],
   "source": [
    "train['cat_23']=['cat1' if i<=25 else('cat2' if i<=254 else 'cat3') for i in train['cat_23'].values]\n",
    "test['cat_23']=['cat1' if i<=25 else('cat2' if i<=254 else 'cat3') for i in test['cat_23'].values]"
   ]
  },
  {
   "cell_type": "code",
   "execution_count": 107,
   "metadata": {},
   "outputs": [
    {
     "data": {
      "text/html": [
       "<div>\n",
       "<style>\n",
       "    .dataframe thead tr:only-child th {\n",
       "        text-align: right;\n",
       "    }\n",
       "\n",
       "    .dataframe thead th {\n",
       "        text-align: left;\n",
       "    }\n",
       "\n",
       "    .dataframe tbody tr th {\n",
       "        vertical-align: top;\n",
       "    }\n",
       "</style>\n",
       "<table border=\"1\" class=\"dataframe\">\n",
       "  <thead>\n",
       "    <tr style=\"text-align: right;\">\n",
       "      <th>target</th>\n",
       "      <th>0</th>\n",
       "      <th>1</th>\n",
       "      <th>2</th>\n",
       "      <th>All</th>\n",
       "    </tr>\n",
       "    <tr>\n",
       "      <th>cat_23</th>\n",
       "      <th></th>\n",
       "      <th></th>\n",
       "      <th></th>\n",
       "      <th></th>\n",
       "    </tr>\n",
       "  </thead>\n",
       "  <tbody>\n",
       "    <tr>\n",
       "      <th>cat1</th>\n",
       "      <td>27485</td>\n",
       "      <td>3209</td>\n",
       "      <td>10264</td>\n",
       "      <td>40958</td>\n",
       "    </tr>\n",
       "    <tr>\n",
       "      <th>cat2</th>\n",
       "      <td>837</td>\n",
       "      <td>11329</td>\n",
       "      <td>320</td>\n",
       "      <td>12486</td>\n",
       "    </tr>\n",
       "    <tr>\n",
       "      <th>cat3</th>\n",
       "      <td>70546</td>\n",
       "      <td>19047</td>\n",
       "      <td>26270</td>\n",
       "      <td>115863</td>\n",
       "    </tr>\n",
       "    <tr>\n",
       "      <th>All</th>\n",
       "      <td>98868</td>\n",
       "      <td>33585</td>\n",
       "      <td>36854</td>\n",
       "      <td>169307</td>\n",
       "    </tr>\n",
       "  </tbody>\n",
       "</table>\n",
       "</div>"
      ],
      "text/plain": [
       "target      0      1      2     All\n",
       "cat_23                             \n",
       "cat1    27485   3209  10264   40958\n",
       "cat2      837  11329    320   12486\n",
       "cat3    70546  19047  26270  115863\n",
       "All     98868  33585  36854  169307"
      ]
     },
     "execution_count": 107,
     "metadata": {},
     "output_type": "execute_result"
    }
   ],
   "source": [
    "pd.crosstab(train['cat_23'],train['target'],margins=True)"
   ]
  },
  {
   "cell_type": "code",
   "execution_count": null,
   "metadata": {
    "collapsed": true
   },
   "outputs": [],
   "source": []
  },
  {
   "cell_type": "markdown",
   "metadata": {},
   "source": [
    "# Encoding Techniques "
   ]
  },
  {
   "cell_type": "code",
   "execution_count": 26,
   "metadata": {
    "collapsed": true
   },
   "outputs": [],
   "source": [
    "import category_encoders as ce\n",
    "\n",
    "# encoder = ce.BackwardDifferenceEncoder(cols=[...])\n",
    "# encoder = ce.BinaryEncoder(cols=[...])\n",
    "# encoder = ce.HashingEncoder(cols=[...])\n",
    "# encoder = ce.HelmertEncoder(cols=[...])\n",
    "# encoder = ce.OneHotEncoder(cols=[...])\n",
    "# encoder = ce.OrdinalEncoder(cols=[...])\n",
    "# encoder = ce.SumEncoder(cols=[...])\n",
    "# encoder = ce.PolynomialEncoder(cols=[...])\n",
    "\n",
    "# encoder.fit(X, y)\n",
    "# X_cleaned = encoder.transform(X_dirty)"
   ]
  },
  {
   "cell_type": "code",
   "execution_count": null,
   "metadata": {
    "collapsed": true
   },
   "outputs": [],
   "source": []
  },
  {
   "cell_type": "code",
   "execution_count": 114,
   "metadata": {},
   "outputs": [
    {
     "name": "stdout",
     "output_type": "stream",
     "text": [
      "    col_0_0       col_0_1   col_0_2\n",
      "0       1.0 -7.071068e-01  0.408248\n",
      "1       1.0 -7.071068e-01  0.408248\n",
      "2       1.0 -7.071068e-01  0.408248\n",
      "3       1.0 -7.071068e-01  0.408248\n",
      "4       1.0 -7.071068e-01  0.408248\n",
      "5       1.0 -7.071068e-01  0.408248\n",
      "6       1.0 -5.551115e-17 -0.816497\n",
      "7       1.0 -7.071068e-01  0.408248\n",
      "8       1.0  7.071068e-01  0.408248\n",
      "9       1.0  7.071068e-01  0.408248\n",
      "10      1.0 -7.071068e-01  0.408248\n",
      "11      1.0 -5.551115e-17 -0.816497\n",
      "12      1.0  7.071068e-01  0.408248\n",
      "13      1.0 -5.551115e-17 -0.816497\n",
      "14      1.0 -7.071068e-01  0.408248\n",
      "15      1.0 -7.071068e-01  0.408248\n",
      "16      1.0 -5.551115e-17 -0.816497\n",
      "17      1.0 -5.551115e-17 -0.816497\n",
      "18      1.0 -7.071068e-01  0.408248\n",
      "19      1.0  7.071068e-01  0.408248 \n",
      "\n",
      "    col_0_0       col_0_1   col_0_2\n",
      "0      1.0 -5.551115e-17 -0.816497\n",
      "1      1.0 -7.071068e-01  0.408248\n",
      "2      1.0 -7.071068e-01  0.408248\n",
      "3      1.0 -7.071068e-01  0.408248\n",
      "4      1.0 -7.071068e-01  0.408248 \n",
      "\n",
      "------------------------------------------------\n",
      "\n",
      "\n",
      "    col_0_0   col_0_1\n",
      "0       1.0 -0.707107\n",
      "1       1.0 -0.707107\n",
      "2       1.0 -0.707107\n",
      "3       1.0 -0.707107\n",
      "4       1.0 -0.707107\n",
      "5       1.0 -0.707107\n",
      "6       1.0 -0.707107\n",
      "7       1.0 -0.707107\n",
      "8       1.0  0.707107\n",
      "9       1.0 -0.707107\n",
      "10      1.0 -0.707107\n",
      "11      1.0 -0.707107\n",
      "12      1.0  0.707107\n",
      "13      1.0 -0.707107\n",
      "14      1.0 -0.707107\n",
      "15      1.0 -0.707107\n",
      "16      1.0 -0.707107\n",
      "17      1.0 -0.707107\n",
      "18      1.0 -0.707107\n",
      "19      1.0 -0.707107 \n",
      "\n",
      "    col_0_0   col_0_1\n",
      "0      1.0 -0.707107\n",
      "1      1.0 -0.707107\n",
      "2      1.0 -0.707107\n",
      "3      1.0 -0.707107\n",
      "4      1.0 -0.707107 \n",
      "\n",
      "------------------------------------------------\n",
      "\n",
      "\n",
      "    col_0_0       col_0_1   col_0_2\n",
      "0       1.0 -7.071068e-01  0.408248\n",
      "1       1.0 -7.071068e-01  0.408248\n",
      "2       1.0 -7.071068e-01  0.408248\n",
      "3       1.0 -7.071068e-01  0.408248\n",
      "4       1.0 -7.071068e-01  0.408248\n",
      "5       1.0 -7.071068e-01  0.408248\n",
      "6       1.0 -5.551115e-17 -0.816497\n",
      "7       1.0 -7.071068e-01  0.408248\n",
      "8       1.0  7.071068e-01  0.408248\n",
      "9       1.0 -5.551115e-17 -0.816497\n",
      "10      1.0 -7.071068e-01  0.408248\n",
      "11      1.0 -5.551115e-17 -0.816497\n",
      "12      1.0  7.071068e-01  0.408248\n",
      "13      1.0 -5.551115e-17 -0.816497\n",
      "14      1.0 -7.071068e-01  0.408248\n",
      "15      1.0 -7.071068e-01  0.408248\n",
      "16      1.0 -5.551115e-17 -0.816497\n",
      "17      1.0 -5.551115e-17 -0.816497\n",
      "18      1.0 -7.071068e-01  0.408248\n",
      "19      1.0 -5.551115e-17 -0.816497 \n",
      "\n",
      "    col_0_0       col_0_1   col_0_2\n",
      "0      1.0 -5.551115e-17 -0.816497\n",
      "1      1.0 -7.071068e-01  0.408248\n",
      "2      1.0 -7.071068e-01  0.408248\n",
      "3      1.0 -7.071068e-01  0.408248\n",
      "4      1.0 -7.071068e-01  0.408248 \n",
      "\n",
      "------------------------------------------------\n",
      "\n",
      "\n",
      "    col_0_0       col_0_1   col_0_2\n",
      "0       1.0 -7.071068e-01  0.408248\n",
      "1       1.0 -7.071068e-01  0.408248\n",
      "2       1.0 -7.071068e-01  0.408248\n",
      "3       1.0 -7.071068e-01  0.408248\n",
      "4       1.0 -7.071068e-01  0.408248\n",
      "5       1.0 -7.071068e-01  0.408248\n",
      "6       1.0 -5.551115e-17 -0.816497\n",
      "7       1.0 -7.071068e-01  0.408248\n",
      "8       1.0 -5.551115e-17 -0.816497\n",
      "9       1.0 -5.551115e-17 -0.816497\n",
      "10      1.0 -7.071068e-01  0.408248\n",
      "11      1.0 -5.551115e-17 -0.816497\n",
      "12      1.0 -5.551115e-17 -0.816497\n",
      "13      1.0 -5.551115e-17 -0.816497\n",
      "14      1.0 -7.071068e-01  0.408248\n",
      "15      1.0 -7.071068e-01  0.408248\n",
      "16      1.0 -5.551115e-17 -0.816497\n",
      "17      1.0 -5.551115e-17 -0.816497\n",
      "18      1.0 -7.071068e-01  0.408248\n",
      "19      1.0 -5.551115e-17 -0.816497 \n",
      "\n",
      "    col_0_0       col_0_1   col_0_2\n",
      "0      1.0 -5.551115e-17 -0.816497\n",
      "1      1.0 -7.071068e-01  0.408248\n",
      "2      1.0 -7.071068e-01  0.408248\n",
      "3      1.0 -7.071068e-01  0.408248\n",
      "4      1.0 -7.071068e-01  0.408248 \n",
      "\n",
      "------------------------------------------------\n",
      "\n",
      "\n",
      "    col_0_0   col_0_1\n",
      "0       1.0 -0.707107\n",
      "1       1.0 -0.707107\n",
      "2       1.0 -0.707107\n",
      "3       1.0 -0.707107\n",
      "4       1.0 -0.707107\n",
      "5       1.0 -0.707107\n",
      "6       1.0 -0.707107\n",
      "7       1.0 -0.707107\n",
      "8       1.0 -0.707107\n",
      "9       1.0 -0.707107\n",
      "10      1.0 -0.707107\n",
      "11      1.0  0.707107\n",
      "12      1.0 -0.707107\n",
      "13      1.0 -0.707107\n",
      "14      1.0 -0.707107\n",
      "15      1.0 -0.707107\n",
      "16      1.0 -0.707107\n",
      "17      1.0  0.707107\n",
      "18      1.0 -0.707107\n",
      "19      1.0 -0.707107 \n",
      "\n",
      "    col_0_0   col_0_1\n",
      "0      1.0 -0.707107\n",
      "1      1.0 -0.707107\n",
      "2      1.0 -0.707107\n",
      "3      1.0 -0.707107\n",
      "4      1.0 -0.707107 \n",
      "\n",
      "------------------------------------------------\n",
      "\n",
      "\n",
      "    col_0_0       col_0_1   col_0_2\n",
      "0       1.0 -7.071068e-01  0.408248\n",
      "1       1.0 -7.071068e-01  0.408248\n",
      "2       1.0 -7.071068e-01  0.408248\n",
      "3       1.0 -7.071068e-01  0.408248\n",
      "4       1.0 -7.071068e-01  0.408248\n",
      "5       1.0 -7.071068e-01  0.408248\n",
      "6       1.0 -7.071068e-01  0.408248\n",
      "7       1.0 -7.071068e-01  0.408248\n",
      "8       1.0 -5.551115e-17 -0.816497\n",
      "9       1.0  7.071068e-01  0.408248\n",
      "10      1.0 -7.071068e-01  0.408248\n",
      "11      1.0 -7.071068e-01  0.408248\n",
      "12      1.0 -5.551115e-17 -0.816497\n",
      "13      1.0 -7.071068e-01  0.408248\n",
      "14      1.0 -7.071068e-01  0.408248\n",
      "15      1.0 -7.071068e-01  0.408248\n",
      "16      1.0 -7.071068e-01  0.408248\n",
      "17      1.0 -7.071068e-01  0.408248\n",
      "18      1.0 -7.071068e-01  0.408248\n",
      "19      1.0 -5.551115e-17 -0.816497 \n",
      "\n",
      "    col_0_0   col_0_1   col_0_2\n",
      "0      1.0 -0.707107  0.408248\n",
      "1      1.0 -0.707107  0.408248\n",
      "2      1.0 -0.707107  0.408248\n",
      "3      1.0 -0.707107  0.408248\n",
      "4      1.0 -0.707107  0.408248 \n",
      "\n",
      "------------------------------------------------\n",
      "\n",
      "\n"
     ]
    }
   ],
   "source": [
    "#cat_20 qcut_bins=5,cat_21 bins=7,cat_22 bins=8,cat_23 bins=3,cat_2 bins=6,cat_3 bins=5\n",
    "for i in ['cat_2','cat_3','cat_20','cat_21','cat_22','cat_23']:\n",
    "    encoder=ce.PolynomialEncoder()\n",
    "    encoder.fit(train[i].values)\n",
    "    ter,tes=pd.DataFrame(),pd.DataFrame()\n",
    "    ter=encoder.transform(train[i].values)\n",
    "    tes=encoder.transform(test[i].values)\n",
    "    print(ter.head(20),'\\n\\n',tes.head(),'\\n\\n------------------------------------------------\\n\\n')\n",
    "#     print(max(ter[0]),min(ter[0]),max(tes[0]),min(tes[0]))"
   ]
  },
  {
   "cell_type": "code",
   "execution_count": null,
   "metadata": {
    "collapsed": true
   },
   "outputs": [],
   "source": []
  },
  {
   "cell_type": "code",
   "execution_count": null,
   "metadata": {
    "collapsed": true
   },
   "outputs": [],
   "source": []
  },
  {
   "cell_type": "code",
   "execution_count": null,
   "metadata": {
    "collapsed": true
   },
   "outputs": [],
   "source": []
  }
 ],
 "metadata": {
  "kernelspec": {
   "display_name": "Python 3",
   "language": "python",
   "name": "python3"
  },
  "language_info": {
   "codemirror_mode": {
    "name": "ipython",
    "version": 3
   },
   "file_extension": ".py",
   "mimetype": "text/x-python",
   "name": "python",
   "nbconvert_exporter": "python",
   "pygments_lexer": "ipython3",
   "version": "3.6.2"
  }
 },
 "nbformat": 4,
 "nbformat_minor": 2
}
